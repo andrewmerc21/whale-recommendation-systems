{
 "cells": [
  {
   "cell_type": "code",
   "execution_count": 267,
   "metadata": {},
   "outputs": [],
   "source": [
    "import pandas as pd\n",
    "import matplotlib.pyplot as plt\n",
    "import numpy as np\n",
    "import ipaddress\n",
    "from datetime import datetime\n",
    "import time\n",
    "import keras\n",
    "import re\n",
    "from sklearn import preprocessing\n",
    "from sklearn.preprocessing import StandardScaler\n",
    "from sklearn.feature_extraction import DictVectorizer as DV"
   ]
  },
  {
   "cell_type": "code",
   "execution_count": 395,
   "metadata": {
    "scrolled": true
   },
   "outputs": [
    {
     "name": "stderr",
     "output_type": "stream",
     "text": [
      "b'Skipping line 10780784: expected 10 fields, saw 11\\nSkipping line 10793876: expected 10 fields, saw 11\\n'\n",
      "b'Skipping line 10821923: expected 10 fields, saw 11\\n'\n",
      "/Users/Elena/anaconda3/lib/python3.6/site-packages/IPython/core/interactiveshell.py:2698: DtypeWarning: Columns (2) have mixed types. Specify dtype option on import or set low_memory=False.\n",
      "  interactivity=interactivity, compiler=compiler, result=result)\n"
     ]
    }
   ],
   "source": [
    "data = pd.read_csv(\"./data_full.csv\", sep = \";\", error_bad_lines=False)"
   ]
  },
  {
   "cell_type": "code",
   "execution_count": 466,
   "metadata": {
    "collapsed": true
   },
   "outputs": [],
   "source": [
    "catalog = pd.read_csv(\"./catalog.csv\", sep = \";\", error_bad_lines=False)"
   ]
  },
  {
   "cell_type": "code",
   "execution_count": 270,
   "metadata": {
    "scrolled": true
   },
   "outputs": [
    {
     "data": {
      "text/html": [
       "<div>\n",
       "<style>\n",
       "    .dataframe thead tr:only-child th {\n",
       "        text-align: right;\n",
       "    }\n",
       "\n",
       "    .dataframe thead th {\n",
       "        text-align: left;\n",
       "    }\n",
       "\n",
       "    .dataframe tbody tr th {\n",
       "        vertical-align: top;\n",
       "    }\n",
       "</style>\n",
       "<table border=\"1\" class=\"dataframe\">\n",
       "  <thead>\n",
       "    <tr style=\"text-align: right;\">\n",
       "      <th></th>\n",
       "      <th>timestamp</th>\n",
       "      <th>ip</th>\n",
       "      <th>track_id</th>\n",
       "      <th>cookie</th>\n",
       "      <th>live</th>\n",
       "      <th>user_id</th>\n",
       "      <th>referer</th>\n",
       "      <th>uagent</th>\n",
       "      <th>rightholder</th>\n",
       "      <th>author_id</th>\n",
       "    </tr>\n",
       "  </thead>\n",
       "  <tbody>\n",
       "    <tr>\n",
       "      <th>0</th>\n",
       "      <td>1517778000</td>\n",
       "      <td>230.59.74.120</td>\n",
       "      <td>10912114</td>\n",
       "      <td>42536dc7a8578b0cfac05f704977429a</td>\n",
       "      <td>0</td>\n",
       "      <td>NaN</td>\n",
       "      <td>https%3A%2F%2Frutube.ru%2Fvideo%2F0f5c9c5839b1...</td>\n",
       "      <td>Mozilla/5.0 (Windows NT 6.1; Win64; x64) Apple...</td>\n",
       "      <td>2</td>\n",
       "      <td>1480930</td>\n",
       "    </tr>\n",
       "    <tr>\n",
       "      <th>1</th>\n",
       "      <td>1517778000</td>\n",
       "      <td>218.222.225.36</td>\n",
       "      <td>10885813</td>\n",
       "      <td>8f92f3f2b1e7a2498761b8cb3b1d03c3</td>\n",
       "      <td>0</td>\n",
       "      <td>NaN</td>\n",
       "      <td>https%3A%2F%2Frutube.ru%2Fvideo%2Fd8068436dcf5...</td>\n",
       "      <td>Mozilla/5.0 (Windows NT 5.1) AppleWebKit/537.3...</td>\n",
       "      <td>2</td>\n",
       "      <td>301323</td>\n",
       "    </tr>\n",
       "    <tr>\n",
       "      <th>2</th>\n",
       "      <td>1517778000</td>\n",
       "      <td>55.63.241.224</td>\n",
       "      <td>6948236</td>\n",
       "      <td>336d5ebc5436534e61d16e63ddfca327</td>\n",
       "      <td>-</td>\n",
       "      <td>2.231332e+09</td>\n",
       "      <td>http%3A%2F%2Fandroid.rutube.ru%2F</td>\n",
       "      <td>okhttp/2.6.0</td>\n",
       "      <td>-</td>\n",
       "      <td>-</td>\n",
       "    </tr>\n",
       "    <tr>\n",
       "      <th>3</th>\n",
       "      <td>1517778000</td>\n",
       "      <td>230.34.98.99</td>\n",
       "      <td>8481402</td>\n",
       "      <td>cf8dd809edf104873a1c57921b34f25e</td>\n",
       "      <td>0</td>\n",
       "      <td>NaN</td>\n",
       "      <td>https%3A%2F%2Frutube.ru%2Fvideo%2F1058cf249e46...</td>\n",
       "      <td>Mozilla/5.0 (Linux; Android 7.1.2; Redmi 4X Bu...</td>\n",
       "      <td>NaN</td>\n",
       "      <td>721346</td>\n",
       "    </tr>\n",
       "    <tr>\n",
       "      <th>4</th>\n",
       "      <td>1517778000</td>\n",
       "      <td>232.3.41.226</td>\n",
       "      <td>10908060</td>\n",
       "      <td>4ca525a1d60de6d74e3c32529fe47ab5</td>\n",
       "      <td>0</td>\n",
       "      <td>NaN</td>\n",
       "      <td>https%3A%2F%2Fyastatic.net%2Fvideo-player%2F0x...</td>\n",
       "      <td>Mozilla/5.0 (Windows NT 10.0; Win64; x64) Appl...</td>\n",
       "      <td>135</td>\n",
       "      <td>599848</td>\n",
       "    </tr>\n",
       "  </tbody>\n",
       "</table>\n",
       "</div>"
      ],
      "text/plain": [
       "    timestamp              ip  track_id                            cookie  \\\n",
       "0  1517778000   230.59.74.120  10912114  42536dc7a8578b0cfac05f704977429a   \n",
       "1  1517778000  218.222.225.36  10885813  8f92f3f2b1e7a2498761b8cb3b1d03c3   \n",
       "2  1517778000   55.63.241.224   6948236  336d5ebc5436534e61d16e63ddfca327   \n",
       "3  1517778000    230.34.98.99   8481402  cf8dd809edf104873a1c57921b34f25e   \n",
       "4  1517778000    232.3.41.226  10908060  4ca525a1d60de6d74e3c32529fe47ab5   \n",
       "\n",
       "  live       user_id                                            referer  \\\n",
       "0    0           NaN  https%3A%2F%2Frutube.ru%2Fvideo%2F0f5c9c5839b1...   \n",
       "1    0           NaN  https%3A%2F%2Frutube.ru%2Fvideo%2Fd8068436dcf5...   \n",
       "2    -  2.231332e+09                  http%3A%2F%2Fandroid.rutube.ru%2F   \n",
       "3    0           NaN  https%3A%2F%2Frutube.ru%2Fvideo%2F1058cf249e46...   \n",
       "4    0           NaN  https%3A%2F%2Fyastatic.net%2Fvideo-player%2F0x...   \n",
       "\n",
       "                                              uagent rightholder author_id  \n",
       "0  Mozilla/5.0 (Windows NT 6.1; Win64; x64) Apple...           2   1480930  \n",
       "1  Mozilla/5.0 (Windows NT 5.1) AppleWebKit/537.3...           2    301323  \n",
       "2                                       okhttp/2.6.0           -         -  \n",
       "3  Mozilla/5.0 (Linux; Android 7.1.2; Redmi 4X Bu...         NaN    721346  \n",
       "4  Mozilla/5.0 (Windows NT 10.0; Win64; x64) Appl...         135    599848  "
      ]
     },
     "execution_count": 270,
     "metadata": {},
     "output_type": "execute_result"
    }
   ],
   "source": [
    "data.head()"
   ]
  },
  {
   "cell_type": "code",
   "execution_count": 271,
   "metadata": {},
   "outputs": [
    {
     "data": {
      "text/html": [
       "<div>\n",
       "<style>\n",
       "    .dataframe thead tr:only-child th {\n",
       "        text-align: right;\n",
       "    }\n",
       "\n",
       "    .dataframe thead th {\n",
       "        text-align: left;\n",
       "    }\n",
       "\n",
       "    .dataframe tbody tr th {\n",
       "        vertical-align: top;\n",
       "    }\n",
       "</style>\n",
       "<table border=\"1\" class=\"dataframe\">\n",
       "  <thead>\n",
       "    <tr style=\"text-align: right;\">\n",
       "      <th></th>\n",
       "      <th>idec</th>\n",
       "      <th>track_id</th>\n",
       "      <th>video_id</th>\n",
       "      <th>series_id</th>\n",
       "      <th>title</th>\n",
       "      <th>season</th>\n",
       "      <th>episode</th>\n",
       "      <th>episode_global</th>\n",
       "      <th>date_efir</th>\n",
       "      <th>duration</th>\n",
       "    </tr>\n",
       "  </thead>\n",
       "  <tbody>\n",
       "    <tr>\n",
       "      <th>0</th>\n",
       "      <td>PR592505</td>\n",
       "      <td>10258734</td>\n",
       "      <td>cd59084eb50e6ebe9fe20ad04e0c17db</td>\n",
       "      <td>10456854280</td>\n",
       "      <td>\\tБыть или не быть, 1 сезон, 1 серия</td>\n",
       "      <td>1</td>\n",
       "      <td>1</td>\n",
       "      <td>1</td>\n",
       "      <td>02.04.2017 22:00:34</td>\n",
       "      <td>null</td>\n",
       "    </tr>\n",
       "    <tr>\n",
       "      <th>1</th>\n",
       "      <td>PR609630</td>\n",
       "      <td>10843255</td>\n",
       "      <td>a5d2e6bae4752d9ec0fae9b53f00700d</td>\n",
       "      <td>10592468551</td>\n",
       "      <td>NaN</td>\n",
       "      <td>11</td>\n",
       "      <td>1</td>\n",
       "      <td>1</td>\n",
       "      <td>null</td>\n",
       "      <td>null</td>\n",
       "    </tr>\n",
       "    <tr>\n",
       "      <th>2</th>\n",
       "      <td>PR597128</td>\n",
       "      <td>10573153</td>\n",
       "      <td>bcd45606c1f7cbb5cb9d1dbd7d346cc3</td>\n",
       "      <td>10479562619</td>\n",
       "      <td>NaN</td>\n",
       "      <td>7</td>\n",
       "      <td>1</td>\n",
       "      <td>1</td>\n",
       "      <td>06.09.2017 22:46:05</td>\n",
       "      <td>null</td>\n",
       "    </tr>\n",
       "    <tr>\n",
       "      <th>3</th>\n",
       "      <td>PR257331</td>\n",
       "      <td>6617650</td>\n",
       "      <td>609217ac7b8c4e55d44c4a29bf52554b</td>\n",
       "      <td>null</td>\n",
       "      <td>\"Интерны. История болезни\"</td>\n",
       "      <td>null</td>\n",
       "      <td>null</td>\n",
       "      <td>null</td>\n",
       "      <td>12.06.2012 22:00:44</td>\n",
       "      <td>null</td>\n",
       "    </tr>\n",
       "    <tr>\n",
       "      <th>4</th>\n",
       "      <td>PR529698</td>\n",
       "      <td>7991493</td>\n",
       "      <td>bde3620ba038b3e8dd41d03bf516a7eb</td>\n",
       "      <td>10241019893</td>\n",
       "      <td>#ЖАННАПОЖЕНИ</td>\n",
       "      <td>1</td>\n",
       "      <td>1</td>\n",
       "      <td>101</td>\n",
       "      <td>05.09.2015 13:30:00</td>\n",
       "      <td>null</td>\n",
       "    </tr>\n",
       "  </tbody>\n",
       "</table>\n",
       "</div>"
      ],
      "text/plain": [
       "       idec  track_id                          video_id    series_id  \\\n",
       "0  PR592505  10258734  cd59084eb50e6ebe9fe20ad04e0c17db  10456854280   \n",
       "1  PR609630  10843255  a5d2e6bae4752d9ec0fae9b53f00700d  10592468551   \n",
       "2  PR597128  10573153  bcd45606c1f7cbb5cb9d1dbd7d346cc3  10479562619   \n",
       "3  PR257331   6617650  609217ac7b8c4e55d44c4a29bf52554b         null   \n",
       "4  PR529698   7991493  bde3620ba038b3e8dd41d03bf516a7eb  10241019893   \n",
       "\n",
       "                                  title season episode episode_global  \\\n",
       "0  \\tБыть или не быть, 1 сезон, 1 серия      1       1              1   \n",
       "1                                   NaN     11       1              1   \n",
       "2                                   NaN      7       1              1   \n",
       "3            \"Интерны. История болезни\"   null    null           null   \n",
       "4                          #ЖАННАПОЖЕНИ      1       1            101   \n",
       "\n",
       "             date_efir duration  \n",
       "0  02.04.2017 22:00:34     null  \n",
       "1                 null     null  \n",
       "2  06.09.2017 22:46:05     null  \n",
       "3  12.06.2012 22:00:44     null  \n",
       "4  05.09.2015 13:30:00     null  "
      ]
     },
     "execution_count": 271,
     "metadata": {},
     "output_type": "execute_result"
    }
   ],
   "source": [
    "catalog.head()"
   ]
  },
  {
   "cell_type": "code",
   "execution_count": 242,
   "metadata": {
    "collapsed": true
   },
   "outputs": [],
   "source": [
    "def add_device(df):\n",
    "    regexpDesktop = re.compile('(Windows|Linux|Mozilla)')\n",
    "    regexpMobile = re.compile('(iPhone|RutubeAndroid|okhttp|CFNetwork|UCBrowser)')\n",
    "    regexpTablet = re.compile('(iPad)')\n",
    "    \n",
    "    df['device'] = pd.Series('0', index=df.index)\n",
    "    \n",
    "    for i, row in df.iterrows():\n",
    "        try:\n",
    "            if regexpDesktop.search(df['uagent'].iloc[i]):\n",
    "                df['device'][i] = 'desktop'\n",
    "            elif regexpMobile.search(df['uagent'].iloc[i]):\n",
    "                df['device'][i] = 'mobile'\n",
    "            elif regexpTablet.search(df['uagent'].iloc[i]):\n",
    "                df['device'][i] = 'mobile'\n",
    "        except:\n",
    "            pass\n",
    "            \n",
    "    return df"
   ]
  },
  {
   "cell_type": "code",
   "execution_count": 243,
   "metadata": {
    "collapsed": true
   },
   "outputs": [],
   "source": [
    "def mergeData(data1, data2, field):\n",
    "    data1[field] = pd.to_numeric(data1[field], errors = 'coerce')\n",
    "    data2[field] = pd.to_numeric(data2[field], errors = 'coerce')\n",
    "    return pd.merge(data1, data2, left_on=field, right_on=field)"
   ]
  },
  {
   "cell_type": "code",
   "execution_count": 244,
   "metadata": {
    "collapsed": true
   },
   "outputs": [],
   "source": [
    "def convIpToNumber(data):\n",
    "    return data.apply(lambda x: int(ipaddress.IPv4Address(x)))"
   ]
  },
  {
   "cell_type": "code",
   "execution_count": 245,
   "metadata": {
    "collapsed": true
   },
   "outputs": [],
   "source": [
    "def applyDate(x):\n",
    "    try:\n",
    "        data = time.strptime(x, \"%d.%m.%Y %H:%M:%S\")\n",
    "        return int(time.mktime(data))\n",
    "    except:\n",
    "        return 1e-6"
   ]
  },
  {
   "cell_type": "code",
   "execution_count": 246,
   "metadata": {
    "collapsed": true
   },
   "outputs": [],
   "source": [
    "def confDateStringToTimestamp(data):\n",
    "    return data.apply(lambda x: applyDate(x))"
   ]
  },
  {
   "cell_type": "code",
   "execution_count": 247,
   "metadata": {
    "collapsed": true
   },
   "outputs": [],
   "source": [
    "def filter_users_with_n_views(data, user_column = \"ip\", seq_len = 4):\n",
    "    by_user = data.groupby(user_column)\n",
    "    by_user = by_user.filter(lambda x: len(x) >= seq_len)\n",
    "    return by_user\n",
    "\n",
    "def extract_sequences_by_user(data, user_column = \"ip\"):\n",
    "    return data.groupby(user_column)"
   ]
  },
  {
   "cell_type": "code",
   "execution_count": 248,
   "metadata": {
    "collapsed": true
   },
   "outputs": [],
   "source": [
    "def filter_videos_with_n_views(data, n = 1000):\n",
    "    data[\"track_id\"] = pd.to_numeric(data[\"track_id\"], errors = 'coerce', downcast = 'integer')\n",
    "    data = data[data[\"track_id\"].notnull()]\n",
    "    data_top_n = data.groupby(\"track_id\").filter(lambda x: len(x) >= n)\n",
    "    return data_top_n"
   ]
  },
  {
   "cell_type": "code",
   "execution_count": 249,
   "metadata": {
    "collapsed": true
   },
   "outputs": [],
   "source": [
    "# data['ip'] = convIpToNumber(data['ip'])"
   ]
  },
  {
   "cell_type": "code",
   "execution_count": 250,
   "metadata": {
    "collapsed": true
   },
   "outputs": [],
   "source": [
    "# data_top_n = filter_videos_with_n_views(data)\n",
    "# print(len(data_top_n))"
   ]
  },
  {
   "cell_type": "code",
   "execution_count": 251,
   "metadata": {
    "collapsed": true
   },
   "outputs": [],
   "source": [
    "# prepared = filter_users_with_n_views(data_top_n)\n",
    "# print(len(prepared))"
   ]
  },
  {
   "cell_type": "code",
   "execution_count": 258,
   "metadata": {
    "collapsed": true
   },
   "outputs": [],
   "source": [
    "numeric_cols = [ 'series_id', 'device', 'idec', 'author_id']\n",
    "\n",
    "def label_encoder(data):\n",
    "    le = preprocessing.LabelEncoder()\n",
    "    le.fit(data)\n",
    "    return le\n",
    "\n",
    "def create_cat_vectorizer(data):\n",
    "    \n",
    "    cat = data.drop( numeric_cols, axis = 1 )\n",
    "    cat.fillna( 'NA', inplace = True )\n",
    "    x_cat = cat.to_dict( orient = 'records' )\n",
    "    \n",
    "    vectorizer = DV( sparse = False )\n",
    "    vectorizer.fit(x_cat)\n",
    "    \n",
    "    return vectorizer\n",
    "\n",
    "def cat_vectorize(data, vectorizer):\n",
    "    \n",
    "    cat = data.drop( numeric_cols, axis = 1 )\n",
    "    cat.fillna( 'NA', inplace = True )\n",
    "    x_cat = cat.to_dict( orient = 'records' )\n",
    "    \n",
    "    return vectorizer.transform(data)\n",
    "    "
   ]
  },
  {
   "cell_type": "code",
   "execution_count": 253,
   "metadata": {
    "collapsed": true
   },
   "outputs": [],
   "source": [
    "def replace_null_value(x):\n",
    "    if (x == 'null'):\n",
    "        return 0\n",
    "    else:\n",
    "        return x\n",
    "\n",
    "def data_scale(data):\n",
    "    scaler = StandardScaler()\n",
    "    data.fillna(0, inplace = True )\n",
    "    data = data.apply(lambda x: replace_null_value(x))\n",
    "    print(data)\n",
    "    data = scaler.fit_transform(data.reshape(-1, 1))\n",
    "    return data"
   ]
  },
  {
   "cell_type": "code",
   "execution_count": 254,
   "metadata": {
    "collapsed": true
   },
   "outputs": [],
   "source": [
    "def data_to_num_and_cat(data):\n",
    "    data['date_efir'] = data_scale(data['date_efir'])\n",
    "    data['duration'] = data_scale(data['duration'])\n",
    "    return data"
   ]
  },
  {
   "cell_type": "code",
   "execution_count": 255,
   "metadata": {
    "scrolled": true
   },
   "outputs": [
    {
     "name": "stdout",
     "output_type": "stream",
     "text": [
      "7142931\n",
      "4903997\n",
      "0          1517774400\n",
      "1          1517774400\n",
      "2          1517774400\n",
      "3          1517774400\n",
      "4          1517774400\n",
      "5          1517774400\n",
      "6          1517774400\n",
      "7          1517774400\n",
      "8          1517774400\n",
      "9          1517774400\n",
      "10         1517774400\n",
      "11         1517774400\n",
      "12         1517774400\n",
      "13         1517774400\n",
      "14         1517774400\n",
      "15         1517774400\n",
      "16         1517774400\n",
      "17         1517774400\n",
      "18         1517774400\n",
      "19         1517774400\n",
      "20         1517774400\n",
      "21         1517774400\n",
      "22         1517774400\n",
      "23         1517774400\n",
      "24         1517774400\n",
      "25         1517774400\n",
      "26         1517774400\n",
      "27         1517774400\n",
      "28         1517774400\n",
      "29         1517774400\n",
      "              ...    \n",
      "4259450    1518933300\n",
      "4259451    1518933300\n",
      "4259452    1518933300\n",
      "4259453    1518933300\n",
      "4259454    1518933300\n",
      "4259455    1518933300\n",
      "4259456    1518933300\n",
      "4259457    1518933300\n",
      "4259458    1518933300\n",
      "4259459    1518933300\n",
      "4259460    1518933300\n",
      "4259461    1518933300\n",
      "4259462    1518933300\n",
      "4259463    1518933300\n",
      "4259464    1518933300\n",
      "4259465    1518933300\n",
      "4259466    1518933300\n",
      "4259467    1518933300\n",
      "4259468    1518933300\n",
      "4259469    1518933300\n",
      "4259470    1518933300\n",
      "4259471    1518933300\n",
      "4259472    1518933300\n",
      "4259473    1518933300\n",
      "4259474    1518933300\n",
      "4259475    1518933300\n",
      "4259476    1518933300\n",
      "4259477    1518933300\n",
      "4259478    1518933300\n",
      "4259479    1518933300\n",
      "Name: date_efir, Length: 4259480, dtype: int64\n"
     ]
    },
    {
     "name": "stderr",
     "output_type": "stream",
     "text": [
      "/Users/Elena/anaconda3/lib/python3.6/site-packages/ipykernel_launcher.py:12: FutureWarning: reshape is deprecated and will raise in a subsequent release. Please use .values.reshape(...) instead\n",
      "  if sys.path[0] == '':\n",
      "/Users/Elena/anaconda3/lib/python3.6/site-packages/sklearn/utils/validation.py:558: DataConversionWarning: Data with input dtype int64 was converted to float64 by StandardScaler.\n",
      "  warnings.warn(msg, DataConversionWarning)\n",
      "/Users/Elena/anaconda3/lib/python3.6/site-packages/sklearn/utils/validation.py:558: DataConversionWarning: Data with input dtype int64 was converted to float64 by StandardScaler.\n",
      "  warnings.warn(msg, DataConversionWarning)\n"
     ]
    },
    {
     "name": "stdout",
     "output_type": "stream",
     "text": [
      "0          2948\n",
      "1          2948\n",
      "2          2948\n",
      "3          2948\n",
      "4          2948\n",
      "5          2948\n",
      "6          2948\n",
      "7          2948\n",
      "8          2948\n",
      "9          2948\n",
      "10         2948\n",
      "11         2948\n",
      "12         2948\n",
      "13         2948\n",
      "14         2948\n",
      "15         2948\n",
      "16         2948\n",
      "17         2948\n",
      "18         2948\n",
      "19         2948\n",
      "20         2948\n",
      "21         2948\n",
      "22         2948\n",
      "23         2948\n",
      "24         2948\n",
      "25         2948\n",
      "26         2948\n",
      "27         2948\n",
      "28         2948\n",
      "29         2948\n",
      "           ... \n",
      "4259450    2795\n",
      "4259451    2795\n",
      "4259452    2795\n",
      "4259453    2795\n",
      "4259454    2795\n",
      "4259455    2795\n",
      "4259456    2795\n",
      "4259457    2795\n",
      "4259458    2795\n",
      "4259459    2795\n",
      "4259460    2795\n",
      "4259461    2795\n",
      "4259462    2795\n",
      "4259463    2795\n",
      "4259464    2795\n",
      "4259465    2795\n",
      "4259466    2795\n",
      "4259467    2795\n",
      "4259468    2795\n",
      "4259469    2795\n",
      "4259470    2795\n",
      "4259471    2795\n",
      "4259472    2795\n",
      "4259473    2795\n",
      "4259474    2795\n",
      "4259475    2795\n",
      "4259476    2795\n",
      "4259477    2795\n",
      "4259478    2795\n",
      "4259479    2795\n",
      "Name: duration, Length: 4259480, dtype: object\n"
     ]
    },
    {
     "name": "stderr",
     "output_type": "stream",
     "text": [
      "/Users/Elena/anaconda3/lib/python3.6/site-packages/ipykernel_launcher.py:12: FutureWarning: reshape is deprecated and will raise in a subsequent release. Please use .values.reshape(...) instead\n",
      "  if sys.path[0] == '':\n",
      "/Users/Elena/anaconda3/lib/python3.6/site-packages/sklearn/utils/validation.py:558: DataConversionWarning: Data with input dtype object was converted to float64 by StandardScaler.\n",
      "  warnings.warn(msg, DataConversionWarning)\n",
      "/Users/Elena/anaconda3/lib/python3.6/site-packages/sklearn/utils/validation.py:558: DataConversionWarning: Data with input dtype object was converted to float64 by StandardScaler.\n",
      "  warnings.warn(msg, DataConversionWarning)\n"
     ]
    }
   ],
   "source": [
    "def prepare_data(data, catalog):\n",
    "    \n",
    "    data['ip'] = convIpToNumber(data['ip'])\n",
    "    \n",
    "    data = filter_videos_with_n_views(data)\n",
    "    print(len(data_top_n))\n",
    "    \n",
    "    data = filter_users_with_n_views(data)\n",
    "    print(len(data))\n",
    "    \n",
    "    data = mergeData(data, catalog, \"track_id\")\n",
    "    \n",
    "    data['date_efir'] = confDateStringToTimestamp(data['date_efir'])\n",
    "    \n",
    "    data = data_to_num_and_cat(data)\n",
    "    \n",
    "    return data\n",
    "\n",
    "prepared = prepare_data(data, catalog)"
   ]
  },
  {
   "cell_type": "code",
   "execution_count": 259,
   "metadata": {},
   "outputs": [
    {
     "ename": "ValueError",
     "evalue": "labels ['device'] not contained in axis",
     "output_type": "error",
     "traceback": [
      "\u001b[0;31m---------------------------------------------------------------------------\u001b[0m",
      "\u001b[0;31mValueError\u001b[0m                                Traceback (most recent call last)",
      "\u001b[0;32m<ipython-input-259-6ca5aca13496>\u001b[0m in \u001b[0;36m<module>\u001b[0;34m()\u001b[0m\n\u001b[0;32m----> 1\u001b[0;31m \u001b[0mcat_vectorizer\u001b[0m \u001b[0;34m=\u001b[0m \u001b[0mcreate_cat_vectorizer\u001b[0m\u001b[0;34m(\u001b[0m\u001b[0mprepared\u001b[0m\u001b[0;34m)\u001b[0m\u001b[0;34m\u001b[0m\u001b[0m\n\u001b[0m\u001b[1;32m      2\u001b[0m \u001b[0mprint\u001b[0m\u001b[0;34m(\u001b[0m\u001b[0mcat_vectorize\u001b[0m\u001b[0;34m(\u001b[0m\u001b[0mdata\u001b[0m\u001b[0;34m.\u001b[0m\u001b[0mhead\u001b[0m\u001b[0;34m(\u001b[0m\u001b[0;36m5\u001b[0m\u001b[0;34m)\u001b[0m\u001b[0;34m,\u001b[0m \u001b[0mcat_vectorizer\u001b[0m\u001b[0;34m)\u001b[0m\u001b[0;34m)\u001b[0m\u001b[0;34m\u001b[0m\u001b[0m\n",
      "\u001b[0;32m<ipython-input-258-85be218c1efb>\u001b[0m in \u001b[0;36mcreate_cat_vectorizer\u001b[0;34m(data)\u001b[0m\n\u001b[1;32m      8\u001b[0m \u001b[0;32mdef\u001b[0m \u001b[0mcreate_cat_vectorizer\u001b[0m\u001b[0;34m(\u001b[0m\u001b[0mdata\u001b[0m\u001b[0;34m)\u001b[0m\u001b[0;34m:\u001b[0m\u001b[0;34m\u001b[0m\u001b[0m\n\u001b[1;32m      9\u001b[0m \u001b[0;34m\u001b[0m\u001b[0m\n\u001b[0;32m---> 10\u001b[0;31m     \u001b[0mcat\u001b[0m \u001b[0;34m=\u001b[0m \u001b[0mdata\u001b[0m\u001b[0;34m.\u001b[0m\u001b[0mdrop\u001b[0m\u001b[0;34m(\u001b[0m \u001b[0mnumeric_cols\u001b[0m\u001b[0;34m,\u001b[0m \u001b[0maxis\u001b[0m \u001b[0;34m=\u001b[0m \u001b[0;36m1\u001b[0m \u001b[0;34m)\u001b[0m\u001b[0;34m\u001b[0m\u001b[0m\n\u001b[0m\u001b[1;32m     11\u001b[0m     \u001b[0mcat\u001b[0m\u001b[0;34m.\u001b[0m\u001b[0mfillna\u001b[0m\u001b[0;34m(\u001b[0m \u001b[0;34m'NA'\u001b[0m\u001b[0;34m,\u001b[0m \u001b[0minplace\u001b[0m \u001b[0;34m=\u001b[0m \u001b[0;32mTrue\u001b[0m \u001b[0;34m)\u001b[0m\u001b[0;34m\u001b[0m\u001b[0m\n\u001b[1;32m     12\u001b[0m     \u001b[0mx_cat\u001b[0m \u001b[0;34m=\u001b[0m \u001b[0mcat\u001b[0m\u001b[0;34m.\u001b[0m\u001b[0mto_dict\u001b[0m\u001b[0;34m(\u001b[0m \u001b[0morient\u001b[0m \u001b[0;34m=\u001b[0m \u001b[0;34m'records'\u001b[0m \u001b[0;34m)\u001b[0m\u001b[0;34m\u001b[0m\u001b[0m\n",
      "\u001b[0;32m~/anaconda3/lib/python3.6/site-packages/pandas/core/generic.py\u001b[0m in \u001b[0;36mdrop\u001b[0;34m(self, labels, axis, level, inplace, errors)\u001b[0m\n\u001b[1;32m   2159\u001b[0m                 \u001b[0mnew_axis\u001b[0m \u001b[0;34m=\u001b[0m \u001b[0maxis\u001b[0m\u001b[0;34m.\u001b[0m\u001b[0mdrop\u001b[0m\u001b[0;34m(\u001b[0m\u001b[0mlabels\u001b[0m\u001b[0;34m,\u001b[0m \u001b[0mlevel\u001b[0m\u001b[0;34m=\u001b[0m\u001b[0mlevel\u001b[0m\u001b[0;34m,\u001b[0m \u001b[0merrors\u001b[0m\u001b[0;34m=\u001b[0m\u001b[0merrors\u001b[0m\u001b[0;34m)\u001b[0m\u001b[0;34m\u001b[0m\u001b[0m\n\u001b[1;32m   2160\u001b[0m             \u001b[0;32melse\u001b[0m\u001b[0;34m:\u001b[0m\u001b[0;34m\u001b[0m\u001b[0m\n\u001b[0;32m-> 2161\u001b[0;31m                 \u001b[0mnew_axis\u001b[0m \u001b[0;34m=\u001b[0m \u001b[0maxis\u001b[0m\u001b[0;34m.\u001b[0m\u001b[0mdrop\u001b[0m\u001b[0;34m(\u001b[0m\u001b[0mlabels\u001b[0m\u001b[0;34m,\u001b[0m \u001b[0merrors\u001b[0m\u001b[0;34m=\u001b[0m\u001b[0merrors\u001b[0m\u001b[0;34m)\u001b[0m\u001b[0;34m\u001b[0m\u001b[0m\n\u001b[0m\u001b[1;32m   2162\u001b[0m             \u001b[0mdropped\u001b[0m \u001b[0;34m=\u001b[0m \u001b[0mself\u001b[0m\u001b[0;34m.\u001b[0m\u001b[0mreindex\u001b[0m\u001b[0;34m(\u001b[0m\u001b[0;34m**\u001b[0m\u001b[0;34m{\u001b[0m\u001b[0maxis_name\u001b[0m\u001b[0;34m:\u001b[0m \u001b[0mnew_axis\u001b[0m\u001b[0;34m}\u001b[0m\u001b[0;34m)\u001b[0m\u001b[0;34m\u001b[0m\u001b[0m\n\u001b[1;32m   2163\u001b[0m             \u001b[0;32mtry\u001b[0m\u001b[0;34m:\u001b[0m\u001b[0;34m\u001b[0m\u001b[0m\n",
      "\u001b[0;32m~/anaconda3/lib/python3.6/site-packages/pandas/core/indexes/base.py\u001b[0m in \u001b[0;36mdrop\u001b[0;34m(self, labels, errors)\u001b[0m\n\u001b[1;32m   3622\u001b[0m             \u001b[0;32mif\u001b[0m \u001b[0merrors\u001b[0m \u001b[0;34m!=\u001b[0m \u001b[0;34m'ignore'\u001b[0m\u001b[0;34m:\u001b[0m\u001b[0;34m\u001b[0m\u001b[0m\n\u001b[1;32m   3623\u001b[0m                 raise ValueError('labels %s not contained in axis' %\n\u001b[0;32m-> 3624\u001b[0;31m                                  labels[mask])\n\u001b[0m\u001b[1;32m   3625\u001b[0m             \u001b[0mindexer\u001b[0m \u001b[0;34m=\u001b[0m \u001b[0mindexer\u001b[0m\u001b[0;34m[\u001b[0m\u001b[0;34m~\u001b[0m\u001b[0mmask\u001b[0m\u001b[0;34m]\u001b[0m\u001b[0;34m\u001b[0m\u001b[0m\n\u001b[1;32m   3626\u001b[0m         \u001b[0;32mreturn\u001b[0m \u001b[0mself\u001b[0m\u001b[0;34m.\u001b[0m\u001b[0mdelete\u001b[0m\u001b[0;34m(\u001b[0m\u001b[0mindexer\u001b[0m\u001b[0;34m)\u001b[0m\u001b[0;34m\u001b[0m\u001b[0m\n",
      "\u001b[0;31mValueError\u001b[0m: labels ['device'] not contained in axis"
     ]
    }
   ],
   "source": [
    "cat_vectorizer = create_cat_vectorizer(prepared)\n",
    "print(cat_vectorize(data.head(5), cat_vectorizer))"
   ]
  },
  {
   "cell_type": "code",
   "execution_count": null,
   "metadata": {
    "collapsed": true
   },
   "outputs": [],
   "source": [
    "track_ids = prepared[\"track_id\"]\n",
    "\n",
    "vocab_size = track_ids.nunique()\n",
    "\n",
    "le = label_encoder(track_ids.values)\n",
    "\n",
    "print(le.transform(track_ids.values[0:5]))\n",
    "print(vocab_size)"
   ]
  },
  {
   "cell_type": "code",
   "execution_count": null,
   "metadata": {},
   "outputs": [],
   "source": [
    "def create_x_video_vectors(x, vocab_size):\n",
    "    x = x[\"track_id\"].values\n",
    "    x = le.transform(x)\n",
    "    x = x.astype(np.int32)\n",
    "#     x = np.expand_dims(x, axis=0).astype(np.int32)\n",
    "#     x = keras.utils.to_categorical(x, vocab_size)\n",
    "    return x\n",
    "\n",
    "    #     return np.repeat(np.expand_dims(x[\"track_id\"].values, axis=0), len(x), axis = 0).reshape(len(x), len(x))\n",
    "\n",
    "def create_x_num_cut_vectors(x):\n",
    "    vec_x_cat = cat_vectorizer.transform(x, cat_vectorizer)\n",
    "    print(vec_x_cat)\n",
    "    x_num = data[x].as_matrix()\n",
    "    print(x_num)\n",
    "    return np.hstack(x_num, vec_x_cat)\n",
    "\n",
    "def create_x(x, vocab_size):\n",
    "    return [create_x_video_vectors(x, vocab_size).astype(np.int32), create_x_num_cut_vectors(x)]\n",
    "    \n",
    "print(create_x(prepared.head(3), vocab_size))"
   ]
  },
  {
   "cell_type": "code",
   "execution_count": null,
   "metadata": {},
   "outputs": [],
   "source": [
    "# one_hot = one_hot_encoder(prepared, \"track_id\", vocab_size)\n",
    "\n",
    "def create_y(y, vocab_size):\n",
    "    y = y[\"track_id\"].values\n",
    "    y = le.transform(y)\n",
    "    if (len(y) == 0):\n",
    "        return np.zeros(vocab_size)\n",
    "#     y = one_hot.transform(y[\"track_id\"][y[\"track_id\"].notnull()].values, axis = 1).toarray()\n",
    "#     y = np.expand_dims(y, axis=0).astype(np.int32)\n",
    "    return np.max(keras.utils.to_categorical(y, vocab_size), axis = 0)\n",
    "\n",
    "print(create_y(prepared.head(3), vocab_size))"
   ]
  },
  {
   "cell_type": "code",
   "execution_count": null,
   "metadata": {
    "collapsed": true
   },
   "outputs": [],
   "source": [
    "def steps(data, batch_size = 20):\n",
    "    return data[\"ip\"].nunique() / batch_size"
   ]
  },
  {
   "cell_type": "code",
   "execution_count": null,
   "metadata": {},
   "outputs": [],
   "source": [
    "def train_generator(seq_by_user, x_len = 4, batch_size = 20):\n",
    "    \n",
    "    step = 0\n",
    "    \n",
    "    seq_len = len(seq_by_user)\n",
    "    \n",
    "    x_list = []\n",
    "    y_list = []\n",
    "    \n",
    "    iterator = iter(seq_by_user)\n",
    "    \n",
    "    while(True):\n",
    "        ip, group = next(iterator)\n",
    "        \n",
    "        group = group.sort_values(\"timestamp\")\n",
    "        x = create_x(group[0:x_len], vocab_size)\n",
    "        y = create_y(group[x_len:min(x_len + 4, len(group))], vocab_size)\n",
    "        \n",
    "        x_list.append(x)\n",
    "        y_list.append(y)\n",
    "        \n",
    "        step = step + 1\n",
    "        \n",
    "        if (step % batch_size == 0 or step >= seq_len):\n",
    "            batch = (np.array(x_list), np.array(y_list))\n",
    "            x_list = []\n",
    "            y_list = []\n",
    "            yield (batch)\n",
    "            \n",
    "        if (step >= seq_len):\n",
    "            iterator = iter(seq_by_user)\n",
    "            step = 0\n",
    "        \n",
    "generation = next(train_generator(extract_sequences_by_user(prepared)))\n",
    "print(generation[0].shape)\n",
    "print(generation[1].shape)\n",
    "print(generation[0])\n",
    "print(generation[1])"
   ]
  },
  {
   "cell_type": "code",
   "execution_count": null,
   "metadata": {
    "collapsed": true
   },
   "outputs": [],
   "source": [
    "# test_seq = extract_sequences_by_user(prepared[:100])\n",
    "# test_gen = train_generator(test_seq, 3)\n",
    "# for i in steps(test_seq, 3) * 2:\n",
    "#     print(next(test_gen))"
   ]
  },
  {
   "cell_type": "code",
   "execution_count": null,
   "metadata": {
    "collapsed": true
   },
   "outputs": [],
   "source": [
    "def add_train_flag(data):\n",
    "    split_val = prepared[\"ip\"].quantile(.8)\n",
    "    print(split_val)\n",
    "    prepared[\"train\"] = prepared[\"ip\"] < split_val\n",
    "    \n",
    "def train_test_split(data):\n",
    "    add_train_flag(data)\n",
    "    return (prepared[prepared[\"train\"] == True], prepared[prepared[\"train\"] == False])"
   ]
  },
  {
   "cell_type": "code",
   "execution_count": null,
   "metadata": {},
   "outputs": [],
   "source": [
    "train, test = train_test_split(prepared)\n",
    "print(len(train))\n",
    "print(len(test))"
   ]
  },
  {
   "cell_type": "code",
   "execution_count": null,
   "metadata": {},
   "outputs": [],
   "source": [
    "print(steps(train))\n",
    "print(steps(test))"
   ]
  },
  {
   "cell_type": "code",
   "execution_count": 29,
   "metadata": {},
   "outputs": [
    {
     "name": "stdout",
     "output_type": "stream",
     "text": [
      "_________________________________________________________________\n",
      "Layer (type)                 Output Shape              Param #   \n",
      "=================================================================\n",
      "input_1 (InputLayer)         (None, 4)                 0         \n",
      "_________________________________________________________________\n",
      "embedding_1 (Embedding)      (None, 4, 100)            95500     \n",
      "_________________________________________________________________\n",
      "cu_dnngru_1 (CuDNNGRU)       (None, 4, 128)            88320     \n",
      "_________________________________________________________________\n",
      "cu_dnngru_2 (CuDNNGRU)       (None, 128)               99072     \n",
      "_________________________________________________________________\n",
      "dense_1 (Dense)              (None, 512)               66048     \n",
      "_________________________________________________________________\n",
      "dropout_1 (Dropout)          (None, 512)               0         \n",
      "_________________________________________________________________\n",
      "dense_2 (Dense)              (None, 955)               489915    \n",
      "=================================================================\n",
      "Total params: 838,855\n",
      "Trainable params: 838,855\n",
      "Non-trainable params: 0\n",
      "_________________________________________________________________\n",
      "Epoch 1/3\n",
      "8472/8471 [==============================] - 729s 86ms/step - loss: 0.0232 - top_k_categorical_accuracy: 0.1858 - val_loss: 0.0228 - val_top_k_categorical_accuracy: 0.1916\n",
      "Epoch 2/3\n",
      " 428/8471 [>.............................] - ETA: 9:00 - loss: 0.0239 - top_k_categorical_accuracy: 0.1850"
     ]
    },
    {
     "ename": "KeyboardInterrupt",
     "evalue": "",
     "output_type": "error",
     "traceback": [
      "\u001b[1;31m---------------------------------------------------------------------------\u001b[0m",
      "\u001b[1;31mKeyboardInterrupt\u001b[0m                         Traceback (most recent call last)",
      "\u001b[1;32m<ipython-input-29-389031ff3485>\u001b[0m in \u001b[0;36m<module>\u001b[1;34m()\u001b[0m\n\u001b[0;32m     26\u001b[0m \u001b[0mmodel\u001b[0m\u001b[1;33m.\u001b[0m\u001b[0msummary\u001b[0m\u001b[1;33m(\u001b[0m\u001b[1;33m)\u001b[0m\u001b[1;33m\u001b[0m\u001b[0m\n\u001b[0;32m     27\u001b[0m \u001b[1;33m\u001b[0m\u001b[0m\n\u001b[1;32m---> 28\u001b[1;33m \u001b[0mmodel\u001b[0m\u001b[1;33m.\u001b[0m\u001b[0mfit_generator\u001b[0m\u001b[1;33m(\u001b[0m\u001b[0mtrain_generator\u001b[0m\u001b[1;33m(\u001b[0m\u001b[0mextract_sequences_by_user\u001b[0m\u001b[1;33m(\u001b[0m\u001b[0mtrain\u001b[0m\u001b[1;33m)\u001b[0m\u001b[1;33m,\u001b[0m \u001b[0mbatch_size\u001b[0m\u001b[1;33m=\u001b[0m\u001b[1;36m50\u001b[0m\u001b[1;33m)\u001b[0m\u001b[1;33m,\u001b[0m \u001b[0msteps_per_epoch\u001b[0m\u001b[1;33m=\u001b[0m\u001b[0msteps\u001b[0m\u001b[1;33m(\u001b[0m\u001b[0mtrain\u001b[0m\u001b[1;33m,\u001b[0m \u001b[1;36m50\u001b[0m\u001b[1;33m)\u001b[0m\u001b[1;33m,\u001b[0m \u001b[0mvalidation_data\u001b[0m \u001b[1;33m=\u001b[0m \u001b[0mtrain_generator\u001b[0m\u001b[1;33m(\u001b[0m\u001b[0mextract_sequences_by_user\u001b[0m\u001b[1;33m(\u001b[0m\u001b[0mtest\u001b[0m\u001b[1;33m)\u001b[0m\u001b[1;33m)\u001b[0m\u001b[1;33m,\u001b[0m \u001b[0mvalidation_steps\u001b[0m\u001b[1;33m=\u001b[0m\u001b[0msteps\u001b[0m\u001b[1;33m(\u001b[0m\u001b[0mtest\u001b[0m\u001b[1;33m)\u001b[0m\u001b[1;33m,\u001b[0m \u001b[0mepochs\u001b[0m\u001b[1;33m=\u001b[0m\u001b[1;36m3\u001b[0m\u001b[1;33m,\u001b[0m \u001b[0mverbose\u001b[0m\u001b[1;33m=\u001b[0m\u001b[1;36m1\u001b[0m\u001b[1;33m)\u001b[0m\u001b[1;33m\u001b[0m\u001b[0m\n\u001b[0m\u001b[0;32m     29\u001b[0m \u001b[1;33m\u001b[0m\u001b[0m\n",
      "\u001b[1;32m~\\Anaconda3\\envs\\tensorflow-gpu\\lib\\site-packages\\keras\\legacy\\interfaces.py\u001b[0m in \u001b[0;36mwrapper\u001b[1;34m(*args, **kwargs)\u001b[0m\n\u001b[0;32m     89\u001b[0m                 warnings.warn('Update your `' + object_name +\n\u001b[0;32m     90\u001b[0m                               '` call to the Keras 2 API: ' + signature, stacklevel=2)\n\u001b[1;32m---> 91\u001b[1;33m             \u001b[1;32mreturn\u001b[0m \u001b[0mfunc\u001b[0m\u001b[1;33m(\u001b[0m\u001b[1;33m*\u001b[0m\u001b[0margs\u001b[0m\u001b[1;33m,\u001b[0m \u001b[1;33m**\u001b[0m\u001b[0mkwargs\u001b[0m\u001b[1;33m)\u001b[0m\u001b[1;33m\u001b[0m\u001b[0m\n\u001b[0m\u001b[0;32m     92\u001b[0m         \u001b[0mwrapper\u001b[0m\u001b[1;33m.\u001b[0m\u001b[0m_original_function\u001b[0m \u001b[1;33m=\u001b[0m \u001b[0mfunc\u001b[0m\u001b[1;33m\u001b[0m\u001b[0m\n\u001b[0;32m     93\u001b[0m         \u001b[1;32mreturn\u001b[0m \u001b[0mwrapper\u001b[0m\u001b[1;33m\u001b[0m\u001b[0m\n",
      "\u001b[1;32m~\\Anaconda3\\envs\\tensorflow-gpu\\lib\\site-packages\\keras\\engine\\training.py\u001b[0m in \u001b[0;36mfit_generator\u001b[1;34m(self, generator, steps_per_epoch, epochs, verbose, callbacks, validation_data, validation_steps, class_weight, max_queue_size, workers, use_multiprocessing, shuffle, initial_epoch)\u001b[0m\n\u001b[0;32m   2210\u001b[0m                 \u001b[0mbatch_index\u001b[0m \u001b[1;33m=\u001b[0m \u001b[1;36m0\u001b[0m\u001b[1;33m\u001b[0m\u001b[0m\n\u001b[0;32m   2211\u001b[0m                 \u001b[1;32mwhile\u001b[0m \u001b[0msteps_done\u001b[0m \u001b[1;33m<\u001b[0m \u001b[0msteps_per_epoch\u001b[0m\u001b[1;33m:\u001b[0m\u001b[1;33m\u001b[0m\u001b[0m\n\u001b[1;32m-> 2212\u001b[1;33m                     \u001b[0mgenerator_output\u001b[0m \u001b[1;33m=\u001b[0m \u001b[0mnext\u001b[0m\u001b[1;33m(\u001b[0m\u001b[0moutput_generator\u001b[0m\u001b[1;33m)\u001b[0m\u001b[1;33m\u001b[0m\u001b[0m\n\u001b[0m\u001b[0;32m   2213\u001b[0m \u001b[1;33m\u001b[0m\u001b[0m\n\u001b[0;32m   2214\u001b[0m                     \u001b[1;32mif\u001b[0m \u001b[1;32mnot\u001b[0m \u001b[0mhasattr\u001b[0m\u001b[1;33m(\u001b[0m\u001b[0mgenerator_output\u001b[0m\u001b[1;33m,\u001b[0m \u001b[1;34m'__len__'\u001b[0m\u001b[1;33m)\u001b[0m\u001b[1;33m:\u001b[0m\u001b[1;33m\u001b[0m\u001b[0m\n",
      "\u001b[1;32m~\\Anaconda3\\envs\\tensorflow-gpu\\lib\\site-packages\\keras\\utils\\data_utils.py\u001b[0m in \u001b[0;36mget\u001b[1;34m(self)\u001b[0m\n\u001b[0;32m    771\u001b[0m                     \u001b[1;32mraise\u001b[0m \u001b[0mStopIteration\u001b[0m\u001b[1;33m(\u001b[0m\u001b[1;33m)\u001b[0m\u001b[1;33m\u001b[0m\u001b[0m\n\u001b[0;32m    772\u001b[0m                 \u001b[1;32melse\u001b[0m\u001b[1;33m:\u001b[0m\u001b[1;33m\u001b[0m\u001b[0m\n\u001b[1;32m--> 773\u001b[1;33m                     \u001b[0mtime\u001b[0m\u001b[1;33m.\u001b[0m\u001b[0msleep\u001b[0m\u001b[1;33m(\u001b[0m\u001b[0mself\u001b[0m\u001b[1;33m.\u001b[0m\u001b[0mwait_time\u001b[0m\u001b[1;33m)\u001b[0m\u001b[1;33m\u001b[0m\u001b[0m\n\u001b[0m\u001b[0;32m    774\u001b[0m \u001b[1;33m\u001b[0m\u001b[0m\n\u001b[0;32m    775\u001b[0m         \u001b[1;31m# Make sure to rethrow the first exception in the queue, if any\u001b[0m\u001b[1;33m\u001b[0m\u001b[1;33m\u001b[0m\u001b[0m\n",
      "\u001b[1;31mKeyboardInterrupt\u001b[0m: "
     ]
    }
   ],
   "source": [
    "# vocab_size = 248868\n",
    "# print(vocab_size)\n",
    "\n",
    "emb_input = keras.layers.Input(shape=(4,))\n",
    "\n",
    "num_cut_input = keras.layers.Input(shape=(500,))\n",
    "\n",
    "embedding = keras.layers.Embedding(vocab_size, 100, input_length=4)(emb_input)\n",
    "\n",
    "concat = keras.layers.Concatenate()(num_cut_input, embedding)\n",
    "\n",
    "# avg = keras.layers.Flatten()(keras.layers.AveragePooling1D(pool_size=1)(embedding))\n",
    "\n",
    "#input_num_cat = keras.layers.Input(shape = num_cat_shape)\n",
    "#concat = keras.layers.Concat(embedding, input_num_cat)\n",
    "gru_1 = keras.layers.CuDNNGRU(128, return_sequences=True)(concat)\n",
    "gru_2 = keras.layers.CuDNNGRU(128)(gru_1)\n",
    "\n",
    "dense_1 = keras.layers.Dense(512, activation = \"relu\")(gru_2)\n",
    "# dense_2 = keras.layers.Dense(512, activation = \"relu\")(dense_1)\n",
    "drop = keras.layers.Dropout(0.5)(dense_1)\n",
    "dense_4 = keras.layers.Dense(vocab_size, activation = \"tanh\")(drop)\n",
    "\n",
    "model = keras.models.Model(inputs=emb_input, outputs=dense_4)\n",
    "\n",
    "model.compile(loss='binary_crossentropy',\n",
    "              optimizer='adam',\n",
    "              metrics=['top_k_categorical_accuracy'])\n",
    "\n",
    "model.summary()\n",
    "\n",
    "model.fit_generator(train_generator(extract_sequences_by_user(train), batch_size=50), steps_per_epoch=steps(train, 50), validation_data = train_generator(extract_sequences_by_user(test)), validation_steps=steps(test), epochs=3, verbose=1)\n",
    "\n"
   ]
  },
  {
   "cell_type": "code",
   "execution_count": 207,
   "metadata": {},
   "outputs": [
    {
     "name": "stdout",
     "output_type": "stream",
     "text": [
      "(20, 955)\n",
      "(20, 955)\n"
     ]
    }
   ],
   "source": [
    "val_batch = next(train_generator(extract_sequences_by_user(test)))\n",
    "y_true = val_batch[1]\n",
    "y_predicted = model.predict(val_batch[0])\n",
    "\n",
    "print(y_true.shape)\n",
    "print(y_predicted.shape)"
   ]
  },
  {
   "cell_type": "code",
   "execution_count": 280,
   "metadata": {},
   "outputs": [
    {
     "name": "stderr",
     "output_type": "stream",
     "text": [
      "/Users/Elena/anaconda3/lib/python3.6/site-packages/sklearn/preprocessing/label.py:153: DataConversionWarning: A column-vector y was passed when a 1d array was expected. Please change the shape of y to (n_samples, ), for example using ravel().\n",
      "  y = column_or_1d(y, warn=True)\n"
     ]
    }
   ],
   "source": [
    "y_predicted = np.rint(y_predicted)\n",
    "\n",
    "true_y_values = np.transpose(np.nonzero(y_true))[:, 1:]\n",
    "pred_y_values = np.transpose(np.nonzero(y_predicted))[:, :1]\n",
    "\n",
    "true_y_track_values = le.inverse_transform(true_y_values)\n",
    "pred_y_track_values = le.inverse_transform(pred_y_values)\n",
    "\n",
    "# y_true = np.array(np.nonzero(y_true)).flatten()\n",
    "# y_predicted = np.array(np.nonzero(y_predicted)).flatten()\n",
    "\n",
    "# print(y_true.shape)\n",
    "# print(y_predicted.shape)\n",
    "\n",
    "# def inverse(x):\n",
    "#     if x > 0 : \n",
    "#         return le.inverse_transform(x) \n",
    "#     else :\n",
    "#         return 0\n",
    "        \n",
    "# inverse = np.vectorize(inverse)\n",
    "# y_true = inverse(y_true)\n",
    "# y_predicted = inverse(y_predicted) if len (y_predicted) > 0 else y_predicted\n",
    "\n",
    "# print(y_true)\n",
    "# print(y_predicted)"
   ]
  },
  {
   "cell_type": "code",
   "execution_count": 499,
   "metadata": {
    "collapsed": true
   },
   "outputs": [],
   "source": [
    "def get_next_video(track_id, video_catalog):    \n",
    "    \n",
    "    print (track_id)\n",
    "    video_catalog['season'] = pd.to_numeric(video_catalog['season'], errors='coerce', downcast = 'integer')\n",
    "    video_catalog['episode'] = pd.to_numeric(video_catalog['episode'], errors='coerce', downcast = 'integer')\n",
    "    video_catalog['track_id'] = pd.to_numeric(video_catalog['track_id'], errors='coerce', downcast = 'integer')\n",
    "    \n",
    "    curent_video = video_catalog.loc[video_catalog['track_id'] == track_id]\n",
    "\n",
    "    if curent_video.size == 0:\n",
    "        return False\n",
    "\n",
    "    curent_video_index = curent_video.index[0]\n",
    "    \n",
    "    curent_title = curent_video['title'][[curent_video_index][0]]\n",
    "    curent_season = curent_video['season'][[curent_video_index][0]]\n",
    "    curent_episod = curent_video['episode'][[curent_video_index][0]]\n",
    "    \n",
    "    this_show_season = video_catalog.loc[(video_catalog['season'] == curent_season) & (video_catalog.title == curent_title)]\n",
    "    next_episods = this_show_season.loc[this_show_season['episode'] > curent_episod]\n",
    "\n",
    "    if next_episods.episode.size != 0:\n",
    "        next_min_episode = next_episods.episode.min()\n",
    "        next_min_episode_index = next_episods.loc[next_episods.episode == next_min_episode].index[0]\n",
    "        next = video_catalog.ix[next_min_episode_index]\n",
    "    else:\n",
    "        next_seasons = video_catalog.loc[(video_catalog['season'] > curent_season) & (video_catalog.title == curent_title)]\n",
    "        if next_seasons.season.size != 0:\n",
    "            next_min_season_min_episode = next_seasons.episode.min()\n",
    "            next = next_seasons.loc[next_seasons['episode'] == next_min_season_min_episode]\n",
    "        else:\n",
    "            next = False\n",
    "\n",
    "    return next"
   ]
  },
  {
   "cell_type": "code",
   "execution_count": 500,
   "metadata": {},
   "outputs": [],
   "source": [
    "def get_next_video_2(video_id, video_catalog):\n",
    "    video_catalog['season'] = pd.to_numeric(video_catalog['season'], errors='coerce')\n",
    "    video_catalog['episode'] = pd.to_numeric(video_catalog['episode'], errors='coerce')\n",
    "\n",
    "    curent_video = video_catalog.loc[video_catalog['video_id'] == video_id]\n",
    "\n",
    "    if curent_video.size == 0:\n",
    "        return False\n",
    "\n",
    "    curent_video_index = curent_video.index[0]\n",
    "    \n",
    "    curent_title = curent_video['title'][[curent_video_index][0]]\n",
    "    curent_season = curent_video['season'][[curent_video_index][0]]\n",
    "    curent_episod = curent_video['episode'][[curent_video_index][0]]\n",
    "    \n",
    "    this_show_season = video_catalog.loc[(video_catalog['season'] == curent_season) & (video_catalog.title == curent_title)]\n",
    "    next_episods = this_show_season.loc[this_show_season['episode'] > curent_episod]\n",
    "\n",
    "    if (next_episods.episode.size!=0):\n",
    "        next_min_episode = next_episods.episode.min()\n",
    "        next_min_episode_index = next_episods.loc[next_episods.episode == next_min_episode].index[0]\n",
    "        next = video_catalog.ix[next_min_episode_index]\n",
    "    else:\n",
    "        next_seasons = video_catalog.loc[(video_catalog['season'] > curent_season) & (video_catalog.title == curent_title)]\n",
    "        if (next_seasons.season.size!=0):\n",
    "            next_min_season_min_episode = next_seasons.episode.min()\n",
    "            next = next_seasons.loc[next_seasons['episode'] == next_min_season_min_episode]\n",
    "        else:\n",
    "            next = False\n",
    "\n",
    "    return next"
   ]
  },
  {
   "cell_type": "code",
   "execution_count": 325,
   "metadata": {
    "collapsed": true
   },
   "outputs": [],
   "source": [
    "def get_top_popular_video(video_history):\n",
    "    return video_history.groupby('track_id').apply(lambda x: x.count()).sort_values(by=['ip'], ascending=False)"
   ]
  },
  {
   "cell_type": "code",
   "execution_count": 480,
   "metadata": {
    "collapsed": true
   },
   "outputs": [],
   "source": [
    "def find_video_id_by_track_id(id): \n",
    "    id = int(id)\n",
    "    video_id = catalog.loc[catalog['track_id'] == id]['video_id']\n",
    "    return video_id.values[0]\n",
    "\n",
    "def find_one_video_id_by_track_id(id): \n",
    "    id = int(id)\n",
    "    video_id = catalog.loc[catalog['track_id'] == id]['video_id']\n",
    "    return video_id.values"
   ]
  },
  {
   "cell_type": "code",
   "execution_count": 453,
   "metadata": {
    "collapsed": true
   },
   "outputs": [],
   "source": [
    "def get_videos(data):\n",
    "    video_array = []\n",
    "    \n",
    "    for d in data:\n",
    "        d = find_video_id_by_track_id(d)\n",
    "        video_array.append(d)\n",
    "        \n",
    "    return video_array"
   ]
  },
  {
   "cell_type": "code",
   "execution_count": null,
   "metadata": {
    "collapsed": true
   },
   "outputs": [],
   "source": [
    "y_true_videos = get_videos(true_y_track_values)"
   ]
  },
  {
   "cell_type": "code",
   "execution_count": null,
   "metadata": {
    "collapsed": true
   },
   "outputs": [],
   "source": [
    "top_videos = get_top_popular_video(data)"
   ]
  },
  {
   "cell_type": "code",
   "execution_count": 403,
   "metadata": {},
   "outputs": [
    {
     "name": "stdout",
     "output_type": "stream",
     "text": [
      "Index(['10913983', '10435023', '10914405', '10914536', '10915547'], dtype='object', name='track_id')\n"
     ]
    }
   ],
   "source": [
    "print (top_videos['track_id'].index[:5])"
   ]
  },
  {
   "cell_type": "code",
   "execution_count": 528,
   "metadata": {},
   "outputs": [],
   "source": [
    "def data_iretation(count, array):\n",
    "    video_array = []\n",
    "    \n",
    "    for idx, data in enumerate(array):\n",
    "        if (idx < count):\n",
    "            video_array.append(data) \n",
    "    \n",
    "    return video_array\n",
    "            \n",
    "\n",
    "def find_recommend_videos(id, y_pred):\n",
    "\n",
    "    video_array = []\n",
    "    \n",
    "    top_videos_first_five = top_videos['track_id'].index[:5]\n",
    "    \n",
    "    next_video = get_next_video(id, catalog)\n",
    "    \n",
    "    .track_id\n",
    "        \n",
    "    nn_recommend_videos = y_pred\n",
    "    \n",
    "    if (next_video):\n",
    "        video_array.append(next_video)\n",
    "        \n",
    "        for idx, data in enumerate(nn_recommend_videos):\n",
    "            if (idx <= 1):\n",
    "                video_array.append(data)      \n",
    "    else:  \n",
    "        for idx, data in enumerate(nn_recommend_videos):\n",
    "            if (idx <= 2):\n",
    "                video_array.append(data)     \n",
    "    \n",
    "    for idx, data in enumerate(top_videos_first_five):\n",
    "        if (idx + len(video_array) <= 4):\n",
    "            video_array.append(data)   \n",
    "    \n",
    "        \n",
    "    videos = get_videos(video_array)\n",
    "    \n",
    "    \n",
    "    return videos\n",
    "    \n",
    "    "
   ]
  },
  {
   "cell_type": "code",
   "execution_count": 530,
   "metadata": {},
   "outputs": [
    {
     "name": "stdout",
     "output_type": "stream",
     "text": [
      "Было video_id:  ['2e0993d0d71e107f7aa6de7603b72c93']\n",
      "10913983\n"
     ]
    },
    {
     "ename": "AttributeError",
     "evalue": "'bool' object has no attribute 'track_id'",
     "output_type": "error",
     "traceback": [
      "\u001b[0;31m---------------------------------------------------------------------------\u001b[0m",
      "\u001b[0;31mAttributeError\u001b[0m                            Traceback (most recent call last)",
      "\u001b[0;32m<ipython-input-530-7c3292c4ac53>\u001b[0m in \u001b[0;36m<module>\u001b[0;34m()\u001b[0m\n\u001b[1;32m      3\u001b[0m \u001b[0mprint\u001b[0m \u001b[0;34m(\u001b[0m\u001b[0;34m'Было video_id: '\u001b[0m\u001b[0;34m,\u001b[0m \u001b[0mfind_one_video_id_by_track_id\u001b[0m\u001b[0;34m(\u001b[0m\u001b[0mtest_id\u001b[0m\u001b[0;34m)\u001b[0m \u001b[0;34m)\u001b[0m\u001b[0;34m\u001b[0m\u001b[0m\n\u001b[1;32m      4\u001b[0m \u001b[0;34m\u001b[0m\u001b[0m\n\u001b[0;32m----> 5\u001b[0;31m \u001b[0mresult\u001b[0m \u001b[0;34m=\u001b[0m \u001b[0mfind_recommend_videos\u001b[0m\u001b[0;34m(\u001b[0m\u001b[0mtest_id\u001b[0m\u001b[0;34m,\u001b[0m \u001b[0mtrue_y_track_values\u001b[0m\u001b[0;34m)\u001b[0m\u001b[0;34m\u001b[0m\u001b[0m\n\u001b[0m\u001b[1;32m      6\u001b[0m \u001b[0;34m\u001b[0m\u001b[0m\n\u001b[1;32m      7\u001b[0m \u001b[0mprint\u001b[0m \u001b[0;34m(\u001b[0m\u001b[0;34m'Нашли результат: '\u001b[0m\u001b[0;34m,\u001b[0m \u001b[0mresult\u001b[0m\u001b[0;34m)\u001b[0m\u001b[0;34m\u001b[0m\u001b[0m\n",
      "\u001b[0;32m<ipython-input-528-b203f82a1dc0>\u001b[0m in \u001b[0;36mfind_recommend_videos\u001b[0;34m(id, y_pred)\u001b[0m\n\u001b[1;32m     15\u001b[0m     \u001b[0mtop_videos_first_five\u001b[0m \u001b[0;34m=\u001b[0m \u001b[0mtop_videos\u001b[0m\u001b[0;34m[\u001b[0m\u001b[0;34m'track_id'\u001b[0m\u001b[0;34m]\u001b[0m\u001b[0;34m.\u001b[0m\u001b[0mindex\u001b[0m\u001b[0;34m[\u001b[0m\u001b[0;34m:\u001b[0m\u001b[0;36m5\u001b[0m\u001b[0;34m]\u001b[0m\u001b[0;34m\u001b[0m\u001b[0m\n\u001b[1;32m     16\u001b[0m \u001b[0;34m\u001b[0m\u001b[0m\n\u001b[0;32m---> 17\u001b[0;31m     \u001b[0mnext_video\u001b[0m \u001b[0;34m=\u001b[0m \u001b[0mget_next_video\u001b[0m\u001b[0;34m(\u001b[0m\u001b[0mid\u001b[0m\u001b[0;34m,\u001b[0m \u001b[0mcatalog\u001b[0m\u001b[0;34m)\u001b[0m\u001b[0;34m.\u001b[0m\u001b[0mtrack_id\u001b[0m\u001b[0;34m\u001b[0m\u001b[0m\n\u001b[0m\u001b[1;32m     18\u001b[0m \u001b[0;34m\u001b[0m\u001b[0m\n\u001b[1;32m     19\u001b[0m     \u001b[0mnn_recommend_videos\u001b[0m \u001b[0;34m=\u001b[0m \u001b[0my_pred\u001b[0m\u001b[0;34m\u001b[0m\u001b[0m\n",
      "\u001b[0;31mAttributeError\u001b[0m: 'bool' object has no attribute 'track_id'"
     ]
    }
   ],
   "source": [
    "test_id = 10913983\n",
    "\n",
    "print ('Было video_id: ', find_one_video_id_by_track_id(test_id) )\n",
    "\n",
    "result = find_recommend_videos(test_id, true_y_track_values)\n",
    "\n",
    "print ('Нашли результат: ', result)\n",
    "\n",
    "\n",
    "# Есть видео 8096743\n",
    "\n",
    "# 10913983\n",
    "# 80272358"
   ]
  },
  {
   "cell_type": "code",
   "execution_count": null,
   "metadata": {
    "collapsed": true
   },
   "outputs": [],
   "source": []
  },
  {
   "cell_type": "code",
   "execution_count": null,
   "metadata": {
    "collapsed": true
   },
   "outputs": [],
   "source": []
  }
 ],
 "metadata": {
  "kernelspec": {
   "display_name": "Python 3",
   "language": "python",
   "name": "python3"
  },
  "language_info": {
   "codemirror_mode": {
    "name": "ipython",
    "version": 3
   },
   "file_extension": ".py",
   "mimetype": "text/x-python",
   "name": "python",
   "nbconvert_exporter": "python",
   "pygments_lexer": "ipython3",
   "version": "3.6.3"
  }
 },
 "nbformat": 4,
 "nbformat_minor": 2
}
