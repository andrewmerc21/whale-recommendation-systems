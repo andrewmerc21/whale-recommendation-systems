{
 "cells": [
  {
   "cell_type": "code",
   "execution_count": 1,
   "metadata": {
    "collapsed": true
   },
   "outputs": [],
   "source": [
    "import pandas as pd\n",
    "import matplotlib.pyplot as plt\n",
    "import numpy as np"
   ]
  },
  {
   "cell_type": "code",
   "execution_count": 2,
   "metadata": {
    "scrolled": true
   },
   "outputs": [
    {
     "name": "stderr",
     "output_type": "stream",
     "text": [
      "b'Skipping line 10780784: expected 10 fields, saw 11\\nSkipping line 10793876: expected 10 fields, saw 11\\n'\n",
      "b'Skipping line 10821923: expected 10 fields, saw 11\\n'\n",
      "/Users/Elena/anaconda3/lib/python3.6/site-packages/IPython/core/interactiveshell.py:2698: DtypeWarning: Columns (2) have mixed types. Specify dtype option on import or set low_memory=False.\n",
      "  interactivity=interactivity, compiler=compiler, result=result)\n"
     ]
    }
   ],
   "source": [
    "data = pd.read_csv(\"./data_full.csv\", sep = \";\", error_bad_lines=False)"
   ]
  },
  {
   "cell_type": "code",
   "execution_count": 3,
   "metadata": {
    "collapsed": true
   },
   "outputs": [],
   "source": [
    "catalog = pd.read_csv(\"./catalog.csv\", sep = \";\", error_bad_lines=False)"
   ]
  },
  {
   "cell_type": "code",
   "execution_count": 4,
   "metadata": {
    "scrolled": true
   },
   "outputs": [
    {
     "data": {
      "text/html": [
       "<div>\n",
       "<style>\n",
       "    .dataframe thead tr:only-child th {\n",
       "        text-align: right;\n",
       "    }\n",
       "\n",
       "    .dataframe thead th {\n",
       "        text-align: left;\n",
       "    }\n",
       "\n",
       "    .dataframe tbody tr th {\n",
       "        vertical-align: top;\n",
       "    }\n",
       "</style>\n",
       "<table border=\"1\" class=\"dataframe\">\n",
       "  <thead>\n",
       "    <tr style=\"text-align: right;\">\n",
       "      <th></th>\n",
       "      <th>timestamp</th>\n",
       "      <th>ip</th>\n",
       "      <th>track_id</th>\n",
       "      <th>cookie</th>\n",
       "      <th>live</th>\n",
       "      <th>user_id</th>\n",
       "      <th>referer</th>\n",
       "      <th>uagent</th>\n",
       "      <th>rightholder</th>\n",
       "      <th>author_id</th>\n",
       "    </tr>\n",
       "  </thead>\n",
       "  <tbody>\n",
       "    <tr>\n",
       "      <th>0</th>\n",
       "      <td>1517778000</td>\n",
       "      <td>230.59.74.120</td>\n",
       "      <td>10912114</td>\n",
       "      <td>42536dc7a8578b0cfac05f704977429a</td>\n",
       "      <td>0</td>\n",
       "      <td>NaN</td>\n",
       "      <td>https%3A%2F%2Frutube.ru%2Fvideo%2F0f5c9c5839b1...</td>\n",
       "      <td>Mozilla/5.0 (Windows NT 6.1; Win64; x64) Apple...</td>\n",
       "      <td>2</td>\n",
       "      <td>1480930</td>\n",
       "    </tr>\n",
       "    <tr>\n",
       "      <th>1</th>\n",
       "      <td>1517778000</td>\n",
       "      <td>218.222.225.36</td>\n",
       "      <td>10885813</td>\n",
       "      <td>8f92f3f2b1e7a2498761b8cb3b1d03c3</td>\n",
       "      <td>0</td>\n",
       "      <td>NaN</td>\n",
       "      <td>https%3A%2F%2Frutube.ru%2Fvideo%2Fd8068436dcf5...</td>\n",
       "      <td>Mozilla/5.0 (Windows NT 5.1) AppleWebKit/537.3...</td>\n",
       "      <td>2</td>\n",
       "      <td>301323</td>\n",
       "    </tr>\n",
       "    <tr>\n",
       "      <th>2</th>\n",
       "      <td>1517778000</td>\n",
       "      <td>55.63.241.224</td>\n",
       "      <td>6948236</td>\n",
       "      <td>336d5ebc5436534e61d16e63ddfca327</td>\n",
       "      <td>-</td>\n",
       "      <td>2.231332e+09</td>\n",
       "      <td>http%3A%2F%2Fandroid.rutube.ru%2F</td>\n",
       "      <td>okhttp/2.6.0</td>\n",
       "      <td>-</td>\n",
       "      <td>-</td>\n",
       "    </tr>\n",
       "    <tr>\n",
       "      <th>3</th>\n",
       "      <td>1517778000</td>\n",
       "      <td>230.34.98.99</td>\n",
       "      <td>8481402</td>\n",
       "      <td>cf8dd809edf104873a1c57921b34f25e</td>\n",
       "      <td>0</td>\n",
       "      <td>NaN</td>\n",
       "      <td>https%3A%2F%2Frutube.ru%2Fvideo%2F1058cf249e46...</td>\n",
       "      <td>Mozilla/5.0 (Linux; Android 7.1.2; Redmi 4X Bu...</td>\n",
       "      <td>NaN</td>\n",
       "      <td>721346</td>\n",
       "    </tr>\n",
       "    <tr>\n",
       "      <th>4</th>\n",
       "      <td>1517778000</td>\n",
       "      <td>232.3.41.226</td>\n",
       "      <td>10908060</td>\n",
       "      <td>4ca525a1d60de6d74e3c32529fe47ab5</td>\n",
       "      <td>0</td>\n",
       "      <td>NaN</td>\n",
       "      <td>https%3A%2F%2Fyastatic.net%2Fvideo-player%2F0x...</td>\n",
       "      <td>Mozilla/5.0 (Windows NT 10.0; Win64; x64) Appl...</td>\n",
       "      <td>135</td>\n",
       "      <td>599848</td>\n",
       "    </tr>\n",
       "  </tbody>\n",
       "</table>\n",
       "</div>"
      ],
      "text/plain": [
       "    timestamp              ip  track_id                            cookie  \\\n",
       "0  1517778000   230.59.74.120  10912114  42536dc7a8578b0cfac05f704977429a   \n",
       "1  1517778000  218.222.225.36  10885813  8f92f3f2b1e7a2498761b8cb3b1d03c3   \n",
       "2  1517778000   55.63.241.224   6948236  336d5ebc5436534e61d16e63ddfca327   \n",
       "3  1517778000    230.34.98.99   8481402  cf8dd809edf104873a1c57921b34f25e   \n",
       "4  1517778000    232.3.41.226  10908060  4ca525a1d60de6d74e3c32529fe47ab5   \n",
       "\n",
       "  live       user_id                                            referer  \\\n",
       "0    0           NaN  https%3A%2F%2Frutube.ru%2Fvideo%2F0f5c9c5839b1...   \n",
       "1    0           NaN  https%3A%2F%2Frutube.ru%2Fvideo%2Fd8068436dcf5...   \n",
       "2    -  2.231332e+09                  http%3A%2F%2Fandroid.rutube.ru%2F   \n",
       "3    0           NaN  https%3A%2F%2Frutube.ru%2Fvideo%2F1058cf249e46...   \n",
       "4    0           NaN  https%3A%2F%2Fyastatic.net%2Fvideo-player%2F0x...   \n",
       "\n",
       "                                              uagent rightholder author_id  \n",
       "0  Mozilla/5.0 (Windows NT 6.1; Win64; x64) Apple...           2   1480930  \n",
       "1  Mozilla/5.0 (Windows NT 5.1) AppleWebKit/537.3...           2    301323  \n",
       "2                                       okhttp/2.6.0           -         -  \n",
       "3  Mozilla/5.0 (Linux; Android 7.1.2; Redmi 4X Bu...         NaN    721346  \n",
       "4  Mozilla/5.0 (Windows NT 10.0; Win64; x64) Appl...         135    599848  "
      ]
     },
     "execution_count": 4,
     "metadata": {},
     "output_type": "execute_result"
    }
   ],
   "source": [
    "data.head()"
   ]
  },
  {
   "cell_type": "code",
   "execution_count": 5,
   "metadata": {},
   "outputs": [
    {
     "data": {
      "text/html": [
       "<div>\n",
       "<style>\n",
       "    .dataframe thead tr:only-child th {\n",
       "        text-align: right;\n",
       "    }\n",
       "\n",
       "    .dataframe thead th {\n",
       "        text-align: left;\n",
       "    }\n",
       "\n",
       "    .dataframe tbody tr th {\n",
       "        vertical-align: top;\n",
       "    }\n",
       "</style>\n",
       "<table border=\"1\" class=\"dataframe\">\n",
       "  <thead>\n",
       "    <tr style=\"text-align: right;\">\n",
       "      <th></th>\n",
       "      <th>idec</th>\n",
       "      <th>track_id</th>\n",
       "      <th>video_id</th>\n",
       "      <th>series_id</th>\n",
       "      <th>title</th>\n",
       "      <th>season</th>\n",
       "      <th>episode</th>\n",
       "      <th>episode_global</th>\n",
       "      <th>date_efir</th>\n",
       "      <th>duration</th>\n",
       "    </tr>\n",
       "  </thead>\n",
       "  <tbody>\n",
       "    <tr>\n",
       "      <th>0</th>\n",
       "      <td>PR592505</td>\n",
       "      <td>10258734</td>\n",
       "      <td>cd59084eb50e6ebe9fe20ad04e0c17db</td>\n",
       "      <td>10456854280</td>\n",
       "      <td>\\tБыть или не быть, 1 сезон, 1 серия</td>\n",
       "      <td>1</td>\n",
       "      <td>1</td>\n",
       "      <td>1</td>\n",
       "      <td>02.04.2017 22:00:34</td>\n",
       "      <td>null</td>\n",
       "    </tr>\n",
       "    <tr>\n",
       "      <th>1</th>\n",
       "      <td>PR609630</td>\n",
       "      <td>10843255</td>\n",
       "      <td>a5d2e6bae4752d9ec0fae9b53f00700d</td>\n",
       "      <td>10592468551</td>\n",
       "      <td>NaN</td>\n",
       "      <td>11</td>\n",
       "      <td>1</td>\n",
       "      <td>1</td>\n",
       "      <td>null</td>\n",
       "      <td>null</td>\n",
       "    </tr>\n",
       "    <tr>\n",
       "      <th>2</th>\n",
       "      <td>PR597128</td>\n",
       "      <td>10573153</td>\n",
       "      <td>bcd45606c1f7cbb5cb9d1dbd7d346cc3</td>\n",
       "      <td>10479562619</td>\n",
       "      <td>NaN</td>\n",
       "      <td>7</td>\n",
       "      <td>1</td>\n",
       "      <td>1</td>\n",
       "      <td>06.09.2017 22:46:05</td>\n",
       "      <td>null</td>\n",
       "    </tr>\n",
       "    <tr>\n",
       "      <th>3</th>\n",
       "      <td>PR257331</td>\n",
       "      <td>6617650</td>\n",
       "      <td>609217ac7b8c4e55d44c4a29bf52554b</td>\n",
       "      <td>null</td>\n",
       "      <td>\"Интерны. История болезни\"</td>\n",
       "      <td>null</td>\n",
       "      <td>null</td>\n",
       "      <td>null</td>\n",
       "      <td>12.06.2012 22:00:44</td>\n",
       "      <td>null</td>\n",
       "    </tr>\n",
       "    <tr>\n",
       "      <th>4</th>\n",
       "      <td>PR529698</td>\n",
       "      <td>7991493</td>\n",
       "      <td>bde3620ba038b3e8dd41d03bf516a7eb</td>\n",
       "      <td>10241019893</td>\n",
       "      <td>#ЖАННАПОЖЕНИ</td>\n",
       "      <td>1</td>\n",
       "      <td>1</td>\n",
       "      <td>101</td>\n",
       "      <td>05.09.2015 13:30:00</td>\n",
       "      <td>null</td>\n",
       "    </tr>\n",
       "  </tbody>\n",
       "</table>\n",
       "</div>"
      ],
      "text/plain": [
       "       idec  track_id                          video_id    series_id  \\\n",
       "0  PR592505  10258734  cd59084eb50e6ebe9fe20ad04e0c17db  10456854280   \n",
       "1  PR609630  10843255  a5d2e6bae4752d9ec0fae9b53f00700d  10592468551   \n",
       "2  PR597128  10573153  bcd45606c1f7cbb5cb9d1dbd7d346cc3  10479562619   \n",
       "3  PR257331   6617650  609217ac7b8c4e55d44c4a29bf52554b         null   \n",
       "4  PR529698   7991493  bde3620ba038b3e8dd41d03bf516a7eb  10241019893   \n",
       "\n",
       "                                  title season episode episode_global  \\\n",
       "0  \\tБыть или не быть, 1 сезон, 1 серия      1       1              1   \n",
       "1                                   NaN     11       1              1   \n",
       "2                                   NaN      7       1              1   \n",
       "3            \"Интерны. История болезни\"   null    null           null   \n",
       "4                          #ЖАННАПОЖЕНИ      1       1            101   \n",
       "\n",
       "             date_efir duration  \n",
       "0  02.04.2017 22:00:34     null  \n",
       "1                 null     null  \n",
       "2  06.09.2017 22:46:05     null  \n",
       "3  12.06.2012 22:00:44     null  \n",
       "4  05.09.2015 13:30:00     null  "
      ]
     },
     "execution_count": 5,
     "metadata": {},
     "output_type": "execute_result"
    }
   ],
   "source": [
    "catalog.head()"
   ]
  },
  {
   "cell_type": "code",
   "execution_count": null,
   "metadata": {
    "collapsed": true
   },
   "outputs": [],
   "source": [
    "pd.scatter_matrix(df[['wage', 'exper', 'educ', 'looks']], \n",
    "                  figsize=(15, 15), diagonal='kde')\n",
    "plt.show()"
   ]
  },
  {
   "cell_type": "code",
   "execution_count": 50,
   "metadata": {},
   "outputs": [
    {
     "data": {
      "text/plain": [
       "count    1.096443e+07\n",
       "mean     1.517851e+09\n",
       "std      6.351897e+06\n",
       "min      0.000000e+00\n",
       "25%      1.517840e+09\n",
       "50%      1.517868e+09\n",
       "75%      1.517926e+09\n",
       "max      1.517951e+09\n",
       "Name: timestamp, dtype: float64"
      ]
     },
     "execution_count": 50,
     "metadata": {},
     "output_type": "execute_result"
    }
   ],
   "source": [
    "data[\"timestamp\"].describe()"
   ]
  },
  {
   "cell_type": "code",
   "execution_count": 65,
   "metadata": {},
   "outputs": [
    {
     "name": "stdout",
     "output_type": "stream",
     "text": [
      "(2720575,)\n",
      "10964431\n",
      "0\n"
     ]
    }
   ],
   "source": [
    "print(data[\"ip\"].unique().shape)\n",
    "print(data[\"ip\"].count())\n",
    "print(data[\"ip\"].isnull().sum())"
   ]
  },
  {
   "cell_type": "code",
   "execution_count": 66,
   "metadata": {},
   "outputs": [
    {
     "name": "stdout",
     "output_type": "stream",
     "text": [
      "(3474412,)\n",
      "10964239\n",
      "192\n"
     ]
    }
   ],
   "source": [
    "print(data[\"cookie\"].unique().shape)\n",
    "print(data[\"cookie\"].count())\n",
    "print(data[\"cookie\"].isnull().sum())"
   ]
  },
  {
   "cell_type": "code",
   "execution_count": 67,
   "metadata": {},
   "outputs": [
    {
     "name": "stdout",
     "output_type": "stream",
     "text": [
      "(168800,)\n",
      "10964232\n",
      "199\n"
     ]
    }
   ],
   "source": [
    "print(data[\"uagent\"].unique().shape)\n",
    "print(data[\"uagent\"].count())\n",
    "print(data[\"uagent\"].isnull().sum())"
   ]
  },
  {
   "cell_type": "code",
   "execution_count": null,
   "metadata": {
    "collapsed": true
   },
   "outputs": [],
   "source": []
  }
 ],
 "metadata": {
  "kernelspec": {
   "display_name": "Python 3",
   "language": "python",
   "name": "python3"
  },
  "language_info": {
   "codemirror_mode": {
    "name": "ipython",
    "version": 3
   },
   "file_extension": ".py",
   "mimetype": "text/x-python",
   "name": "python",
   "nbconvert_exporter": "python",
   "pygments_lexer": "ipython3",
   "version": "3.6.3"
  }
 },
 "nbformat": 4,
 "nbformat_minor": 2
}
