{
 "cells": [
  {
   "cell_type": "code",
   "execution_count": 1,
   "metadata": {},
   "outputs": [
    {
     "name": "stderr",
     "output_type": "stream",
     "text": [
      "C:\\Users\\ASUS\\Anaconda3\\envs\\tensorflow-gpu\\lib\\site-packages\\h5py\\__init__.py:36: FutureWarning: Conversion of the second argument of issubdtype from `float` to `np.floating` is deprecated. In future, it will be treated as `np.float64 == np.dtype(float).type`.\n",
      "  from ._conv import register_converters as _register_converters\n",
      "Using TensorFlow backend.\n"
     ]
    }
   ],
   "source": [
    "import pandas as pd\n",
    "import numpy as np\n",
    "import matplotlib.pyplot as plt\n",
    "import ipaddress\n",
    "from datetime import datetime\n",
    "import time\n",
    "import re\n",
    "import os\n",
    "import pickle\n",
    "from sklearn import preprocessing\n",
    "from sklearn.preprocessing import StandardScaler\n",
    "from sklearn.feature_extraction import DictVectorizer as DV\n",
    "import keras"
   ]
  },
  {
   "cell_type": "code",
   "execution_count": 20,
   "metadata": {
    "scrolled": true
   },
   "outputs": [],
   "source": [
    "def load_data():\n",
    "    return pd.read_csv(\"./data_full.csv\", sep = \";\", error_bad_lines=False)"
   ]
  },
  {
   "cell_type": "code",
   "execution_count": 3,
   "metadata": {},
   "outputs": [],
   "source": [
    "catalog = pd.read_csv(\"./catalog.csv\", sep = \";\", error_bad_lines=False)"
   ]
  },
  {
   "cell_type": "code",
   "execution_count": 5,
   "metadata": {},
   "outputs": [
    {
     "data": {
      "text/html": [
       "<div>\n",
       "<style scoped>\n",
       "    .dataframe tbody tr th:only-of-type {\n",
       "        vertical-align: middle;\n",
       "    }\n",
       "\n",
       "    .dataframe tbody tr th {\n",
       "        vertical-align: top;\n",
       "    }\n",
       "\n",
       "    .dataframe thead th {\n",
       "        text-align: right;\n",
       "    }\n",
       "</style>\n",
       "<table border=\"1\" class=\"dataframe\">\n",
       "  <thead>\n",
       "    <tr style=\"text-align: right;\">\n",
       "      <th></th>\n",
       "      <th>idec</th>\n",
       "      <th>track_id</th>\n",
       "      <th>video_id</th>\n",
       "      <th>series_id</th>\n",
       "      <th>title</th>\n",
       "      <th>season</th>\n",
       "      <th>episode</th>\n",
       "      <th>episode_global</th>\n",
       "      <th>date_efir</th>\n",
       "      <th>duration</th>\n",
       "    </tr>\n",
       "  </thead>\n",
       "  <tbody>\n",
       "    <tr>\n",
       "      <th>0</th>\n",
       "      <td>PR592505</td>\n",
       "      <td>10258734</td>\n",
       "      <td>cd59084eb50e6ebe9fe20ad04e0c17db</td>\n",
       "      <td>1.045685e+10</td>\n",
       "      <td>\\tБыть или не быть, 1 сезон, 1 серия</td>\n",
       "      <td>1.0</td>\n",
       "      <td>1.0</td>\n",
       "      <td>1.0</td>\n",
       "      <td>02.04.2017 22:00:34</td>\n",
       "      <td>NaN</td>\n",
       "    </tr>\n",
       "    <tr>\n",
       "      <th>1</th>\n",
       "      <td>PR609630</td>\n",
       "      <td>10843255</td>\n",
       "      <td>a5d2e6bae4752d9ec0fae9b53f00700d</td>\n",
       "      <td>1.059247e+10</td>\n",
       "      <td>NaN</td>\n",
       "      <td>11.0</td>\n",
       "      <td>1.0</td>\n",
       "      <td>1.0</td>\n",
       "      <td>NaN</td>\n",
       "      <td>NaN</td>\n",
       "    </tr>\n",
       "    <tr>\n",
       "      <th>2</th>\n",
       "      <td>PR597128</td>\n",
       "      <td>10573153</td>\n",
       "      <td>bcd45606c1f7cbb5cb9d1dbd7d346cc3</td>\n",
       "      <td>1.047956e+10</td>\n",
       "      <td>NaN</td>\n",
       "      <td>7.0</td>\n",
       "      <td>1.0</td>\n",
       "      <td>1.0</td>\n",
       "      <td>06.09.2017 22:46:05</td>\n",
       "      <td>NaN</td>\n",
       "    </tr>\n",
       "    <tr>\n",
       "      <th>3</th>\n",
       "      <td>PR257331</td>\n",
       "      <td>6617650</td>\n",
       "      <td>609217ac7b8c4e55d44c4a29bf52554b</td>\n",
       "      <td>NaN</td>\n",
       "      <td>\"Интерны. История болезни\"</td>\n",
       "      <td>NaN</td>\n",
       "      <td>NaN</td>\n",
       "      <td>NaN</td>\n",
       "      <td>12.06.2012 22:00:44</td>\n",
       "      <td>NaN</td>\n",
       "    </tr>\n",
       "    <tr>\n",
       "      <th>4</th>\n",
       "      <td>PR529698</td>\n",
       "      <td>7991493</td>\n",
       "      <td>bde3620ba038b3e8dd41d03bf516a7eb</td>\n",
       "      <td>1.024102e+10</td>\n",
       "      <td>#ЖАННАПОЖЕНИ</td>\n",
       "      <td>1.0</td>\n",
       "      <td>1.0</td>\n",
       "      <td>101.0</td>\n",
       "      <td>05.09.2015 13:30:00</td>\n",
       "      <td>NaN</td>\n",
       "    </tr>\n",
       "  </tbody>\n",
       "</table>\n",
       "</div>"
      ],
      "text/plain": [
       "       idec  track_id                          video_id     series_id  \\\n",
       "0  PR592505  10258734  cd59084eb50e6ebe9fe20ad04e0c17db  1.045685e+10   \n",
       "1  PR609630  10843255  a5d2e6bae4752d9ec0fae9b53f00700d  1.059247e+10   \n",
       "2  PR597128  10573153  bcd45606c1f7cbb5cb9d1dbd7d346cc3  1.047956e+10   \n",
       "3  PR257331   6617650  609217ac7b8c4e55d44c4a29bf52554b           NaN   \n",
       "4  PR529698   7991493  bde3620ba038b3e8dd41d03bf516a7eb  1.024102e+10   \n",
       "\n",
       "                                  title  season  episode  episode_global  \\\n",
       "0  \\tБыть или не быть, 1 сезон, 1 серия     1.0      1.0             1.0   \n",
       "1                                   NaN    11.0      1.0             1.0   \n",
       "2                                   NaN     7.0      1.0             1.0   \n",
       "3            \"Интерны. История болезни\"     NaN      NaN             NaN   \n",
       "4                          #ЖАННАПОЖЕНИ     1.0      1.0           101.0   \n",
       "\n",
       "             date_efir  duration  \n",
       "0  02.04.2017 22:00:34       NaN  \n",
       "1                  NaN       NaN  \n",
       "2  06.09.2017 22:46:05       NaN  \n",
       "3  12.06.2012 22:00:44       NaN  \n",
       "4  05.09.2015 13:30:00       NaN  "
      ]
     },
     "execution_count": 5,
     "metadata": {},
     "output_type": "execute_result"
    }
   ],
   "source": [
    "catalog.head()"
   ]
  },
  {
   "cell_type": "code",
   "execution_count": 6,
   "metadata": {},
   "outputs": [],
   "source": [
    "def add_device(df):\n",
    "    regexpDesktop = re.compile('(Windows|Linux|Mozilla)')\n",
    "    regexpMobile = re.compile('(iPhone|RutubeAndroid|okhttp|CFNetwork|UCBrowser)')\n",
    "    regexpTablet = re.compile('(iPad)')\n",
    "    \n",
    "    df['device'] = pd.Series('0', index=df.index)\n",
    "    \n",
    "    for i, row in df.iterrows():\n",
    "        try:\n",
    "            if regexpDesktop.search(df['uagent'].iloc[i]):\n",
    "                df['device'][i] = 'desktop'\n",
    "            elif regexpMobile.search(df['uagent'].iloc[i]):\n",
    "                df['device'][i] = 'mobile'\n",
    "            elif regexpTablet.search(df['uagent'].iloc[i]):\n",
    "                df['device'][i] = 'tablet'\n",
    "        except:\n",
    "            pass\n",
    "            \n",
    "    return df"
   ]
  },
  {
   "cell_type": "code",
   "execution_count": 7,
   "metadata": {},
   "outputs": [],
   "source": [
    "def mergeData(data1, data2, field):\n",
    "    data1[field] = pd.to_numeric(data1[field], errors = 'coerce')\n",
    "    data2[field] = pd.to_numeric(data2[field], errors = 'coerce')\n",
    "    return pd.merge(data1, data2, left_on=field, right_on=field)"
   ]
  },
  {
   "cell_type": "code",
   "execution_count": 8,
   "metadata": {},
   "outputs": [],
   "source": [
    "def convIpToNumber(data):\n",
    "    return data.apply(lambda x: int(ipaddress.IPv4Address(x)))"
   ]
  },
  {
   "cell_type": "code",
   "execution_count": 9,
   "metadata": {},
   "outputs": [],
   "source": [
    "def applyDate(x):\n",
    "    try:\n",
    "        data = time.strptime(x, \"%d.%m.%Y %H:%M:%S\")\n",
    "        return int(time.mktime(data))\n",
    "    except:\n",
    "        return 1e-6"
   ]
  },
  {
   "cell_type": "code",
   "execution_count": 10,
   "metadata": {},
   "outputs": [],
   "source": [
    "def confDateStringToTimestamp(data):\n",
    "    return data.apply(lambda x: applyDate(x))"
   ]
  },
  {
   "cell_type": "code",
   "execution_count": 11,
   "metadata": {},
   "outputs": [],
   "source": [
    "def filter_users_with_n_views(data, user_column = \"ip\", seq_len = 5):\n",
    "    by_user = data.groupby(user_column)\n",
    "    by_user = by_user.filter(lambda x: len(x) >= seq_len)\n",
    "    return by_user\n",
    "\n",
    "def extract_sequences_by_user(data, user_column = \"ip\"):\n",
    "    return data.groupby(user_column)"
   ]
  },
  {
   "cell_type": "code",
   "execution_count": 12,
   "metadata": {},
   "outputs": [],
   "source": [
    "def filter_videos_with_n_views(data, n = 500):\n",
    "    data[\"track_id\"] = pd.to_numeric(data[\"track_id\"], errors = 'coerce', downcast = 'integer')\n",
    "    data = data[data[\"track_id\"].notnull()]\n",
    "    data_top_n = data.groupby(\"track_id\").filter(lambda x: len(x) >= n)\n",
    "    return data_top_n"
   ]
  },
  {
   "cell_type": "code",
   "execution_count": 13,
   "metadata": {},
   "outputs": [],
   "source": [
    "cat_cols = [ 'series_id', 'idec', 'author_id']\n",
    "num_cols = [ 'duration', 'date_efir']\n",
    "\n",
    "def label_encoder(data):\n",
    "    le = preprocessing.LabelEncoder()\n",
    "    le.fit(data)\n",
    "    return le\n",
    "\n",
    "def create_cat_vectorizer(data):\n",
    "    \n",
    "    cat = data[cat_cols]\n",
    "    cat.fillna('NA', inplace = True)\n",
    "    x_cat = cat.to_dict(orient = 'records')\n",
    "    \n",
    "    vectorizer = DV(sparse = False)\n",
    "    vectorizer.fit(x_cat)\n",
    "    \n",
    "    return vectorizer\n",
    "\n",
    "def cat_vectorize(data, vectorizer):\n",
    "    \n",
    "    cat = data[cat_cols]\n",
    "    cat.fillna( 'NA', inplace = True )\n",
    "    x_cat = cat.to_dict(orient = 'records')\n",
    "    \n",
    "    return vectorizer.transform(x_cat)\n",
    "    "
   ]
  },
  {
   "cell_type": "code",
   "execution_count": 14,
   "metadata": {},
   "outputs": [],
   "source": [
    "def replace_null_value(x):\n",
    "    if (x == 'null'):\n",
    "        return 0\n",
    "    else:\n",
    "        return x\n",
    "\n",
    "def scale_data(data):\n",
    "    scaler = StandardScaler()\n",
    "    data.fillna(0, inplace = True )\n",
    "    data = data.apply(lambda x: replace_null_value(x))\n",
    "    data = scaler.fit_transform(data.reshape(-1, 1))\n",
    "    return data"
   ]
  },
  {
   "cell_type": "code",
   "execution_count": 15,
   "metadata": {},
   "outputs": [],
   "source": [
    "def prepare_num(data):\n",
    "    data['date_efir'] = scale_data(data['date_efir'])\n",
    "    data['duration'] = scale_data(data['duration'])\n",
    "    return data"
   ]
  },
  {
   "cell_type": "code",
   "execution_count": 22,
   "metadata": {
    "scrolled": true
   },
   "outputs": [
    {
     "name": "stderr",
     "output_type": "stream",
     "text": [
      "b'Skipping line 10780784: expected 10 fields, saw 11\\nSkipping line 10793876: expected 10 fields, saw 11\\n'\n",
      "b'Skipping line 10821923: expected 10 fields, saw 11\\n'\n",
      "C:\\Users\\ASUS\\Anaconda3\\envs\\tensorflow-gpu\\lib\\site-packages\\IPython\\core\\interactiveshell.py:2850: DtypeWarning: Columns (2) have mixed types. Specify dtype option on import or set low_memory=False.\n",
      "  if self.run_code(code, result):\n"
     ]
    },
    {
     "name": "stdout",
     "output_type": "stream",
     "text": [
      "6413777\n",
      "3963775\n"
     ]
    },
    {
     "name": "stderr",
     "output_type": "stream",
     "text": [
      "C:\\Users\\ASUS\\Anaconda3\\envs\\tensorflow-gpu\\lib\\site-packages\\ipykernel_launcher.py:11: FutureWarning: reshape is deprecated and will raise in a subsequent release. Please use .values.reshape(...) instead\n",
      "  # This is added back by InteractiveShellApp.init_path()\n",
      "C:\\Users\\ASUS\\Anaconda3\\envs\\tensorflow-gpu\\lib\\site-packages\\sklearn\\utils\\validation.py:475: DataConversionWarning: Data with input dtype int64 was converted to float64 by StandardScaler.\n",
      "  warnings.warn(msg, DataConversionWarning)\n"
     ]
    }
   ],
   "source": [
    "def prepare_data(data, catalog):\n",
    "    \n",
    "    data['ip'] = convIpToNumber(data['ip'])\n",
    "    \n",
    "    data = mergeData(data, catalog, \"track_id\")\n",
    "    \n",
    "    data = filter_videos_with_n_views(data)\n",
    "    print(len(data))\n",
    "    \n",
    "    data = filter_users_with_n_views(data)\n",
    "    print(len(data))\n",
    "    \n",
    "    data['date_efir'] = confDateStringToTimestamp(data['date_efir'])\n",
    "    \n",
    "    data = prepare_num(data)\n",
    "    \n",
    "#     data = add_device(data)\n",
    "    \n",
    "    return data\n",
    "\n",
    "prepared = None\n",
    "if os.path.exists('prepared.pickle'):\n",
    "    with open('prepared.pickle', 'rb') as f:\n",
    "        prepared = pickle.load(f)\n",
    "else:\n",
    "    prepared = prepare_data(load_data(), catalog)\n",
    "    with open('prepared.pickle', 'wb') as f:\n",
    "        pickle.dump(prepared, f, protocol=pickle.HIGHEST_PROTOCOL)"
   ]
  },
  {
   "cell_type": "code",
   "execution_count": 23,
   "metadata": {},
   "outputs": [
    {
     "data": {
      "text/html": [
       "<div>\n",
       "<style scoped>\n",
       "    .dataframe tbody tr th:only-of-type {\n",
       "        vertical-align: middle;\n",
       "    }\n",
       "\n",
       "    .dataframe tbody tr th {\n",
       "        vertical-align: top;\n",
       "    }\n",
       "\n",
       "    .dataframe thead th {\n",
       "        text-align: right;\n",
       "    }\n",
       "</style>\n",
       "<table border=\"1\" class=\"dataframe\">\n",
       "  <thead>\n",
       "    <tr style=\"text-align: right;\">\n",
       "      <th></th>\n",
       "      <th>timestamp</th>\n",
       "      <th>ip</th>\n",
       "      <th>track_id</th>\n",
       "      <th>cookie</th>\n",
       "      <th>live</th>\n",
       "      <th>user_id</th>\n",
       "      <th>referer</th>\n",
       "      <th>uagent</th>\n",
       "      <th>rightholder</th>\n",
       "      <th>author_id</th>\n",
       "      <th>idec</th>\n",
       "      <th>video_id</th>\n",
       "      <th>series_id</th>\n",
       "      <th>title</th>\n",
       "      <th>season</th>\n",
       "      <th>episode</th>\n",
       "      <th>episode_global</th>\n",
       "      <th>date_efir</th>\n",
       "      <th>duration</th>\n",
       "    </tr>\n",
       "  </thead>\n",
       "  <tbody>\n",
       "    <tr>\n",
       "      <th>7</th>\n",
       "      <td>1517778003</td>\n",
       "      <td>3450234470</td>\n",
       "      <td>10912114</td>\n",
       "      <td>fae6aff224474a5b9420e5e51963d095</td>\n",
       "      <td>0</td>\n",
       "      <td>NaN</td>\n",
       "      <td>https%3A%2F%2Frutube.ru%2Fvideo%2F0f5c9c5839b1...</td>\n",
       "      <td>Mozilla/5.0 (Linux; Android 7.0; SM-A510F Buil...</td>\n",
       "      <td>2</td>\n",
       "      <td>1480930</td>\n",
       "      <td>PR602344</td>\n",
       "      <td>0f5c9c5839b11f767d30d7093c9e34cb</td>\n",
       "      <td>1.002185e+10</td>\n",
       "      <td>ДОМ-2 Город любви 5018 дня</td>\n",
       "      <td>124.0</td>\n",
       "      <td>4.0</td>\n",
       "      <td>3681.0</td>\n",
       "      <td>0.181163</td>\n",
       "      <td>0.969393</td>\n",
       "    </tr>\n",
       "    <tr>\n",
       "      <th>8</th>\n",
       "      <td>1517778004</td>\n",
       "      <td>18957780</td>\n",
       "      <td>10912114</td>\n",
       "      <td>ac2fd72a7d728057938fa8401fcfbef7</td>\n",
       "      <td>0</td>\n",
       "      <td>NaN</td>\n",
       "      <td>http%3A%2F%2Fdom2hd.su%2Fvideo%2F04-02-2018%3F...</td>\n",
       "      <td>Mozilla/5.0 (iPad; CPU OS 11_1_1 like Mac OS X...</td>\n",
       "      <td>2</td>\n",
       "      <td>1480930</td>\n",
       "      <td>PR602344</td>\n",
       "      <td>0f5c9c5839b11f767d30d7093c9e34cb</td>\n",
       "      <td>1.002185e+10</td>\n",
       "      <td>ДОМ-2 Город любви 5018 дня</td>\n",
       "      <td>124.0</td>\n",
       "      <td>4.0</td>\n",
       "      <td>3681.0</td>\n",
       "      <td>0.181163</td>\n",
       "      <td>0.969393</td>\n",
       "    </tr>\n",
       "    <tr>\n",
       "      <th>11</th>\n",
       "      <td>1517778005</td>\n",
       "      <td>3862637538</td>\n",
       "      <td>10912114</td>\n",
       "      <td>0e62c1b53377aa48ef50d84d12cf188e</td>\n",
       "      <td>0</td>\n",
       "      <td>NaN</td>\n",
       "      <td>http%3A%2F%2Fvideo-dom2.ru%2Fonlinetv%2Fdom2_o...</td>\n",
       "      <td>Mozilla/5.0 (iPhone; CPU iPhone OS 9_3_2 like ...</td>\n",
       "      <td>2</td>\n",
       "      <td>1480930</td>\n",
       "      <td>PR602344</td>\n",
       "      <td>0f5c9c5839b11f767d30d7093c9e34cb</td>\n",
       "      <td>1.002185e+10</td>\n",
       "      <td>ДОМ-2 Город любви 5018 дня</td>\n",
       "      <td>124.0</td>\n",
       "      <td>4.0</td>\n",
       "      <td>3681.0</td>\n",
       "      <td>0.181163</td>\n",
       "      <td>0.969393</td>\n",
       "    </tr>\n",
       "    <tr>\n",
       "      <th>13</th>\n",
       "      <td>1517778007</td>\n",
       "      <td>3904348709</td>\n",
       "      <td>10912114</td>\n",
       "      <td>c9bc203d464b12649aeefb54a65d0b0c</td>\n",
       "      <td>0</td>\n",
       "      <td>NaN</td>\n",
       "      <td>http%3A%2F%2Fnash-dom2.su%2Fefiry%2F49742-dom-...</td>\n",
       "      <td>Mozilla/5.0 (Windows NT 10.0; WOW64) AppleWebK...</td>\n",
       "      <td>2</td>\n",
       "      <td>1480930</td>\n",
       "      <td>PR602344</td>\n",
       "      <td>0f5c9c5839b11f767d30d7093c9e34cb</td>\n",
       "      <td>1.002185e+10</td>\n",
       "      <td>ДОМ-2 Город любви 5018 дня</td>\n",
       "      <td>124.0</td>\n",
       "      <td>4.0</td>\n",
       "      <td>3681.0</td>\n",
       "      <td>0.181163</td>\n",
       "      <td>0.969393</td>\n",
       "    </tr>\n",
       "    <tr>\n",
       "      <th>17</th>\n",
       "      <td>1517778009</td>\n",
       "      <td>81457654</td>\n",
       "      <td>10912114</td>\n",
       "      <td>8de0448a6a1cb7f6f21a0c7e8df8bc54</td>\n",
       "      <td>0</td>\n",
       "      <td>NaN</td>\n",
       "      <td>http%3A%2F%2Fdom2.love%2Fsvejiye-serii%2F10268...</td>\n",
       "      <td>Mozilla/5.0 (Mobile; Windows Phone 8.1; Androi...</td>\n",
       "      <td>2</td>\n",
       "      <td>1480930</td>\n",
       "      <td>PR602344</td>\n",
       "      <td>0f5c9c5839b11f767d30d7093c9e34cb</td>\n",
       "      <td>1.002185e+10</td>\n",
       "      <td>ДОМ-2 Город любви 5018 дня</td>\n",
       "      <td>124.0</td>\n",
       "      <td>4.0</td>\n",
       "      <td>3681.0</td>\n",
       "      <td>0.181163</td>\n",
       "      <td>0.969393</td>\n",
       "    </tr>\n",
       "  </tbody>\n",
       "</table>\n",
       "</div>"
      ],
      "text/plain": [
       "     timestamp          ip  track_id                            cookie live  \\\n",
       "7   1517778003  3450234470  10912114  fae6aff224474a5b9420e5e51963d095    0   \n",
       "8   1517778004    18957780  10912114  ac2fd72a7d728057938fa8401fcfbef7    0   \n",
       "11  1517778005  3862637538  10912114  0e62c1b53377aa48ef50d84d12cf188e    0   \n",
       "13  1517778007  3904348709  10912114  c9bc203d464b12649aeefb54a65d0b0c    0   \n",
       "17  1517778009    81457654  10912114  8de0448a6a1cb7f6f21a0c7e8df8bc54    0   \n",
       "\n",
       "    user_id                                            referer  \\\n",
       "7       NaN  https%3A%2F%2Frutube.ru%2Fvideo%2F0f5c9c5839b1...   \n",
       "8       NaN  http%3A%2F%2Fdom2hd.su%2Fvideo%2F04-02-2018%3F...   \n",
       "11      NaN  http%3A%2F%2Fvideo-dom2.ru%2Fonlinetv%2Fdom2_o...   \n",
       "13      NaN  http%3A%2F%2Fnash-dom2.su%2Fefiry%2F49742-dom-...   \n",
       "17      NaN  http%3A%2F%2Fdom2.love%2Fsvejiye-serii%2F10268...   \n",
       "\n",
       "                                               uagent rightholder author_id  \\\n",
       "7   Mozilla/5.0 (Linux; Android 7.0; SM-A510F Buil...           2   1480930   \n",
       "8   Mozilla/5.0 (iPad; CPU OS 11_1_1 like Mac OS X...           2   1480930   \n",
       "11  Mozilla/5.0 (iPhone; CPU iPhone OS 9_3_2 like ...           2   1480930   \n",
       "13  Mozilla/5.0 (Windows NT 10.0; WOW64) AppleWebK...           2   1480930   \n",
       "17  Mozilla/5.0 (Mobile; Windows Phone 8.1; Androi...           2   1480930   \n",
       "\n",
       "        idec                          video_id     series_id  \\\n",
       "7   PR602344  0f5c9c5839b11f767d30d7093c9e34cb  1.002185e+10   \n",
       "8   PR602344  0f5c9c5839b11f767d30d7093c9e34cb  1.002185e+10   \n",
       "11  PR602344  0f5c9c5839b11f767d30d7093c9e34cb  1.002185e+10   \n",
       "13  PR602344  0f5c9c5839b11f767d30d7093c9e34cb  1.002185e+10   \n",
       "17  PR602344  0f5c9c5839b11f767d30d7093c9e34cb  1.002185e+10   \n",
       "\n",
       "                         title  season  episode  episode_global  date_efir  \\\n",
       "7   ДОМ-2 Город любви 5018 дня   124.0      4.0          3681.0   0.181163   \n",
       "8   ДОМ-2 Город любви 5018 дня   124.0      4.0          3681.0   0.181163   \n",
       "11  ДОМ-2 Город любви 5018 дня   124.0      4.0          3681.0   0.181163   \n",
       "13  ДОМ-2 Город любви 5018 дня   124.0      4.0          3681.0   0.181163   \n",
       "17  ДОМ-2 Город любви 5018 дня   124.0      4.0          3681.0   0.181163   \n",
       "\n",
       "    duration  \n",
       "7   0.969393  \n",
       "8   0.969393  \n",
       "11  0.969393  \n",
       "13  0.969393  \n",
       "17  0.969393  "
      ]
     },
     "execution_count": 23,
     "metadata": {},
     "output_type": "execute_result"
    }
   ],
   "source": [
    "prepared.head()"
   ]
  },
  {
   "cell_type": "code",
   "execution_count": 24,
   "metadata": {
    "scrolled": true
   },
   "outputs": [
    {
     "name": "stderr",
     "output_type": "stream",
     "text": [
      "C:\\Users\\ASUS\\Anaconda3\\envs\\tensorflow-gpu\\lib\\site-packages\\pandas\\core\\frame.py:3035: SettingWithCopyWarning: \n",
      "A value is trying to be set on a copy of a slice from a DataFrame\n",
      "\n",
      "See the caveats in the documentation: http://pandas.pydata.org/pandas-docs/stable/indexing.html#indexing-view-versus-copy\n",
      "  downcast=downcast, **kwargs)\n"
     ]
    }
   ],
   "source": [
    "cat_vectorizer = create_cat_vectorizer(prepared)"
   ]
  },
  {
   "cell_type": "code",
   "execution_count": 25,
   "metadata": {},
   "outputs": [
    {
     "name": "stdout",
     "output_type": "stream",
     "text": [
      "[[0.00000000e+00 0.00000000e+00 0.00000000e+00 ... 0.00000000e+00\n",
      "  1.00218494e+10 0.00000000e+00]]\n",
      "[]\n"
     ]
    },
    {
     "name": "stderr",
     "output_type": "stream",
     "text": [
      "C:\\Users\\ASUS\\Anaconda3\\envs\\tensorflow-gpu\\lib\\site-packages\\pandas\\core\\frame.py:3035: SettingWithCopyWarning: \n",
      "A value is trying to be set on a copy of a slice from a DataFrame\n",
      "\n",
      "See the caveats in the documentation: http://pandas.pydata.org/pandas-docs/stable/indexing.html#indexing-view-versus-copy\n",
      "  downcast=downcast, **kwargs)\n"
     ]
    }
   ],
   "source": [
    "print(cat_vectorize(prepared[26:27], cat_vectorizer))\n",
    "print(cat_vectorize(prepared[4259450:4259451], cat_vectorizer))"
   ]
  },
  {
   "cell_type": "code",
   "execution_count": 26,
   "metadata": {},
   "outputs": [
    {
     "name": "stdout",
     "output_type": "stream",
     "text": [
      "[1310 1310 1310 1310 1310]\n",
      "1335\n"
     ]
    }
   ],
   "source": [
    "track_ids = prepared[\"track_id\"]\n",
    "\n",
    "vocab_size = track_ids.nunique()\n",
    "\n",
    "le = label_encoder(track_ids.values)\n",
    "\n",
    "print(le.transform(track_ids.values[0:5]))\n",
    "print(vocab_size)"
   ]
  },
  {
   "cell_type": "code",
   "execution_count": 27,
   "metadata": {},
   "outputs": [
    {
     "name": "stdout",
     "output_type": "stream",
     "text": [
      "[1310 1310 1310]\n",
      "(3,)\n",
      "[[9.69393122e-01 1.81162930e-01 0.00000000e+00 ... 0.00000000e+00\n",
      "  1.00218494e+10 0.00000000e+00]\n",
      " [9.69393122e-01 1.81162930e-01 0.00000000e+00 ... 0.00000000e+00\n",
      "  1.00218494e+10 0.00000000e+00]\n",
      " [9.69393122e-01 1.81162930e-01 0.00000000e+00 ... 0.00000000e+00\n",
      "  1.00218494e+10 0.00000000e+00]]\n",
      "(3, 1395)\n",
      "1310\n",
      "()\n",
      "[9.69393122e-01 1.81162930e-01 0.00000000e+00 ... 0.00000000e+00\n",
      " 1.00218494e+10 0.00000000e+00]\n",
      "(1395,)\n"
     ]
    },
    {
     "name": "stderr",
     "output_type": "stream",
     "text": [
      "C:\\Users\\ASUS\\Anaconda3\\envs\\tensorflow-gpu\\lib\\site-packages\\pandas\\core\\frame.py:3035: SettingWithCopyWarning: \n",
      "A value is trying to be set on a copy of a slice from a DataFrame\n",
      "\n",
      "See the caveats in the documentation: http://pandas.pydata.org/pandas-docs/stable/indexing.html#indexing-view-versus-copy\n",
      "  downcast=downcast, **kwargs)\n"
     ]
    }
   ],
   "source": [
    "def create_x_video_vectors(x, vocab_size):\n",
    "    x = x[\"track_id\"].values\n",
    "    x = le.transform(x)\n",
    "    x = x.astype(np.int32)\n",
    "    return x\n",
    "\n",
    "def create_x_num_cut_vectors(x, cat_vectorizer):\n",
    "    vec_x_cat = cat_vectorize(x, cat_vectorizer)\n",
    "    vec_x_num = x[num_cols].as_matrix()\n",
    "    return np.hstack((vec_x_num, vec_x_cat))\n",
    "\n",
    "def create_x(x, vocab_size):\n",
    "    return [create_x_video_vectors(x, vocab_size).astype(np.int32), create_x_num_cut_vectors(x, cat_vectorizer)]\n",
    "    \n",
    "x_examp = create_x(prepared.head(3), vocab_size)    \n",
    "print(x_examp[0])\n",
    "print(x_examp[0].shape)\n",
    "print(x_examp[1])\n",
    "print(x_examp[1].shape)\n",
    "\n",
    "x_vid_examp = create_x_video_vectors(prepared.head(3), vocab_size)\n",
    "x_num_cut_examp = create_x_num_cut_vectors(prepared.head(3), cat_vectorizer)\n",
    "print(x_vid_examp[0])\n",
    "print(x_vid_examp[0].shape)\n",
    "print(x_num_cut_examp[1])\n",
    "print(x_num_cut_examp[1].shape)"
   ]
  },
  {
   "cell_type": "code",
   "execution_count": 28,
   "metadata": {},
   "outputs": [
    {
     "name": "stdout",
     "output_type": "stream",
     "text": [
      "[0. 0. 0. ... 0. 0. 0.]\n"
     ]
    }
   ],
   "source": [
    "def create_y(y, vocab_size):\n",
    "    y = y[\"track_id\"].values\n",
    "    y = le.transform(y)\n",
    "    if (len(y) == 0):\n",
    "        return np.zeros(vocab_size)\n",
    "    return np.max(keras.utils.to_categorical(y, vocab_size), axis = 0)\n",
    "\n",
    "print(create_y(prepared.head(3), vocab_size))"
   ]
  },
  {
   "cell_type": "code",
   "execution_count": 29,
   "metadata": {},
   "outputs": [],
   "source": [
    "def steps(data, batch_size):\n",
    "    return data[\"ip\"].nunique() // batch_size + 1"
   ]
  },
  {
   "cell_type": "code",
   "execution_count": 30,
   "metadata": {},
   "outputs": [
    {
     "name": "stderr",
     "output_type": "stream",
     "text": [
      "C:\\Users\\ASUS\\Anaconda3\\envs\\tensorflow-gpu\\lib\\site-packages\\pandas\\core\\frame.py:3035: SettingWithCopyWarning: \n",
      "A value is trying to be set on a copy of a slice from a DataFrame\n",
      "\n",
      "See the caveats in the documentation: http://pandas.pydata.org/pandas-docs/stable/indexing.html#indexing-view-versus-copy\n",
      "  downcast=downcast, **kwargs)\n"
     ]
    },
    {
     "name": "stdout",
     "output_type": "stream",
     "text": [
      "(4,)\n",
      "[1270 1271 1282 1288]\n",
      "(4,)\n",
      "[442 478 488 639]\n",
      "(4, 1395)\n",
      "[[-6.14869789e-01  2.09921434e-01  0.00000000e+00 ...  0.00000000e+00\n",
      "   1.05250913e+10  0.00000000e+00]\n",
      " [-6.16746878e-01  2.10024143e-01  0.00000000e+00 ...  0.00000000e+00\n",
      "   1.05250913e+10  0.00000000e+00]\n",
      " [-6.10177067e-01  2.10126852e-01  0.00000000e+00 ...  0.00000000e+00\n",
      "   1.05250913e+10  0.00000000e+00]\n",
      " [-4.44993256e-01  2.10229561e-01  0.00000000e+00 ...  0.00000000e+00\n",
      "   1.05250913e+10  0.00000000e+00]]\n",
      "(4, 1395)\n",
      "[[-3.90557682e-01  1.30116587e-01  0.00000000e+00 ...  0.00000000e+00\n",
      "   1.01170771e+10  0.00000000e+00]\n",
      " [-4.52501611e-01  1.55177568e-01  0.00000000e+00 ...  0.00000000e+00\n",
      "   1.01170771e+10  0.00000000e+00]\n",
      " [-4.17775469e-01  1.59696762e-01  0.00000000e+00 ...  0.00000000e+00\n",
      "   1.01170771e+10  0.00000000e+00]\n",
      " [-3.83987872e-01  1.64729500e-01  0.00000000e+00 ...  0.00000000e+00\n",
      "   1.03968476e+10  0.00000000e+00]]\n",
      "(4, 1395)\n",
      "[[-3.90557682e-01  1.30116587e-01  0.00000000e+00 ...  0.00000000e+00\n",
      "   1.01170771e+10  0.00000000e+00]\n",
      " [-4.52501611e-01  1.55177568e-01  0.00000000e+00 ...  0.00000000e+00\n",
      "   1.01170771e+10  0.00000000e+00]\n",
      " [-4.17775469e-01  1.59696762e-01  0.00000000e+00 ...  0.00000000e+00\n",
      "   1.01170771e+10  0.00000000e+00]\n",
      " [-3.83987872e-01  1.64729500e-01  0.00000000e+00 ...  0.00000000e+00\n",
      "   1.03968476e+10  0.00000000e+00]]\n",
      "(20, 1335)\n",
      "[[0. 0. 0. ... 0. 0. 0.]\n",
      " [0. 0. 0. ... 0. 0. 0.]\n",
      " [0. 0. 0. ... 0. 0. 1.]\n",
      " ...\n",
      " [0. 0. 0. ... 0. 0. 0.]\n",
      " [0. 0. 0. ... 0. 0. 0.]\n",
      " [0. 0. 0. ... 0. 1. 0.]]\n"
     ]
    }
   ],
   "source": [
    "def train_generator(seq_by_user, batch_size, x_len = 4):\n",
    "    \n",
    "    seq_len = len(seq_by_user)\n",
    "    \n",
    "    step = 0\n",
    "    \n",
    "    x_vid_list = []\n",
    "    x_num_list = []\n",
    "    y_list = []\n",
    "    \n",
    "    iterator = iter(seq_by_user)\n",
    "    \n",
    "    while(True):\n",
    "        ip, group = next(iterator)\n",
    "        \n",
    "        group = group.sort_values(\"timestamp\")\n",
    "        x_vid = create_x_video_vectors(group[0:x_len], vocab_size)\n",
    "        x_num = create_x_num_cut_vectors(group[0:x_len], cat_vectorizer)\n",
    "        y = create_y(group[x_len:min(x_len * 2, len(group))], vocab_size)\n",
    "        \n",
    "        x_vid_list.append(x_vid)\n",
    "        x_num_list.append(x_num)\n",
    "        y_list.append(y)\n",
    "        \n",
    "        step = step + 1\n",
    "        \n",
    "        if (step % batch_size == 0 or step >= seq_len):\n",
    "            batch = ([np.array(x_vid_list), np.array(x_num_list)], np.array(y_list))\n",
    "            x_vid_list = []\n",
    "            x_num_list = []\n",
    "            y_list = []\n",
    "            yield (batch)\n",
    "            \n",
    "        if (step >= seq_len):\n",
    "            step = 0\n",
    "            x_vid_list = []\n",
    "            x_num_list = []\n",
    "            y_list = []\n",
    "            iterator = iter(seq_by_user)\n",
    "    \n",
    "        \n",
    "generation = next(train_generator(extract_sequences_by_user(prepared), 20))\n",
    "print(generation[0][0][0].shape)\n",
    "print(generation[0][0][0])\n",
    "print(generation[0][0][1].shape)\n",
    "print(generation[0][0][1])\n",
    "print(generation[0][1][0].shape)\n",
    "print(generation[0][1][0])\n",
    "print(generation[0][1][1].shape)\n",
    "print(generation[0][1][1])\n",
    "print(generation[0][1][1].shape)\n",
    "print(generation[0][1][1])\n",
    "print(generation[1].shape)\n",
    "print(generation[1])"
   ]
  },
  {
   "cell_type": "code",
   "execution_count": 31,
   "metadata": {},
   "outputs": [],
   "source": [
    "def add_train_flag(data):\n",
    "    split_val = prepared[\"ip\"].quantile(.8)\n",
    "    print(split_val)\n",
    "    prepared[\"train\"] = prepared[\"ip\"] < split_val\n",
    "    \n",
    "def train_test_split(data):\n",
    "    add_train_flag(data)\n",
    "    return (prepared[prepared[\"train\"] == True], prepared[prepared[\"train\"] == False])"
   ]
  },
  {
   "cell_type": "code",
   "execution_count": 32,
   "metadata": {},
   "outputs": [
    {
     "name": "stdout",
     "output_type": "stream",
     "text": [
      "3819881376.0\n",
      "3171018\n",
      "792757\n"
     ]
    }
   ],
   "source": [
    "train, test = train_test_split(prepared)\n",
    "print(len(train))\n",
    "print(len(test))"
   ]
  },
  {
   "cell_type": "code",
   "execution_count": 33,
   "metadata": {},
   "outputs": [
    {
     "name": "stdout",
     "output_type": "stream",
     "text": [
      "14701\n",
      "4244\n"
     ]
    }
   ],
   "source": [
    "print(steps(train, 20))\n",
    "print(steps(test, 20))"
   ]
  },
  {
   "cell_type": "code",
   "execution_count": null,
   "metadata": {},
   "outputs": [
    {
     "name": "stdout",
     "output_type": "stream",
     "text": [
      "1395\n"
     ]
    }
   ],
   "source": [
    "num_cat_vec_len = len(cat_vectorizer.get_feature_names()) + len(num_cols)\n",
    "print(num_cat_vec_len)"
   ]
  },
  {
   "cell_type": "code",
   "execution_count": null,
   "metadata": {},
   "outputs": [
    {
     "name": "stdout",
     "output_type": "stream",
     "text": [
      "__________________________________________________________________________________________________\n",
      "Layer (type)                    Output Shape         Param #     Connected to                     \n",
      "==================================================================================================\n",
      "input_1 (InputLayer)            (None, 4)            0                                            \n",
      "__________________________________________________________________________________________________\n",
      "input_2 (InputLayer)            (None, 4, 1395)      0                                            \n",
      "__________________________________________________________________________________________________\n",
      "embedding_1 (Embedding)         (None, 4, 100)       133500      input_1[0][0]                    \n",
      "__________________________________________________________________________________________________\n",
      "concatenate_1 (Concatenate)     (None, 4, 1495)      0           input_2[0][0]                    \n",
      "                                                                 embedding_1[0][0]                \n",
      "__________________________________________________________________________________________________\n",
      "cu_dnngru_1 (CuDNNGRU)          (None, 4, 128)       624000      concatenate_1[0][0]              \n",
      "__________________________________________________________________________________________________\n",
      "activation_1 (Activation)       (None, 4, 128)       0           cu_dnngru_1[0][0]                \n",
      "__________________________________________________________________________________________________\n",
      "cu_dnngru_2 (CuDNNGRU)          (None, 256)          296448      activation_1[0][0]               \n",
      "__________________________________________________________________________________________________\n",
      "activation_2 (Activation)       (None, 256)          0           cu_dnngru_2[0][0]                \n",
      "__________________________________________________________________________________________________\n",
      "dense_1 (Dense)                 (None, 512)          131584      activation_2[0][0]               \n",
      "__________________________________________________________________________________________________\n",
      "dropout_1 (Dropout)             (None, 512)          0           dense_1[0][0]                    \n",
      "__________________________________________________________________________________________________\n",
      "dense_2 (Dense)                 (None, 1335)         684855      dropout_1[0][0]                  \n",
      "==================================================================================================\n",
      "Total params: 1,870,387\n",
      "Trainable params: 1,870,387\n",
      "Non-trainable params: 0\n",
      "__________________________________________________________________________________________________\n",
      "Epoch 1/3\n"
     ]
    },
    {
     "name": "stderr",
     "output_type": "stream",
     "text": [
      "C:\\Users\\ASUS\\Anaconda3\\envs\\tensorflow-gpu\\lib\\site-packages\\pandas\\core\\frame.py:3035: SettingWithCopyWarning: \n",
      "A value is trying to be set on a copy of a slice from a DataFrame\n",
      "\n",
      "See the caveats in the documentation: http://pandas.pydata.org/pandas-docs/stable/indexing.html#indexing-view-versus-copy\n",
      "  downcast=downcast, **kwargs)\n"
     ]
    },
    {
     "name": "stdout",
     "output_type": "stream",
     "text": [
      "  65/5881 [..............................] - ETA: 19:04:30 - loss: 0.0992 - top_k_categorical_accuracy: 0.0889"
     ]
    }
   ],
   "source": [
    "vid_input = keras.layers.Input(shape=(4,))\n",
    "embedding = keras.layers.Embedding(vocab_size, 100, input_length=4)(vid_input)\n",
    "\n",
    "num_cut_input = keras.layers.Input(shape=(4, num_cat_vec_len,))\n",
    "\n",
    "concat = keras.layers.concatenate([num_cut_input, embedding])\n",
    "\n",
    "gru_1 = keras.layers.CuDNNGRU(128, return_sequences=True)(concat)\n",
    "gru_1_act = keras.layers.Activation(\"relu\")(gru_1)\n",
    "gru_2 = keras.layers.CuDNNGRU(256)(gru_1_act)\n",
    "gru_2_act = keras.layers.Activation(\"relu\")(gru_2)\n",
    "\n",
    "dense_1 = keras.layers.Dense(512, activation = \"relu\")(gru_2_act)\n",
    "\n",
    "drop = keras.layers.Dropout(0.5)(dense_1)\n",
    "\n",
    "dense_2 = keras.layers.Dense(vocab_size, activation = \"sigmoid\")(drop)\n",
    "\n",
    "model = keras.models.Model(inputs=[vid_input, num_cut_input], outputs=dense_2)\n",
    "\n",
    "model.compile(loss='binary_crossentropy',\n",
    "              optimizer='adam',\n",
    "              metrics=['top_k_categorical_accuracy'])\n",
    "\n",
    "model.summary()\n",
    "\n",
    "model.fit_generator(train_generator(extract_sequences_by_user(train), batch_size=50), steps_per_epoch=steps(train, 50), validation_data = train_generator(extract_sequences_by_user(test), batch_size = 20), validation_steps=steps(test, 20), epochs=3, verbose=1)\n",
    "\n"
   ]
  },
  {
   "cell_type": "code",
   "execution_count": 207,
   "metadata": {},
   "outputs": [
    {
     "name": "stdout",
     "output_type": "stream",
     "text": [
      "(20, 955)\n",
      "(20, 955)\n"
     ]
    }
   ],
   "source": [
    "val_batch = next(train_generator(extract_sequences_by_user(test)))\n",
    "y_true = val_batch[1]\n",
    "y_predicted = model.predict(val_batch[0])\n",
    "\n",
    "print(y_true.shape)\n",
    "print(y_predicted.shape)"
   ]
  },
  {
   "cell_type": "code",
   "execution_count": 217,
   "metadata": {},
   "outputs": [
    {
     "name": "stdout",
     "output_type": "stream",
     "text": [
      "[[  0 139]\n",
      " [  0 887]\n",
      " [  0 944]\n",
      " [  0 950]\n",
      " [  1 332]\n",
      " [  1 628]\n",
      " [  1 647]\n",
      " [  1 887]\n",
      " [  2 173]\n",
      " [  2 177]\n",
      " [  2 196]\n",
      " [  2 839]\n",
      " [  3 539]\n",
      " [  3 887]\n",
      " [  4 170]\n",
      " [  4 391]\n",
      " [  4 680]\n",
      " [  4 753]\n",
      " [  5 154]\n",
      " [  5 702]\n",
      " [  5 929]\n",
      " [  5 933]\n",
      " [  6 139]\n",
      " [  6 721]\n",
      " [  6 891]\n",
      " [  6 944]\n",
      " [  7 901]\n",
      " [  7 906]\n",
      " [  7 933]\n",
      " [  7 944]\n",
      " [  8 534]\n",
      " [  8 676]\n",
      " [  8 887]\n",
      " [  9 742]\n",
      " [  9 743]\n",
      " [  9 842]\n",
      " [  9 887]\n",
      " [ 10  48]\n",
      " [ 10 515]\n",
      " [ 10 671]\n",
      " [ 10 944]\n",
      " [ 11 742]\n",
      " [ 11 941]\n",
      " [ 11 944]\n",
      " [ 12 894]\n",
      " [ 12 933]\n",
      " [ 12 944]\n",
      " [ 12 950]\n",
      " [ 13 887]\n",
      " [ 13 906]\n",
      " [ 14 327]\n",
      " [ 14 760]\n",
      " [ 14 887]\n",
      " [ 15 887]\n",
      " [ 15 908]\n",
      " [ 16 702]\n",
      " [ 16 887]\n",
      " [ 17 552]\n",
      " [ 17 887]\n",
      " [ 17 894]\n",
      " [ 17 944]\n",
      " [ 18 173]\n",
      " [ 18 944]\n",
      " [ 19 596]\n",
      " [ 19 764]\n",
      " [ 19 887]\n",
      " [ 19 894]]\n",
      "[[  0 130]\n",
      " [  0 150]\n",
      " [  0 348]\n",
      " ...\n",
      " [ 16 949]\n",
      " [ 16 950]\n",
      " [ 16 952]]\n"
     ]
    }
   ],
   "source": [
    "y_predicted = np.rint(y_predicted)\n",
    "\n",
    "true_y_values = np.transpose(np.nonzero(y_true))[:, 1:]\n",
    "pred_y_values = np.transpose(np.nonzero(y_predicted))[:, :1]\n",
    "\n",
    "\n",
    "\n",
    "# y_true = np.array(np.nonzero(y_true)).flatten()\n",
    "# y_predicted = np.array(np.nonzero(y_predicted)).flatten()\n",
    "\n",
    "# print(y_true.shape)\n",
    "# print(y_predicted.shape)\n",
    "\n",
    "# def inverse(x):\n",
    "#     if x > 0 : \n",
    "#         return le.inverse_transform(x) \n",
    "#     else :\n",
    "#         return 0\n",
    "        \n",
    "# inverse = np.vectorize(inverse)\n",
    "# y_true = inverse(y_true)\n",
    "# y_predicted = inverse(y_predicted) if len (y_predicted) > 0 else y_predicted\n",
    "\n",
    "# print(y_true)\n",
    "# print(y_predicted)"
   ]
  },
  {
   "cell_type": "code",
   "execution_count": null,
   "metadata": {},
   "outputs": [],
   "source": [
    "def get_next_video(track_id, video_catalog):\n",
    "    video_catalog['season'] = pd.to_numeric(video_catalog['season'], errors='coerce', downcast = 'integer')\n",
    "    video_catalog['episode'] = pd.to_numeric(video_catalog['episode'], errors='coerce', downcast = 'integer')\n",
    "\n",
    "    curent_video = video_catalog.loc[video_catalog['track_id'] == track_id]\n",
    "\n",
    "    if curent_video.size == 0:\n",
    "        return False\n",
    "\n",
    "    curent_video_index = curent_video.index[0]\n",
    "    \n",
    "    curent_title = curent_video['title'][[curent_video_index][0]]\n",
    "    curent_season = curent_video['season'][[curent_video_index][0]]\n",
    "    curent_episod = curent_video['episode'][[curent_video_index][0]]\n",
    "    \n",
    "    this_show_season = video_catalog.loc[(video_catalog['season'] == curent_season) & (video_catalog.title == curent_title)]\n",
    "    next_episods = this_show_season.loc[this_show_season['episode'] > curent_episod]\n",
    "\n",
    "    if next_episods.episode.size != 0:\n",
    "        next_min_episode = next_episods.episode.min()\n",
    "        next_min_episode_index = next_episods.loc[next_episods.episode == next_min_episode].index[0]\n",
    "        next = video_catalog.ix[next_min_episode_index]\n",
    "    else:\n",
    "        next_seasons = video_catalog.loc[(video_catalog['season'] > curent_season) & (video_catalog.title == curent_title)]\n",
    "        if next_seasons.season.size != 0:\n",
    "            next_min_season_min_episode = next_seasons.episode.min()\n",
    "            next = next_seasons.loc[next_seasons['episode'] == next_min_season_min_episode]\n",
    "        else:\n",
    "            next = False\n",
    "\n",
    "    return next"
   ]
  }
 ],
 "metadata": {
  "kernelspec": {
   "display_name": "Python 3",
   "language": "python",
   "name": "python3"
  },
  "language_info": {
   "codemirror_mode": {
    "name": "ipython",
    "version": 3
   },
   "file_extension": ".py",
   "mimetype": "text/x-python",
   "name": "python",
   "nbconvert_exporter": "python",
   "pygments_lexer": "ipython3",
   "version": "3.5.4"
  }
 },
 "nbformat": 4,
 "nbformat_minor": 2
}
