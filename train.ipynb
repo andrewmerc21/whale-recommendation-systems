{
 "cells": [
  {
   "cell_type": "code",
   "execution_count": 49,
   "metadata": {},
   "outputs": [],
   "source": [
    "import pandas as pd\n",
    "import matplotlib.pyplot as plt\n",
    "import numpy as np\n",
    "import ipaddress\n",
    "from datetime import datetime\n",
    "import time\n",
    "import keras\n",
    "import re\n",
    "from sklearn.preprocessing import OneHotEncoder"
   ]
  },
  {
   "cell_type": "code",
   "execution_count": 19,
   "metadata": {
    "scrolled": true
   },
   "outputs": [
    {
     "name": "stderr",
     "output_type": "stream",
     "text": [
      "b'Skipping line 10780784: expected 10 fields, saw 11\\nSkipping line 10793876: expected 10 fields, saw 11\\n'\n",
      "b'Skipping line 10821923: expected 10 fields, saw 11\\n'\n",
      "C:\\Users\\ASUS\\Anaconda3\\envs\\tensorflow-gpu\\lib\\site-packages\\IPython\\core\\interactiveshell.py:2728: DtypeWarning: Columns (2) have mixed types. Specify dtype option on import or set low_memory=False.\n",
      "  interactivity=interactivity, compiler=compiler, result=result)\n"
     ]
    }
   ],
   "source": [
    "data = pd.read_csv(\"./data_full.csv\", sep = \";\", error_bad_lines=False)"
   ]
  },
  {
   "cell_type": "code",
   "execution_count": 20,
   "metadata": {},
   "outputs": [],
   "source": [
    "catalog = pd.read_csv(\"./catalog.csv\", sep = \";\", error_bad_lines=False)"
   ]
  },
  {
   "cell_type": "code",
   "execution_count": 21,
   "metadata": {
    "scrolled": true
   },
   "outputs": [
    {
     "data": {
      "text/html": [
       "<div>\n",
       "<style scoped>\n",
       "    .dataframe tbody tr th:only-of-type {\n",
       "        vertical-align: middle;\n",
       "    }\n",
       "\n",
       "    .dataframe tbody tr th {\n",
       "        vertical-align: top;\n",
       "    }\n",
       "\n",
       "    .dataframe thead th {\n",
       "        text-align: right;\n",
       "    }\n",
       "</style>\n",
       "<table border=\"1\" class=\"dataframe\">\n",
       "  <thead>\n",
       "    <tr style=\"text-align: right;\">\n",
       "      <th></th>\n",
       "      <th>timestamp</th>\n",
       "      <th>ip</th>\n",
       "      <th>track_id</th>\n",
       "      <th>cookie</th>\n",
       "      <th>live</th>\n",
       "      <th>user_id</th>\n",
       "      <th>referer</th>\n",
       "      <th>uagent</th>\n",
       "      <th>rightholder</th>\n",
       "      <th>author_id</th>\n",
       "    </tr>\n",
       "  </thead>\n",
       "  <tbody>\n",
       "    <tr>\n",
       "      <th>0</th>\n",
       "      <td>1517778000</td>\n",
       "      <td>230.59.74.120</td>\n",
       "      <td>10912114</td>\n",
       "      <td>42536dc7a8578b0cfac05f704977429a</td>\n",
       "      <td>0</td>\n",
       "      <td>NaN</td>\n",
       "      <td>https%3A%2F%2Frutube.ru%2Fvideo%2F0f5c9c5839b1...</td>\n",
       "      <td>Mozilla/5.0 (Windows NT 6.1; Win64; x64) Apple...</td>\n",
       "      <td>2</td>\n",
       "      <td>1480930</td>\n",
       "    </tr>\n",
       "    <tr>\n",
       "      <th>1</th>\n",
       "      <td>1517778000</td>\n",
       "      <td>218.222.225.36</td>\n",
       "      <td>10885813</td>\n",
       "      <td>8f92f3f2b1e7a2498761b8cb3b1d03c3</td>\n",
       "      <td>0</td>\n",
       "      <td>NaN</td>\n",
       "      <td>https%3A%2F%2Frutube.ru%2Fvideo%2Fd8068436dcf5...</td>\n",
       "      <td>Mozilla/5.0 (Windows NT 5.1) AppleWebKit/537.3...</td>\n",
       "      <td>2</td>\n",
       "      <td>301323</td>\n",
       "    </tr>\n",
       "    <tr>\n",
       "      <th>2</th>\n",
       "      <td>1517778000</td>\n",
       "      <td>55.63.241.224</td>\n",
       "      <td>6948236</td>\n",
       "      <td>336d5ebc5436534e61d16e63ddfca327</td>\n",
       "      <td>-</td>\n",
       "      <td>2.231332e+09</td>\n",
       "      <td>http%3A%2F%2Fandroid.rutube.ru%2F</td>\n",
       "      <td>okhttp/2.6.0</td>\n",
       "      <td>-</td>\n",
       "      <td>-</td>\n",
       "    </tr>\n",
       "    <tr>\n",
       "      <th>3</th>\n",
       "      <td>1517778000</td>\n",
       "      <td>230.34.98.99</td>\n",
       "      <td>8481402</td>\n",
       "      <td>cf8dd809edf104873a1c57921b34f25e</td>\n",
       "      <td>0</td>\n",
       "      <td>NaN</td>\n",
       "      <td>https%3A%2F%2Frutube.ru%2Fvideo%2F1058cf249e46...</td>\n",
       "      <td>Mozilla/5.0 (Linux; Android 7.1.2; Redmi 4X Bu...</td>\n",
       "      <td>NaN</td>\n",
       "      <td>721346</td>\n",
       "    </tr>\n",
       "    <tr>\n",
       "      <th>4</th>\n",
       "      <td>1517778000</td>\n",
       "      <td>232.3.41.226</td>\n",
       "      <td>10908060</td>\n",
       "      <td>4ca525a1d60de6d74e3c32529fe47ab5</td>\n",
       "      <td>0</td>\n",
       "      <td>NaN</td>\n",
       "      <td>https%3A%2F%2Fyastatic.net%2Fvideo-player%2F0x...</td>\n",
       "      <td>Mozilla/5.0 (Windows NT 10.0; Win64; x64) Appl...</td>\n",
       "      <td>135</td>\n",
       "      <td>599848</td>\n",
       "    </tr>\n",
       "  </tbody>\n",
       "</table>\n",
       "</div>"
      ],
      "text/plain": [
       "    timestamp              ip  track_id                            cookie  \\\n",
       "0  1517778000   230.59.74.120  10912114  42536dc7a8578b0cfac05f704977429a   \n",
       "1  1517778000  218.222.225.36  10885813  8f92f3f2b1e7a2498761b8cb3b1d03c3   \n",
       "2  1517778000   55.63.241.224   6948236  336d5ebc5436534e61d16e63ddfca327   \n",
       "3  1517778000    230.34.98.99   8481402  cf8dd809edf104873a1c57921b34f25e   \n",
       "4  1517778000    232.3.41.226  10908060  4ca525a1d60de6d74e3c32529fe47ab5   \n",
       "\n",
       "  live       user_id                                            referer  \\\n",
       "0    0           NaN  https%3A%2F%2Frutube.ru%2Fvideo%2F0f5c9c5839b1...   \n",
       "1    0           NaN  https%3A%2F%2Frutube.ru%2Fvideo%2Fd8068436dcf5...   \n",
       "2    -  2.231332e+09                  http%3A%2F%2Fandroid.rutube.ru%2F   \n",
       "3    0           NaN  https%3A%2F%2Frutube.ru%2Fvideo%2F1058cf249e46...   \n",
       "4    0           NaN  https%3A%2F%2Fyastatic.net%2Fvideo-player%2F0x...   \n",
       "\n",
       "                                              uagent rightholder author_id  \n",
       "0  Mozilla/5.0 (Windows NT 6.1; Win64; x64) Apple...           2   1480930  \n",
       "1  Mozilla/5.0 (Windows NT 5.1) AppleWebKit/537.3...           2    301323  \n",
       "2                                       okhttp/2.6.0           -         -  \n",
       "3  Mozilla/5.0 (Linux; Android 7.1.2; Redmi 4X Bu...         NaN    721346  \n",
       "4  Mozilla/5.0 (Windows NT 10.0; Win64; x64) Appl...         135    599848  "
      ]
     },
     "execution_count": 21,
     "metadata": {},
     "output_type": "execute_result"
    }
   ],
   "source": [
    "data.head()"
   ]
  },
  {
   "cell_type": "code",
   "execution_count": 22,
   "metadata": {},
   "outputs": [
    {
     "data": {
      "text/html": [
       "<div>\n",
       "<style scoped>\n",
       "    .dataframe tbody tr th:only-of-type {\n",
       "        vertical-align: middle;\n",
       "    }\n",
       "\n",
       "    .dataframe tbody tr th {\n",
       "        vertical-align: top;\n",
       "    }\n",
       "\n",
       "    .dataframe thead th {\n",
       "        text-align: right;\n",
       "    }\n",
       "</style>\n",
       "<table border=\"1\" class=\"dataframe\">\n",
       "  <thead>\n",
       "    <tr style=\"text-align: right;\">\n",
       "      <th></th>\n",
       "      <th>idec</th>\n",
       "      <th>track_id</th>\n",
       "      <th>video_id</th>\n",
       "      <th>series_id</th>\n",
       "      <th>title</th>\n",
       "      <th>season</th>\n",
       "      <th>episode</th>\n",
       "      <th>episode_global</th>\n",
       "      <th>date_efir</th>\n",
       "      <th>duration</th>\n",
       "    </tr>\n",
       "  </thead>\n",
       "  <tbody>\n",
       "    <tr>\n",
       "      <th>0</th>\n",
       "      <td>PR592505</td>\n",
       "      <td>10258734</td>\n",
       "      <td>cd59084eb50e6ebe9fe20ad04e0c17db</td>\n",
       "      <td>1.045685e+10</td>\n",
       "      <td>\\tБыть или не быть, 1 сезон, 1 серия</td>\n",
       "      <td>1.0</td>\n",
       "      <td>1.0</td>\n",
       "      <td>1.0</td>\n",
       "      <td>02.04.2017 22:00:34</td>\n",
       "      <td>NaN</td>\n",
       "    </tr>\n",
       "    <tr>\n",
       "      <th>1</th>\n",
       "      <td>PR609630</td>\n",
       "      <td>10843255</td>\n",
       "      <td>a5d2e6bae4752d9ec0fae9b53f00700d</td>\n",
       "      <td>1.059247e+10</td>\n",
       "      <td>NaN</td>\n",
       "      <td>11.0</td>\n",
       "      <td>1.0</td>\n",
       "      <td>1.0</td>\n",
       "      <td>NaN</td>\n",
       "      <td>NaN</td>\n",
       "    </tr>\n",
       "    <tr>\n",
       "      <th>2</th>\n",
       "      <td>PR597128</td>\n",
       "      <td>10573153</td>\n",
       "      <td>bcd45606c1f7cbb5cb9d1dbd7d346cc3</td>\n",
       "      <td>1.047956e+10</td>\n",
       "      <td>NaN</td>\n",
       "      <td>7.0</td>\n",
       "      <td>1.0</td>\n",
       "      <td>1.0</td>\n",
       "      <td>06.09.2017 22:46:05</td>\n",
       "      <td>NaN</td>\n",
       "    </tr>\n",
       "    <tr>\n",
       "      <th>3</th>\n",
       "      <td>PR257331</td>\n",
       "      <td>6617650</td>\n",
       "      <td>609217ac7b8c4e55d44c4a29bf52554b</td>\n",
       "      <td>NaN</td>\n",
       "      <td>\"Интерны. История болезни\"</td>\n",
       "      <td>NaN</td>\n",
       "      <td>NaN</td>\n",
       "      <td>NaN</td>\n",
       "      <td>12.06.2012 22:00:44</td>\n",
       "      <td>NaN</td>\n",
       "    </tr>\n",
       "    <tr>\n",
       "      <th>4</th>\n",
       "      <td>PR529698</td>\n",
       "      <td>7991493</td>\n",
       "      <td>bde3620ba038b3e8dd41d03bf516a7eb</td>\n",
       "      <td>1.024102e+10</td>\n",
       "      <td>#ЖАННАПОЖЕНИ</td>\n",
       "      <td>1.0</td>\n",
       "      <td>1.0</td>\n",
       "      <td>101.0</td>\n",
       "      <td>05.09.2015 13:30:00</td>\n",
       "      <td>NaN</td>\n",
       "    </tr>\n",
       "  </tbody>\n",
       "</table>\n",
       "</div>"
      ],
      "text/plain": [
       "       idec  track_id                          video_id     series_id  \\\n",
       "0  PR592505  10258734  cd59084eb50e6ebe9fe20ad04e0c17db  1.045685e+10   \n",
       "1  PR609630  10843255  a5d2e6bae4752d9ec0fae9b53f00700d  1.059247e+10   \n",
       "2  PR597128  10573153  bcd45606c1f7cbb5cb9d1dbd7d346cc3  1.047956e+10   \n",
       "3  PR257331   6617650  609217ac7b8c4e55d44c4a29bf52554b           NaN   \n",
       "4  PR529698   7991493  bde3620ba038b3e8dd41d03bf516a7eb  1.024102e+10   \n",
       "\n",
       "                                  title  season  episode  episode_global  \\\n",
       "0  \\tБыть или не быть, 1 сезон, 1 серия     1.0      1.0             1.0   \n",
       "1                                   NaN    11.0      1.0             1.0   \n",
       "2                                   NaN     7.0      1.0             1.0   \n",
       "3            \"Интерны. История болезни\"     NaN      NaN             NaN   \n",
       "4                          #ЖАННАПОЖЕНИ     1.0      1.0           101.0   \n",
       "\n",
       "             date_efir  duration  \n",
       "0  02.04.2017 22:00:34       NaN  \n",
       "1                  NaN       NaN  \n",
       "2  06.09.2017 22:46:05       NaN  \n",
       "3  12.06.2012 22:00:44       NaN  \n",
       "4  05.09.2015 13:30:00       NaN  "
      ]
     },
     "execution_count": 22,
     "metadata": {},
     "output_type": "execute_result"
    }
   ],
   "source": [
    "catalog.head()"
   ]
  },
  {
   "cell_type": "code",
   "execution_count": 23,
   "metadata": {},
   "outputs": [],
   "source": [
    "def add_device(df):\n",
    "    regexpDesktop = re.compile('(Windows|Linux|Mozilla)')\n",
    "    regexpMobile = re.compile('(iPhone|RutubeAndroid|okhttp|CFNetwork|UCBrowser)')\n",
    "    regexpTablet = re.compile('(iPad)')\n",
    "    \n",
    "    df['device'] = pd.Series('0', index=df.index)\n",
    "    \n",
    "    for i, row in df.iterrows():\n",
    "        try:\n",
    "            if regexpDesktop.search(df['uagent'].iloc[i]):\n",
    "                df['device'][i] = 'desktop'\n",
    "            elif regexpMobile.search(df['uagent'].iloc[i]):\n",
    "                df['device'][i] = 'mobile'\n",
    "            elif regexpTablet.search(df['uagent'].iloc[i]):\n",
    "                df['device'][i] = 'mobile'\n",
    "        except:\n",
    "            pass\n",
    "            \n",
    "    return df"
   ]
  },
  {
   "cell_type": "code",
   "execution_count": 24,
   "metadata": {},
   "outputs": [],
   "source": [
    "def mergeData(data1, data2, field):\n",
    "    data1[field] = pd.to_numeric(data1[field], errors = 'coerce')\n",
    "    data2[field] = pd.to_numeric(data2[field], errors = 'coerce')\n",
    "    return pd.merge(data1, data2, left_on=field, right_on=field)"
   ]
  },
  {
   "cell_type": "code",
   "execution_count": 25,
   "metadata": {},
   "outputs": [],
   "source": [
    "def convIpToNumber(data):\n",
    "    return data.apply(lambda x: int(ipaddress.IPv4Address(x)))"
   ]
  },
  {
   "cell_type": "code",
   "execution_count": 26,
   "metadata": {},
   "outputs": [],
   "source": [
    "def applyDate(x):\n",
    "    try:\n",
    "        data = time.strptime(x, \"%d.%m.%Y %H:%M:%S\")\n",
    "        return int(time.mktime(data))\n",
    "    except:\n",
    "        return 1e-6"
   ]
  },
  {
   "cell_type": "code",
   "execution_count": 27,
   "metadata": {},
   "outputs": [],
   "source": [
    "def confDateStringToTimestamp(data):\n",
    "    return data.apply(lambda x: applyDate(x))"
   ]
  },
  {
   "cell_type": "code",
   "execution_count": 28,
   "metadata": {},
   "outputs": [],
   "source": [
    "def filter_having_more_than_n_views(data, user_column = \"ip\", seq_len = 4):\n",
    "    by_user = data.groupby(user_column)\n",
    "    by_user = by_user.filter(lambda x: len(x) >= seq_len)\n",
    "    return by_user\n",
    "\n",
    "def extract_sequences_by_user(data, user_column = \"ip\"):\n",
    "    return data.groupby(user_column)"
   ]
  },
  {
   "cell_type": "code",
   "execution_count": 108,
   "metadata": {},
   "outputs": [
    {
     "name": "stdout",
     "output_type": "stream",
     "text": [
      "55644\n"
     ]
    }
   ],
   "source": [
    "def vocab_size(catalog, field):\n",
    "    return catalog[field].unique().shape[0]\n",
    "vocab_size = vocab_size(catalog, \"track_id\") * 2\n",
    "print(vocab_size)"
   ]
  },
  {
   "cell_type": "code",
   "execution_count": 77,
   "metadata": {},
   "outputs": [],
   "source": [
    "def one_hot_encoder(data, y_field, vocab_size):\n",
    "    onehot = OneHotEncoder()\n",
    "    expanded = np.expand_dims(data[y_field][data[y_field].notnull()].values, axis = 1)\n",
    "    print(len(expanded))\n",
    "    print(expanded)\n",
    "    onehot.fit(expanded)\n",
    "    return onehot"
   ]
  },
  {
   "cell_type": "code",
   "execution_count": 30,
   "metadata": {},
   "outputs": [
    {
     "name": "stderr",
     "output_type": "stream",
     "text": [
      "C:\\Users\\ASUS\\Anaconda3\\envs\\tensorflow-gpu\\lib\\site-packages\\ipykernel_launcher.py:3: SettingWithCopyWarning: \n",
      "A value is trying to be set on a copy of a slice from a DataFrame.\n",
      "Try using .loc[row_indexer,col_indexer] = value instead\n",
      "\n",
      "See the caveats in the documentation: http://pandas.pydata.org/pandas-docs/stable/indexing.html#indexing-view-versus-copy\n",
      "  This is separate from the ipykernel package so we can avoid doing imports until\n"
     ]
    }
   ],
   "source": [
    "data['ip'] = convIpToNumber(data['ip'])\n",
    "prepared = filter_having_more_than_n_views(data)"
   ]
  },
  {
   "cell_type": "code",
   "execution_count": 79,
   "metadata": {},
   "outputs": [
    {
     "name": "stderr",
     "output_type": "stream",
     "text": [
      "C:\\Users\\ASUS\\Anaconda3\\envs\\tensorflow-gpu\\lib\\site-packages\\ipykernel_launcher.py:1: SettingWithCopyWarning: \n",
      "A value is trying to be set on a copy of a slice from a DataFrame.\n",
      "Try using .loc[row_indexer,col_indexer] = value instead\n",
      "\n",
      "See the caveats in the documentation: http://pandas.pydata.org/pandas-docs/stable/indexing.html#indexing-view-versus-copy\n",
      "  \"\"\"Entry point for launching an IPython kernel.\n"
     ]
    }
   ],
   "source": [
    "prepared[\"track_id\"] = pd.to_numeric(prepared[\"track_id\"], errors = 'coerce', downcast = 'integer')"
   ]
  },
  {
   "cell_type": "code",
   "execution_count": 17,
   "metadata": {
    "scrolled": true
   },
   "outputs": [
    {
     "ename": "NameError",
     "evalue": "name 'mergeData' is not defined",
     "output_type": "error",
     "traceback": [
      "\u001b[1;31m---------------------------------------------------------------------------\u001b[0m",
      "\u001b[1;31mNameError\u001b[0m                                 Traceback (most recent call last)",
      "\u001b[1;32m<ipython-input-17-82dd185c631e>\u001b[0m in \u001b[0;36m<module>\u001b[1;34m()\u001b[0m\n\u001b[0;32m     15\u001b[0m     \u001b[1;32mreturn\u001b[0m \u001b[0mdata\u001b[0m\u001b[1;33m\u001b[0m\u001b[0m\n\u001b[0;32m     16\u001b[0m \u001b[1;33m\u001b[0m\u001b[0m\n\u001b[1;32m---> 17\u001b[1;33m \u001b[0mprint\u001b[0m\u001b[1;33m(\u001b[0m\u001b[0mprepare_data\u001b[0m\u001b[1;33m(\u001b[0m\u001b[0mdata\u001b[0m\u001b[1;33m.\u001b[0m\u001b[0mhead\u001b[0m\u001b[1;33m(\u001b[0m\u001b[1;36m10000\u001b[0m\u001b[1;33m)\u001b[0m\u001b[1;33m,\u001b[0m \u001b[0mcatalog\u001b[0m\u001b[1;33m)\u001b[0m\u001b[1;33m)\u001b[0m\u001b[1;33m\u001b[0m\u001b[0m\n\u001b[0m",
      "\u001b[1;32m<ipython-input-17-82dd185c631e>\u001b[0m in \u001b[0;36mprepare_data\u001b[1;34m(data, catalog)\u001b[0m\n\u001b[0;32m      1\u001b[0m \u001b[1;32mdef\u001b[0m \u001b[0mprepare_data\u001b[0m\u001b[1;33m(\u001b[0m\u001b[0mdata\u001b[0m\u001b[1;33m,\u001b[0m \u001b[0mcatalog\u001b[0m\u001b[1;33m)\u001b[0m\u001b[1;33m:\u001b[0m\u001b[1;33m\u001b[0m\u001b[0m\n\u001b[0;32m      2\u001b[0m \u001b[1;33m\u001b[0m\u001b[0m\n\u001b[1;32m----> 3\u001b[1;33m     \u001b[0mdata\u001b[0m \u001b[1;33m=\u001b[0m \u001b[0mmergeData\u001b[0m\u001b[1;33m(\u001b[0m\u001b[0mdata\u001b[0m\u001b[1;33m,\u001b[0m \u001b[0mcatalog\u001b[0m\u001b[1;33m,\u001b[0m \u001b[1;34m\"track_id\"\u001b[0m\u001b[1;33m)\u001b[0m\u001b[1;33m\u001b[0m\u001b[0m\n\u001b[0m\u001b[0;32m      4\u001b[0m \u001b[1;33m\u001b[0m\u001b[0m\n\u001b[0;32m      5\u001b[0m     \u001b[0mdata\u001b[0m\u001b[1;33m[\u001b[0m\u001b[1;34m'ip'\u001b[0m\u001b[1;33m]\u001b[0m \u001b[1;33m=\u001b[0m \u001b[0mconvIpToNumber\u001b[0m\u001b[1;33m(\u001b[0m\u001b[0mdata\u001b[0m\u001b[1;33m[\u001b[0m\u001b[1;34m'ip'\u001b[0m\u001b[1;33m]\u001b[0m\u001b[1;33m)\u001b[0m\u001b[1;33m\u001b[0m\u001b[0m\n",
      "\u001b[1;31mNameError\u001b[0m: name 'mergeData' is not defined"
     ]
    }
   ],
   "source": [
    "def prepare_data(data, catalog):\n",
    "    \n",
    "    data = mergeData(data, catalog, \"track_id\")\n",
    "    \n",
    "    data['ip'] = convIpToNumber(data['ip'])\n",
    "    \n",
    "    data = filter_having_more_than_n_views(data)\n",
    "    \n",
    "    data = data.drop(['live', 'user_id', 'rightholder'], axis=1)\n",
    "    \n",
    "    data['date_efir'] = confDateStringToTimestamp(data['date_efir'])\n",
    "    \n",
    "    data = add_device(data)\n",
    "    \n",
    "    return data\n",
    "\n",
    "print(prepare_data(data.head(10000), catalog))"
   ]
  },
  {
   "cell_type": "code",
   "execution_count": 119,
   "metadata": {},
   "outputs": [
    {
     "name": "stdout",
     "output_type": "stream",
     "text": [
      "[['10912114' '10885813' '6948236']]\n"
     ]
    }
   ],
   "source": [
    "def create_x_video_vectors(x):\n",
    "     return np.expand_dims(x[\"track_id\"].values, axis=0).reshape(1, len(x))\n",
    "\n",
    "    #     return np.repeat(np.expand_dims(x[\"track_id\"].values, axis=0), len(x), axis = 0).reshape(len(x), len(x))\n",
    "\n",
    "print(create_x_video_vectors(data.head(3)))\n",
    "\n",
    "def create_x(x):\n",
    "    return create_x_video_vectors(x)"
   ]
  },
  {
   "cell_type": "code",
   "execution_count": 142,
   "metadata": {},
   "outputs": [
    {
     "name": "stdout",
     "output_type": "stream",
     "text": [
      "7967447\n",
      "[[10912114.]\n",
      " [10885813.]\n",
      " [ 6948236.]\n",
      " ...\n",
      " [10917309.]\n",
      " [ 7634638.]\n",
      " [10915645.]]\n"
     ]
    }
   ],
   "source": [
    "one_hot = one_hot_encoder(prepared, \"track_id\", vocab_size)\n",
    "\n",
    "def create_y(y):\n",
    "    y = one_hot.transform(np.expand_dims(y[\"track_id\"][y[\"track_id\"].notnull()].values, axis = 1)).toarray()\n",
    "    return y"
   ]
  },
  {
   "cell_type": "code",
   "execution_count": 143,
   "metadata": {},
   "outputs": [
    {
     "name": "stdout",
     "output_type": "stream",
     "text": [
      "(1, 3)\n",
      "(1, 248868)\n"
     ]
    }
   ],
   "source": [
    "def train_generator(seq_by_user, x_len = 3):\n",
    "    for ip, group in seq_by_user:\n",
    "        group = group.sort_values(\"timestamp\")\n",
    "        x = create_x(group[0:x_len])\n",
    "        y = create_y(group[x_len:])\n",
    "        yield (x, y)\n",
    "        \n",
    "generation = next(train_generator(extract_sequences_by_user(prepared)))\n",
    "print(generation[0].shape)\n",
    "print(generation[1].shape)"
   ]
  },
  {
   "cell_type": "code",
   "execution_count": 146,
   "metadata": {},
   "outputs": [
    {
     "name": "stdout",
     "output_type": "stream",
     "text": [
      "248868\n",
      "_________________________________________________________________\n",
      "Layer (type)                 Output Shape              Param #   \n",
      "=================================================================\n",
      "input_18 (InputLayer)        (None, 3)                 0         \n",
      "_________________________________________________________________\n",
      "embedding_20 (Embedding)     (None, 3, 100)            24886800  \n",
      "_________________________________________________________________\n",
      "average_pooling1d_4 (Average (None, 1, 100)            0         \n",
      "_________________________________________________________________\n",
      "dense_53 (Dense)             (None, 1, 1024)           103424    \n",
      "_________________________________________________________________\n",
      "dense_54 (Dense)             (None, 1, 1024)           1049600   \n",
      "_________________________________________________________________\n",
      "dense_55 (Dense)             (None, 1, 1024)           1049600   \n",
      "_________________________________________________________________\n",
      "dropout_14 (Dropout)         (None, 1, 1024)           0         \n",
      "_________________________________________________________________\n",
      "dense_56 (Dense)             (None, 1, 248868)         255089700 \n",
      "=================================================================\n",
      "Total params: 282,179,124\n",
      "Trainable params: 282,179,124\n",
      "Non-trainable params: 0\n",
      "_________________________________________________________________\n",
      "Epoch 1/1\n"
     ]
    },
    {
     "ename": "ValueError",
     "evalue": "Error when checking target: expected dense_56 to have 3 dimensions, but got array with shape (1, 248868)",
     "output_type": "error",
     "traceback": [
      "\u001b[1;31m---------------------------------------------------------------------------\u001b[0m",
      "\u001b[1;31mValueError\u001b[0m                                Traceback (most recent call last)",
      "\u001b[1;32m<ipython-input-146-4f4102264901>\u001b[0m in \u001b[0;36m<module>\u001b[1;34m()\u001b[0m\n\u001b[0;32m     26\u001b[0m \u001b[0mmodel\u001b[0m\u001b[1;33m.\u001b[0m\u001b[0msummary\u001b[0m\u001b[1;33m(\u001b[0m\u001b[1;33m)\u001b[0m\u001b[1;33m\u001b[0m\u001b[0m\n\u001b[0;32m     27\u001b[0m \u001b[1;33m\u001b[0m\u001b[0m\n\u001b[1;32m---> 28\u001b[1;33m \u001b[0mmodel\u001b[0m\u001b[1;33m.\u001b[0m\u001b[0mfit_generator\u001b[0m\u001b[1;33m(\u001b[0m\u001b[0mtrain_generator\u001b[0m\u001b[1;33m(\u001b[0m\u001b[0mextract_sequences_by_user\u001b[0m\u001b[1;33m(\u001b[0m\u001b[0mprepared\u001b[0m\u001b[1;33m)\u001b[0m\u001b[1;33m)\u001b[0m\u001b[1;33m,\u001b[0m \u001b[0msteps_per_epoch\u001b[0m\u001b[1;33m=\u001b[0m\u001b[0mlen\u001b[0m\u001b[1;33m(\u001b[0m\u001b[0mprepared\u001b[0m\u001b[1;33m)\u001b[0m\u001b[1;33m,\u001b[0m \u001b[0mepochs\u001b[0m\u001b[1;33m=\u001b[0m\u001b[1;36m1\u001b[0m\u001b[1;33m,\u001b[0m \u001b[0mverbose\u001b[0m\u001b[1;33m=\u001b[0m\u001b[1;36m1\u001b[0m\u001b[1;33m)\u001b[0m\u001b[1;33m\u001b[0m\u001b[0m\n\u001b[0m\u001b[0;32m     29\u001b[0m \u001b[1;33m\u001b[0m\u001b[0m\n",
      "\u001b[1;32m~\\Anaconda3\\envs\\tensorflow-gpu\\lib\\site-packages\\keras\\legacy\\interfaces.py\u001b[0m in \u001b[0;36mwrapper\u001b[1;34m(*args, **kwargs)\u001b[0m\n\u001b[0;32m     89\u001b[0m                 warnings.warn('Update your `' + object_name +\n\u001b[0;32m     90\u001b[0m                               '` call to the Keras 2 API: ' + signature, stacklevel=2)\n\u001b[1;32m---> 91\u001b[1;33m             \u001b[1;32mreturn\u001b[0m \u001b[0mfunc\u001b[0m\u001b[1;33m(\u001b[0m\u001b[1;33m*\u001b[0m\u001b[0margs\u001b[0m\u001b[1;33m,\u001b[0m \u001b[1;33m**\u001b[0m\u001b[0mkwargs\u001b[0m\u001b[1;33m)\u001b[0m\u001b[1;33m\u001b[0m\u001b[0m\n\u001b[0m\u001b[0;32m     92\u001b[0m         \u001b[0mwrapper\u001b[0m\u001b[1;33m.\u001b[0m\u001b[0m_original_function\u001b[0m \u001b[1;33m=\u001b[0m \u001b[0mfunc\u001b[0m\u001b[1;33m\u001b[0m\u001b[0m\n\u001b[0;32m     93\u001b[0m         \u001b[1;32mreturn\u001b[0m \u001b[0mwrapper\u001b[0m\u001b[1;33m\u001b[0m\u001b[0m\n",
      "\u001b[1;32m~\\Anaconda3\\envs\\tensorflow-gpu\\lib\\site-packages\\keras\\engine\\training.py\u001b[0m in \u001b[0;36mfit_generator\u001b[1;34m(self, generator, steps_per_epoch, epochs, verbose, callbacks, validation_data, validation_steps, class_weight, max_queue_size, workers, use_multiprocessing, shuffle, initial_epoch)\u001b[0m\n\u001b[0;32m   2242\u001b[0m                     outs = self.train_on_batch(x, y,\n\u001b[0;32m   2243\u001b[0m                                                \u001b[0msample_weight\u001b[0m\u001b[1;33m=\u001b[0m\u001b[0msample_weight\u001b[0m\u001b[1;33m,\u001b[0m\u001b[1;33m\u001b[0m\u001b[0m\n\u001b[1;32m-> 2244\u001b[1;33m                                                class_weight=class_weight)\n\u001b[0m\u001b[0;32m   2245\u001b[0m \u001b[1;33m\u001b[0m\u001b[0m\n\u001b[0;32m   2246\u001b[0m                     \u001b[1;32mif\u001b[0m \u001b[1;32mnot\u001b[0m \u001b[0misinstance\u001b[0m\u001b[1;33m(\u001b[0m\u001b[0mouts\u001b[0m\u001b[1;33m,\u001b[0m \u001b[0mlist\u001b[0m\u001b[1;33m)\u001b[0m\u001b[1;33m:\u001b[0m\u001b[1;33m\u001b[0m\u001b[0m\n",
      "\u001b[1;32m~\\Anaconda3\\envs\\tensorflow-gpu\\lib\\site-packages\\keras\\engine\\training.py\u001b[0m in \u001b[0;36mtrain_on_batch\u001b[1;34m(self, x, y, sample_weight, class_weight)\u001b[0m\n\u001b[0;32m   1882\u001b[0m             \u001b[0mx\u001b[0m\u001b[1;33m,\u001b[0m \u001b[0my\u001b[0m\u001b[1;33m,\u001b[0m\u001b[1;33m\u001b[0m\u001b[0m\n\u001b[0;32m   1883\u001b[0m             \u001b[0msample_weight\u001b[0m\u001b[1;33m=\u001b[0m\u001b[0msample_weight\u001b[0m\u001b[1;33m,\u001b[0m\u001b[1;33m\u001b[0m\u001b[0m\n\u001b[1;32m-> 1884\u001b[1;33m             class_weight=class_weight)\n\u001b[0m\u001b[0;32m   1885\u001b[0m         \u001b[1;32mif\u001b[0m \u001b[0mself\u001b[0m\u001b[1;33m.\u001b[0m\u001b[0muses_learning_phase\u001b[0m \u001b[1;32mand\u001b[0m \u001b[1;32mnot\u001b[0m \u001b[0misinstance\u001b[0m\u001b[1;33m(\u001b[0m\u001b[0mK\u001b[0m\u001b[1;33m.\u001b[0m\u001b[0mlearning_phase\u001b[0m\u001b[1;33m(\u001b[0m\u001b[1;33m)\u001b[0m\u001b[1;33m,\u001b[0m \u001b[0mint\u001b[0m\u001b[1;33m)\u001b[0m\u001b[1;33m:\u001b[0m\u001b[1;33m\u001b[0m\u001b[0m\n\u001b[0;32m   1886\u001b[0m             \u001b[0mins\u001b[0m \u001b[1;33m=\u001b[0m \u001b[0mx\u001b[0m \u001b[1;33m+\u001b[0m \u001b[0my\u001b[0m \u001b[1;33m+\u001b[0m \u001b[0msample_weights\u001b[0m \u001b[1;33m+\u001b[0m \u001b[1;33m[\u001b[0m\u001b[1;36m1.\u001b[0m\u001b[1;33m]\u001b[0m\u001b[1;33m\u001b[0m\u001b[0m\n",
      "\u001b[1;32m~\\Anaconda3\\envs\\tensorflow-gpu\\lib\\site-packages\\keras\\engine\\training.py\u001b[0m in \u001b[0;36m_standardize_user_data\u001b[1;34m(self, x, y, sample_weight, class_weight, check_array_lengths, batch_size)\u001b[0m\n\u001b[0;32m   1485\u001b[0m                                     \u001b[0moutput_shapes\u001b[0m\u001b[1;33m,\u001b[0m\u001b[1;33m\u001b[0m\u001b[0m\n\u001b[0;32m   1486\u001b[0m                                     \u001b[0mcheck_batch_axis\u001b[0m\u001b[1;33m=\u001b[0m\u001b[1;32mFalse\u001b[0m\u001b[1;33m,\u001b[0m\u001b[1;33m\u001b[0m\u001b[0m\n\u001b[1;32m-> 1487\u001b[1;33m                                     exception_prefix='target')\n\u001b[0m\u001b[0;32m   1488\u001b[0m         sample_weights = _standardize_sample_weights(sample_weight,\n\u001b[0;32m   1489\u001b[0m                                                      self._feed_output_names)\n",
      "\u001b[1;32m~\\Anaconda3\\envs\\tensorflow-gpu\\lib\\site-packages\\keras\\engine\\training.py\u001b[0m in \u001b[0;36m_standardize_input_data\u001b[1;34m(data, names, shapes, check_batch_axis, exception_prefix)\u001b[0m\n\u001b[0;32m    111\u001b[0m                         \u001b[1;34m': expected '\u001b[0m \u001b[1;33m+\u001b[0m \u001b[0mnames\u001b[0m\u001b[1;33m[\u001b[0m\u001b[0mi\u001b[0m\u001b[1;33m]\u001b[0m \u001b[1;33m+\u001b[0m \u001b[1;34m' to have '\u001b[0m \u001b[1;33m+\u001b[0m\u001b[1;33m\u001b[0m\u001b[0m\n\u001b[0;32m    112\u001b[0m                         \u001b[0mstr\u001b[0m\u001b[1;33m(\u001b[0m\u001b[0mlen\u001b[0m\u001b[1;33m(\u001b[0m\u001b[0mshape\u001b[0m\u001b[1;33m)\u001b[0m\u001b[1;33m)\u001b[0m \u001b[1;33m+\u001b[0m \u001b[1;34m' dimensions, but got array '\u001b[0m\u001b[1;33m\u001b[0m\u001b[0m\n\u001b[1;32m--> 113\u001b[1;33m                         'with shape ' + str(data_shape))\n\u001b[0m\u001b[0;32m    114\u001b[0m                 \u001b[1;32mif\u001b[0m \u001b[1;32mnot\u001b[0m \u001b[0mcheck_batch_axis\u001b[0m\u001b[1;33m:\u001b[0m\u001b[1;33m\u001b[0m\u001b[0m\n\u001b[0;32m    115\u001b[0m                     \u001b[0mdata_shape\u001b[0m \u001b[1;33m=\u001b[0m \u001b[0mdata_shape\u001b[0m\u001b[1;33m[\u001b[0m\u001b[1;36m1\u001b[0m\u001b[1;33m:\u001b[0m\u001b[1;33m]\u001b[0m\u001b[1;33m\u001b[0m\u001b[0m\n",
      "\u001b[1;31mValueError\u001b[0m: Error when checking target: expected dense_56 to have 3 dimensions, but got array with shape (1, 248868)"
     ]
    }
   ],
   "source": [
    "vocab_size = 248868\n",
    "print(vocab_size)\n",
    "\n",
    "emb_input = keras.layers.Input(shape=(3,))\n",
    "\n",
    "embedding = keras.layers.Embedding(vocab_size, 100, input_length=3)(emb_input)\n",
    "\n",
    "avg = keras.layers.AveragePooling1D(pool_size=3)(embedding)\n",
    "\n",
    "#input_num_cat = keras.layers.Input(shape = num_cat_shape)\n",
    "#concat = keras.layers.Concat(embedding, input_num_cat)\n",
    "# gru_1 = keras.layers.GRU(128, return_sequences=True)(embedding)\n",
    "# gru_2 = keras.layers.GRU(128)(gru_1)\n",
    "dense_1 = keras.layers.Dense(1024, activation = \"tanh\")(avg)\n",
    "dense_2 = keras.layers.Dense(1024, activation = \"tanh\")(dense_1)\n",
    "dense_3 = keras.layers.Dense(1024, activation = \"tanh\")(dense_2)\n",
    "drop = keras.layers.Dropout(0.5)(dense_3)\n",
    "dense_4 = keras.layers.Dense(vocab_size, activation = \"softmax\")(drop)\n",
    "\n",
    "model = keras.models.Model(inputs=emb_input, outputs=dense_4)\n",
    "\n",
    "model.compile(loss='categorical_crossentropy',\n",
    "              optimizer='adam',\n",
    "              metrics=['categorical_accuracy'])\n",
    "\n",
    "model.summary()\n",
    "\n",
    "model.fit_generator(train_generator(extract_sequences_by_user(prepared)), steps_per_epoch=len(prepared), epochs=1, verbose=1)\n",
    "\n"
   ]
  },
  {
   "cell_type": "code",
   "execution_count": null,
   "metadata": {},
   "outputs": [],
   "source": []
  }
 ],
 "metadata": {
  "kernelspec": {
   "display_name": "Python 3",
   "language": "python",
   "name": "python3"
  },
  "language_info": {
   "codemirror_mode": {
    "name": "ipython",
    "version": 3
   },
   "file_extension": ".py",
   "mimetype": "text/x-python",
   "name": "python",
   "nbconvert_exporter": "python",
   "pygments_lexer": "ipython3",
   "version": "3.5.4"
  }
 },
 "nbformat": 4,
 "nbformat_minor": 2
}
