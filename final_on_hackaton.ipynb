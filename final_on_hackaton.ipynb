{
 "cells": [
  {
   "cell_type": "code",
   "execution_count": null,
   "metadata": {},
   "outputs": [],
   "source": [
    "import pandas as pd\n",
    "import matplotlib.pyplot as plt\n",
    "import numpy as np\n",
    "import ipaddress\n",
    "from datetime import datetime\n",
    "import time\n",
    "import keras\n",
    "import re\n",
    "from sklearn import preprocessing\n",
    "from sklearn.preprocessing import StandardScaler\n",
    "from sklearn.feature_extraction import DictVectorizer as DV"
   ]
  },
  {
   "cell_type": "code",
   "execution_count": null,
   "metadata": {
    "scrolled": true
   },
   "outputs": [],
   "source": [
    "data = pd.read_csv(\"./data_full.csv\", sep = \";\", error_bad_lines=False)"
   ]
  },
  {
   "cell_type": "code",
   "execution_count": 103,
   "metadata": {},
   "outputs": [],
   "source": [
    "catalog = pd.read_csv(\"./catalog.csv\", sep = \";\", error_bad_lines=False)"
   ]
  },
  {
   "cell_type": "code",
   "execution_count": 4,
   "metadata": {
    "scrolled": true
   },
   "outputs": [
    {
     "data": {
      "text/html": [
       "<div>\n",
       "<style scoped>\n",
       "    .dataframe tbody tr th:only-of-type {\n",
       "        vertical-align: middle;\n",
       "    }\n",
       "\n",
       "    .dataframe tbody tr th {\n",
       "        vertical-align: top;\n",
       "    }\n",
       "\n",
       "    .dataframe thead th {\n",
       "        text-align: right;\n",
       "    }\n",
       "</style>\n",
       "<table border=\"1\" class=\"dataframe\">\n",
       "  <thead>\n",
       "    <tr style=\"text-align: right;\">\n",
       "      <th></th>\n",
       "      <th>timestamp</th>\n",
       "      <th>ip</th>\n",
       "      <th>track_id</th>\n",
       "      <th>cookie</th>\n",
       "      <th>live</th>\n",
       "      <th>user_id</th>\n",
       "      <th>referer</th>\n",
       "      <th>uagent</th>\n",
       "      <th>rightholder</th>\n",
       "      <th>author_id</th>\n",
       "    </tr>\n",
       "  </thead>\n",
       "  <tbody>\n",
       "    <tr>\n",
       "      <th>0</th>\n",
       "      <td>1517778000</td>\n",
       "      <td>230.59.74.120</td>\n",
       "      <td>10912114</td>\n",
       "      <td>42536dc7a8578b0cfac05f704977429a</td>\n",
       "      <td>0</td>\n",
       "      <td>NaN</td>\n",
       "      <td>https%3A%2F%2Frutube.ru%2Fvideo%2F0f5c9c5839b1...</td>\n",
       "      <td>Mozilla/5.0 (Windows NT 6.1; Win64; x64) Apple...</td>\n",
       "      <td>2</td>\n",
       "      <td>1480930</td>\n",
       "    </tr>\n",
       "    <tr>\n",
       "      <th>1</th>\n",
       "      <td>1517778000</td>\n",
       "      <td>218.222.225.36</td>\n",
       "      <td>10885813</td>\n",
       "      <td>8f92f3f2b1e7a2498761b8cb3b1d03c3</td>\n",
       "      <td>0</td>\n",
       "      <td>NaN</td>\n",
       "      <td>https%3A%2F%2Frutube.ru%2Fvideo%2Fd8068436dcf5...</td>\n",
       "      <td>Mozilla/5.0 (Windows NT 5.1) AppleWebKit/537.3...</td>\n",
       "      <td>2</td>\n",
       "      <td>301323</td>\n",
       "    </tr>\n",
       "    <tr>\n",
       "      <th>2</th>\n",
       "      <td>1517778000</td>\n",
       "      <td>55.63.241.224</td>\n",
       "      <td>6948236</td>\n",
       "      <td>336d5ebc5436534e61d16e63ddfca327</td>\n",
       "      <td>-</td>\n",
       "      <td>2.231332e+09</td>\n",
       "      <td>http%3A%2F%2Fandroid.rutube.ru%2F</td>\n",
       "      <td>okhttp/2.6.0</td>\n",
       "      <td>-</td>\n",
       "      <td>-</td>\n",
       "    </tr>\n",
       "    <tr>\n",
       "      <th>3</th>\n",
       "      <td>1517778000</td>\n",
       "      <td>230.34.98.99</td>\n",
       "      <td>8481402</td>\n",
       "      <td>cf8dd809edf104873a1c57921b34f25e</td>\n",
       "      <td>0</td>\n",
       "      <td>NaN</td>\n",
       "      <td>https%3A%2F%2Frutube.ru%2Fvideo%2F1058cf249e46...</td>\n",
       "      <td>Mozilla/5.0 (Linux; Android 7.1.2; Redmi 4X Bu...</td>\n",
       "      <td>NaN</td>\n",
       "      <td>721346</td>\n",
       "    </tr>\n",
       "    <tr>\n",
       "      <th>4</th>\n",
       "      <td>1517778000</td>\n",
       "      <td>232.3.41.226</td>\n",
       "      <td>10908060</td>\n",
       "      <td>4ca525a1d60de6d74e3c32529fe47ab5</td>\n",
       "      <td>0</td>\n",
       "      <td>NaN</td>\n",
       "      <td>https%3A%2F%2Fyastatic.net%2Fvideo-player%2F0x...</td>\n",
       "      <td>Mozilla/5.0 (Windows NT 10.0; Win64; x64) Appl...</td>\n",
       "      <td>135</td>\n",
       "      <td>599848</td>\n",
       "    </tr>\n",
       "  </tbody>\n",
       "</table>\n",
       "</div>"
      ],
      "text/plain": [
       "    timestamp              ip  track_id                            cookie  \\\n",
       "0  1517778000   230.59.74.120  10912114  42536dc7a8578b0cfac05f704977429a   \n",
       "1  1517778000  218.222.225.36  10885813  8f92f3f2b1e7a2498761b8cb3b1d03c3   \n",
       "2  1517778000   55.63.241.224   6948236  336d5ebc5436534e61d16e63ddfca327   \n",
       "3  1517778000    230.34.98.99   8481402  cf8dd809edf104873a1c57921b34f25e   \n",
       "4  1517778000    232.3.41.226  10908060  4ca525a1d60de6d74e3c32529fe47ab5   \n",
       "\n",
       "  live       user_id                                            referer  \\\n",
       "0    0           NaN  https%3A%2F%2Frutube.ru%2Fvideo%2F0f5c9c5839b1...   \n",
       "1    0           NaN  https%3A%2F%2Frutube.ru%2Fvideo%2Fd8068436dcf5...   \n",
       "2    -  2.231332e+09                  http%3A%2F%2Fandroid.rutube.ru%2F   \n",
       "3    0           NaN  https%3A%2F%2Frutube.ru%2Fvideo%2F1058cf249e46...   \n",
       "4    0           NaN  https%3A%2F%2Fyastatic.net%2Fvideo-player%2F0x...   \n",
       "\n",
       "                                              uagent rightholder author_id  \n",
       "0  Mozilla/5.0 (Windows NT 6.1; Win64; x64) Apple...           2   1480930  \n",
       "1  Mozilla/5.0 (Windows NT 5.1) AppleWebKit/537.3...           2    301323  \n",
       "2                                       okhttp/2.6.0           -         -  \n",
       "3  Mozilla/5.0 (Linux; Android 7.1.2; Redmi 4X Bu...         NaN    721346  \n",
       "4  Mozilla/5.0 (Windows NT 10.0; Win64; x64) Appl...         135    599848  "
      ]
     },
     "execution_count": 4,
     "metadata": {},
     "output_type": "execute_result"
    }
   ],
   "source": [
    "data.head()"
   ]
  },
  {
   "cell_type": "code",
   "execution_count": 5,
   "metadata": {},
   "outputs": [
    {
     "data": {
      "text/html": [
       "<div>\n",
       "<style scoped>\n",
       "    .dataframe tbody tr th:only-of-type {\n",
       "        vertical-align: middle;\n",
       "    }\n",
       "\n",
       "    .dataframe tbody tr th {\n",
       "        vertical-align: top;\n",
       "    }\n",
       "\n",
       "    .dataframe thead th {\n",
       "        text-align: right;\n",
       "    }\n",
       "</style>\n",
       "<table border=\"1\" class=\"dataframe\">\n",
       "  <thead>\n",
       "    <tr style=\"text-align: right;\">\n",
       "      <th></th>\n",
       "      <th>idec</th>\n",
       "      <th>track_id</th>\n",
       "      <th>video_id</th>\n",
       "      <th>series_id</th>\n",
       "      <th>title</th>\n",
       "      <th>season</th>\n",
       "      <th>episode</th>\n",
       "      <th>episode_global</th>\n",
       "      <th>date_efir</th>\n",
       "      <th>duration</th>\n",
       "    </tr>\n",
       "  </thead>\n",
       "  <tbody>\n",
       "    <tr>\n",
       "      <th>0</th>\n",
       "      <td>PR592505</td>\n",
       "      <td>10258734</td>\n",
       "      <td>cd59084eb50e6ebe9fe20ad04e0c17db</td>\n",
       "      <td>1.045685e+10</td>\n",
       "      <td>\\tБыть или не быть, 1 сезон, 1 серия</td>\n",
       "      <td>1.0</td>\n",
       "      <td>1.0</td>\n",
       "      <td>1.0</td>\n",
       "      <td>02.04.2017 22:00:34</td>\n",
       "      <td>NaN</td>\n",
       "    </tr>\n",
       "    <tr>\n",
       "      <th>1</th>\n",
       "      <td>PR609630</td>\n",
       "      <td>10843255</td>\n",
       "      <td>a5d2e6bae4752d9ec0fae9b53f00700d</td>\n",
       "      <td>1.059247e+10</td>\n",
       "      <td>NaN</td>\n",
       "      <td>11.0</td>\n",
       "      <td>1.0</td>\n",
       "      <td>1.0</td>\n",
       "      <td>NaN</td>\n",
       "      <td>NaN</td>\n",
       "    </tr>\n",
       "    <tr>\n",
       "      <th>2</th>\n",
       "      <td>PR597128</td>\n",
       "      <td>10573153</td>\n",
       "      <td>bcd45606c1f7cbb5cb9d1dbd7d346cc3</td>\n",
       "      <td>1.047956e+10</td>\n",
       "      <td>NaN</td>\n",
       "      <td>7.0</td>\n",
       "      <td>1.0</td>\n",
       "      <td>1.0</td>\n",
       "      <td>06.09.2017 22:46:05</td>\n",
       "      <td>NaN</td>\n",
       "    </tr>\n",
       "    <tr>\n",
       "      <th>3</th>\n",
       "      <td>PR257331</td>\n",
       "      <td>6617650</td>\n",
       "      <td>609217ac7b8c4e55d44c4a29bf52554b</td>\n",
       "      <td>NaN</td>\n",
       "      <td>\"Интерны. История болезни\"</td>\n",
       "      <td>NaN</td>\n",
       "      <td>NaN</td>\n",
       "      <td>NaN</td>\n",
       "      <td>12.06.2012 22:00:44</td>\n",
       "      <td>NaN</td>\n",
       "    </tr>\n",
       "    <tr>\n",
       "      <th>4</th>\n",
       "      <td>PR529698</td>\n",
       "      <td>7991493</td>\n",
       "      <td>bde3620ba038b3e8dd41d03bf516a7eb</td>\n",
       "      <td>1.024102e+10</td>\n",
       "      <td>#ЖАННАПОЖЕНИ</td>\n",
       "      <td>1.0</td>\n",
       "      <td>1.0</td>\n",
       "      <td>101.0</td>\n",
       "      <td>05.09.2015 13:30:00</td>\n",
       "      <td>NaN</td>\n",
       "    </tr>\n",
       "  </tbody>\n",
       "</table>\n",
       "</div>"
      ],
      "text/plain": [
       "       idec  track_id                          video_id     series_id  \\\n",
       "0  PR592505  10258734  cd59084eb50e6ebe9fe20ad04e0c17db  1.045685e+10   \n",
       "1  PR609630  10843255  a5d2e6bae4752d9ec0fae9b53f00700d  1.059247e+10   \n",
       "2  PR597128  10573153  bcd45606c1f7cbb5cb9d1dbd7d346cc3  1.047956e+10   \n",
       "3  PR257331   6617650  609217ac7b8c4e55d44c4a29bf52554b           NaN   \n",
       "4  PR529698   7991493  bde3620ba038b3e8dd41d03bf516a7eb  1.024102e+10   \n",
       "\n",
       "                                  title  season  episode  episode_global  \\\n",
       "0  \\tБыть или не быть, 1 сезон, 1 серия     1.0      1.0             1.0   \n",
       "1                                   NaN    11.0      1.0             1.0   \n",
       "2                                   NaN     7.0      1.0             1.0   \n",
       "3            \"Интерны. История болезни\"     NaN      NaN             NaN   \n",
       "4                          #ЖАННАПОЖЕНИ     1.0      1.0           101.0   \n",
       "\n",
       "             date_efir  duration  \n",
       "0  02.04.2017 22:00:34       NaN  \n",
       "1                  NaN       NaN  \n",
       "2  06.09.2017 22:46:05       NaN  \n",
       "3  12.06.2012 22:00:44       NaN  \n",
       "4  05.09.2015 13:30:00       NaN  "
      ]
     },
     "execution_count": 5,
     "metadata": {},
     "output_type": "execute_result"
    }
   ],
   "source": [
    "catalog.head()"
   ]
  },
  {
   "cell_type": "code",
   "execution_count": 6,
   "metadata": {},
   "outputs": [],
   "source": [
    "def add_device(df):\n",
    "    regexpDesktop = re.compile('(Windows|Linux|Mozilla)')\n",
    "    regexpMobile = re.compile('(iPhone|RutubeAndroid|okhttp|CFNetwork|UCBrowser)')\n",
    "    regexpTablet = re.compile('(iPad)')\n",
    "    \n",
    "    df['device'] = pd.Series('0', index=df.index)\n",
    "    \n",
    "    for i, row in df.iterrows():\n",
    "        try:\n",
    "            if regexpDesktop.search(df['uagent'].iloc[i]):\n",
    "                df['device'][i] = 'desktop'\n",
    "            elif regexpMobile.search(df['uagent'].iloc[i]):\n",
    "                df['device'][i] = 'mobile'\n",
    "            elif regexpTablet.search(df['uagent'].iloc[i]):\n",
    "                df['device'][i] = 'mobile'\n",
    "        except:\n",
    "            pass\n",
    "            \n",
    "    return df"
   ]
  },
  {
   "cell_type": "code",
   "execution_count": 7,
   "metadata": {},
   "outputs": [],
   "source": [
    "def mergeData(data1, data2, field):\n",
    "    data1[field] = pd.to_numeric(data1[field], errors = 'coerce')\n",
    "    data2[field] = pd.to_numeric(data2[field], errors = 'coerce')\n",
    "    return pd.merge(data1, data2, left_on=field, right_on=field)"
   ]
  },
  {
   "cell_type": "code",
   "execution_count": 8,
   "metadata": {},
   "outputs": [],
   "source": [
    "def convIpToNumber(data):\n",
    "    return data.apply(lambda x: int(ipaddress.IPv4Address(x)))"
   ]
  },
  {
   "cell_type": "code",
   "execution_count": 9,
   "metadata": {},
   "outputs": [],
   "source": [
    "def applyDate(x):\n",
    "    try:\n",
    "        data = time.strptime(x, \"%d.%m.%Y %H:%M:%S\")\n",
    "        return int(time.mktime(data))\n",
    "    except:\n",
    "        return 1e-6"
   ]
  },
  {
   "cell_type": "code",
   "execution_count": 10,
   "metadata": {},
   "outputs": [],
   "source": [
    "def confDateStringToTimestamp(data):\n",
    "    return data.apply(lambda x: applyDate(x))"
   ]
  },
  {
   "cell_type": "code",
   "execution_count": 11,
   "metadata": {},
   "outputs": [],
   "source": [
    "def filter_users_with_n_views(data, user_column = \"ip\", seq_len = 5):\n",
    "    by_user = data.groupby(user_column)\n",
    "    by_user = by_user.filter(lambda x: len(x) >= seq_len)\n",
    "    return by_user\n",
    "\n",
    "def extract_sequences_by_user(data, user_column = \"ip\"):\n",
    "    return data.groupby(user_column)"
   ]
  },
  {
   "cell_type": "code",
   "execution_count": 12,
   "metadata": {},
   "outputs": [],
   "source": [
    "def filter_videos_with_n_views(data, n = 1000):\n",
    "    data[\"track_id\"] = pd.to_numeric(data[\"track_id\"], errors = 'coerce', downcast = 'integer')\n",
    "    data = data[data[\"track_id\"].notnull()]\n",
    "    data_top_n = data.groupby(\"track_id\").filter(lambda x: len(x) >= n)\n",
    "    return data_top_n"
   ]
  },
  {
   "cell_type": "code",
   "execution_count": 16,
   "metadata": {},
   "outputs": [],
   "source": [
    "cat_cols = [ 'series_id', 'idec', 'author_id']\n",
    "num_cols = [ 'duration', 'date_efir']\n",
    "\n",
    "def label_encoder(data):\n",
    "    le = preprocessing.LabelEncoder()\n",
    "    le.fit(data)\n",
    "    return le\n",
    "\n",
    "def create_cat_vectorizer(data):\n",
    "    \n",
    "    cat = data[cat_cols]\n",
    "    cat.fillna( 'NA', inplace = True )\n",
    "    x_cat = cat.to_dict(orient = 'records')\n",
    "    \n",
    "    vectorizer = DV( sparse = False )\n",
    "    vectorizer.fit(x_cat)\n",
    "    \n",
    "    return vectorizer\n",
    "\n",
    "def cat_vectorize(data, vectorizer):\n",
    "    \n",
    "    cat = data[cat_cols]\n",
    "    cat.fillna( 'NA', inplace = True )\n",
    "    x_cat = cat.to_dict(orient = 'records')\n",
    "    \n",
    "    return vectorizer.transform(x_cat)\n",
    "    "
   ]
  },
  {
   "cell_type": "code",
   "execution_count": 17,
   "metadata": {},
   "outputs": [],
   "source": [
    "def replace_null_value(x):\n",
    "    if (x == 'null'):\n",
    "        return 0\n",
    "    else:\n",
    "        return x\n",
    "\n",
    "def data_scale(data):\n",
    "    scaler = StandardScaler()\n",
    "    data.fillna(0, inplace = True )\n",
    "    data = data.apply(lambda x: replace_null_value(x))\n",
    "    print(data)\n",
    "    data = scaler.fit_transform(data.reshape(-1, 1))\n",
    "    return data"
   ]
  },
  {
   "cell_type": "code",
   "execution_count": 18,
   "metadata": {},
   "outputs": [],
   "source": [
    "def data_to_num_and_cat(data):\n",
    "    data['date_efir'] = data_scale(data['date_efir'])\n",
    "    data['duration'] = data_scale(data['duration'])\n",
    "    return data"
   ]
  },
  {
   "cell_type": "code",
   "execution_count": 19,
   "metadata": {
    "scrolled": true
   },
   "outputs": [
    {
     "name": "stdout",
     "output_type": "stream",
     "text": [
      "7142931\n",
      "4344933\n"
     ]
    }
   ],
   "source": [
    "def prepare_data(data, catalog):\n",
    "    \n",
    "    data['ip'] = convIpToNumber(data['ip'])\n",
    "    \n",
    "    data = filter_videos_with_n_views(data)\n",
    "    print(len(data))\n",
    "    \n",
    "    data = filter_users_with_n_views(data)\n",
    "    print(len(data))\n",
    "    \n",
    "    return data\n",
    "\n",
    "prepared = prepare_data(data, catalog)"
   ]
  },
  {
   "cell_type": "code",
   "execution_count": 20,
   "metadata": {},
   "outputs": [
    {
     "data": {
      "text/html": [
       "<div>\n",
       "<style scoped>\n",
       "    .dataframe tbody tr th:only-of-type {\n",
       "        vertical-align: middle;\n",
       "    }\n",
       "\n",
       "    .dataframe tbody tr th {\n",
       "        vertical-align: top;\n",
       "    }\n",
       "\n",
       "    .dataframe thead th {\n",
       "        text-align: right;\n",
       "    }\n",
       "</style>\n",
       "<table border=\"1\" class=\"dataframe\">\n",
       "  <thead>\n",
       "    <tr style=\"text-align: right;\">\n",
       "      <th></th>\n",
       "      <th>timestamp</th>\n",
       "      <th>ip</th>\n",
       "      <th>track_id</th>\n",
       "      <th>cookie</th>\n",
       "      <th>live</th>\n",
       "      <th>user_id</th>\n",
       "      <th>referer</th>\n",
       "      <th>uagent</th>\n",
       "      <th>rightholder</th>\n",
       "      <th>author_id</th>\n",
       "    </tr>\n",
       "  </thead>\n",
       "  <tbody>\n",
       "    <tr>\n",
       "      <th>1</th>\n",
       "      <td>1517778000</td>\n",
       "      <td>3672039716</td>\n",
       "      <td>10885813.0</td>\n",
       "      <td>8f92f3f2b1e7a2498761b8cb3b1d03c3</td>\n",
       "      <td>0</td>\n",
       "      <td>NaN</td>\n",
       "      <td>https%3A%2F%2Frutube.ru%2Fvideo%2Fd8068436dcf5...</td>\n",
       "      <td>Mozilla/5.0 (Windows NT 5.1) AppleWebKit/537.3...</td>\n",
       "      <td>2</td>\n",
       "      <td>301323</td>\n",
       "    </tr>\n",
       "    <tr>\n",
       "      <th>4</th>\n",
       "      <td>1517778000</td>\n",
       "      <td>3892521442</td>\n",
       "      <td>10908060.0</td>\n",
       "      <td>4ca525a1d60de6d74e3c32529fe47ab5</td>\n",
       "      <td>0</td>\n",
       "      <td>NaN</td>\n",
       "      <td>https%3A%2F%2Fyastatic.net%2Fvideo-player%2F0x...</td>\n",
       "      <td>Mozilla/5.0 (Windows NT 10.0; Win64; x64) Appl...</td>\n",
       "      <td>135</td>\n",
       "      <td>599848</td>\n",
       "    </tr>\n",
       "    <tr>\n",
       "      <th>5</th>\n",
       "      <td>1517778000</td>\n",
       "      <td>929300702</td>\n",
       "      <td>10912230.0</td>\n",
       "      <td>0cc973c79fe7540052da1bed3c83b55b</td>\n",
       "      <td>0</td>\n",
       "      <td>NaN</td>\n",
       "      <td>https%3A%2F%2Frutube.ru%2Fvideo%2Fcb9d5108c0ee...</td>\n",
       "      <td>Mozilla/5.0 (iPad; CPU OS 9_3_5 like Mac OS X)...</td>\n",
       "      <td>2</td>\n",
       "      <td>1480930</td>\n",
       "    </tr>\n",
       "    <tr>\n",
       "      <th>6</th>\n",
       "      <td>1517778000</td>\n",
       "      <td>165491643</td>\n",
       "      <td>10912230.0</td>\n",
       "      <td>40212c8fe37bae13f80ffb78c0560812</td>\n",
       "      <td>0</td>\n",
       "      <td>NaN</td>\n",
       "      <td>http%3A%2F%2Fvideo-dom2.ru%2Fonlinetv%2Fdom2_o...</td>\n",
       "      <td>Mozilla/5.0 (Windows NT 6.1) AppleWebKit/537.3...</td>\n",
       "      <td>2</td>\n",
       "      <td>1480930</td>\n",
       "    </tr>\n",
       "    <tr>\n",
       "      <th>12</th>\n",
       "      <td>1517778000</td>\n",
       "      <td>938789414</td>\n",
       "      <td>10906545.0</td>\n",
       "      <td>56cdf26f4ab3a341c15fd390f79ba5a0</td>\n",
       "      <td>0</td>\n",
       "      <td>NaN</td>\n",
       "      <td>https%3A%2F%2Frutube.ru%2Fvideo%2Fecaa72f910b0...</td>\n",
       "      <td>Mozilla/5.0 (Linux; Android 6.0.1; D6503 Build...</td>\n",
       "      <td>2</td>\n",
       "      <td>1480930</td>\n",
       "    </tr>\n",
       "  </tbody>\n",
       "</table>\n",
       "</div>"
      ],
      "text/plain": [
       "     timestamp          ip    track_id                            cookie live  \\\n",
       "1   1517778000  3672039716  10885813.0  8f92f3f2b1e7a2498761b8cb3b1d03c3    0   \n",
       "4   1517778000  3892521442  10908060.0  4ca525a1d60de6d74e3c32529fe47ab5    0   \n",
       "5   1517778000   929300702  10912230.0  0cc973c79fe7540052da1bed3c83b55b    0   \n",
       "6   1517778000   165491643  10912230.0  40212c8fe37bae13f80ffb78c0560812    0   \n",
       "12  1517778000   938789414  10906545.0  56cdf26f4ab3a341c15fd390f79ba5a0    0   \n",
       "\n",
       "    user_id                                            referer  \\\n",
       "1       NaN  https%3A%2F%2Frutube.ru%2Fvideo%2Fd8068436dcf5...   \n",
       "4       NaN  https%3A%2F%2Fyastatic.net%2Fvideo-player%2F0x...   \n",
       "5       NaN  https%3A%2F%2Frutube.ru%2Fvideo%2Fcb9d5108c0ee...   \n",
       "6       NaN  http%3A%2F%2Fvideo-dom2.ru%2Fonlinetv%2Fdom2_o...   \n",
       "12      NaN  https%3A%2F%2Frutube.ru%2Fvideo%2Fecaa72f910b0...   \n",
       "\n",
       "                                               uagent rightholder author_id  \n",
       "1   Mozilla/5.0 (Windows NT 5.1) AppleWebKit/537.3...           2    301323  \n",
       "4   Mozilla/5.0 (Windows NT 10.0; Win64; x64) Appl...         135    599848  \n",
       "5   Mozilla/5.0 (iPad; CPU OS 9_3_5 like Mac OS X)...           2   1480930  \n",
       "6   Mozilla/5.0 (Windows NT 6.1) AppleWebKit/537.3...           2   1480930  \n",
       "12  Mozilla/5.0 (Linux; Android 6.0.1; D6503 Build...           2   1480930  "
      ]
     },
     "execution_count": 20,
     "metadata": {},
     "output_type": "execute_result"
    }
   ],
   "source": [
    "prepared.head()"
   ]
  },
  {
   "cell_type": "code",
   "execution_count": null,
   "metadata": {
    "scrolled": true
   },
   "outputs": [],
   "source": [
    "cat_vectorizer = create_cat_vectorizer(prepared)"
   ]
  },
  {
   "cell_type": "code",
   "execution_count": null,
   "metadata": {},
   "outputs": [],
   "source": [
    "print(cat_vectorize(prepared[26:27], cat_vectorizer))\n",
    "print(cat_vectorize(prepared[4259450:4259451], cat_vectorizer))"
   ]
  },
  {
   "cell_type": "code",
   "execution_count": 23,
   "metadata": {},
   "outputs": [
    {
     "name": "stdout",
     "output_type": "stream",
     "text": [
      "[690 804 860 860 784]\n",
      "955\n"
     ]
    }
   ],
   "source": [
    "track_ids = prepared[\"track_id\"]\n",
    "\n",
    "vocab_size = track_ids.nunique()\n",
    "\n",
    "le = label_encoder(track_ids.values)\n",
    "\n",
    "print(le.transform(track_ids.values[0:5]))\n",
    "print(vocab_size)"
   ]
  },
  {
   "cell_type": "code",
   "execution_count": null,
   "metadata": {},
   "outputs": [],
   "source": [
    "def create_x_video_vectors(x, vocab_size):\n",
    "    x = x[\"track_id\"].values\n",
    "    x = le.transform(x)\n",
    "    x = x.astype(np.int32)\n",
    "    return x.astype(np.int32)\n",
    "\n",
    "def create_x_num_cut_vectors(x):\n",
    "    vec_x_cat = cat_vectorize(x, cat_vectorizer)\n",
    "    vec_x_num = x[num_cols].as_matrix()\n",
    "    return np.hstack((vec_x_num, vec_x_cat))\n",
    "\n",
    "def create_x(x, vocab_size):\n",
    "    return create_x_video_vectors(x, vocab_size).astype(np.int32)\n",
    "\n",
    "print(create_x_video_vectors(prepared.head(5), vocab_size))\n",
    "print(create_x_num_cut_vectors(prepared.head(5)))\n",
    "print(create_x_video_vectors(prepared.head(5), vocab_size).shape)\n",
    "print(create_x_num_cut_vectors(prepared.head(5)).shape)"
   ]
  },
  {
   "cell_type": "code",
   "execution_count": null,
   "metadata": {},
   "outputs": [],
   "source": [
    "def create_y(y, vocab_size):\n",
    "    y = y[\"track_id\"].values\n",
    "    y = le.transform(y)\n",
    "    if (len(y) == 0):\n",
    "        return np.zeros(vocab_size)\n",
    "    return np.max(keras.utils.to_categorical(y, vocab_size), axis = 0)\n",
    "\n",
    "print(create_y(prepared.head(3), vocab_size))"
   ]
  },
  {
   "cell_type": "code",
   "execution_count": 26,
   "metadata": {},
   "outputs": [],
   "source": [
    "def steps(data, batch_size = 20):\n",
    "    return data[\"ip\"].nunique() / batch_size"
   ]
  },
  {
   "cell_type": "code",
   "execution_count": 27,
   "metadata": {},
   "outputs": [
    {
     "name": "stdout",
     "output_type": "stream",
     "text": [
      "(20, 4)\n",
      "(20, 955)\n",
      "[[752 753 766 781]\n",
      " [348 348 726 825]\n",
      " [869 869 513 513]\n",
      " [888 897 832 810]\n",
      " [886 913 937 933]\n",
      " [781 844 781 781]\n",
      " [783 741 751 348]\n",
      " [879 880 913 933]\n",
      " [369 370 372 243]\n",
      " [708 703 702 698]\n",
      " [860 880 860 906]\n",
      " [691 693 697 697]\n",
      " [348 348 348 348]\n",
      " [860 879 906 913]\n",
      " [168 170 170 173]\n",
      " [394 321 326 326]\n",
      " [858 860 860 913]\n",
      " [696 701 707 751]\n",
      " [659 659 667 672]\n",
      " [521 523 542 545]]\n",
      "[[0. 0. 0. ... 0. 0. 0.]\n",
      " [0. 0. 0. ... 0. 0. 0.]\n",
      " [0. 0. 0. ... 0. 0. 0.]\n",
      " ...\n",
      " [0. 0. 0. ... 0. 0. 0.]\n",
      " [0. 0. 0. ... 0. 0. 0.]\n",
      " [0. 0. 0. ... 0. 0. 0.]]\n"
     ]
    }
   ],
   "source": [
    "def train_generator(seq_by_user, x_len = 4, batch_size = 20):\n",
    "    \n",
    "    step = 0\n",
    "    \n",
    "    seq_len = len(seq_by_user)\n",
    "    \n",
    "    x_list = []\n",
    "    y_list = []\n",
    "    \n",
    "    iterator = iter(seq_by_user)\n",
    "    \n",
    "    while(True):\n",
    "        ip, group = next(iterator)\n",
    "        \n",
    "        group = group.sort_values(\"timestamp\")\n",
    "        x = create_x(group[0:x_len], vocab_size)\n",
    "        y = create_y(group[x_len:min(x_len + 4, len(group))], vocab_size)\n",
    "        \n",
    "        x_list.append(x)\n",
    "        y_list.append(y)\n",
    "        \n",
    "        step = step + 1\n",
    "        \n",
    "        if (step % batch_size == 0 or step >= seq_len):\n",
    "            batch = (np.array(x_list), np.array(y_list))\n",
    "            x_list = []\n",
    "            y_list = []\n",
    "            yield (batch)\n",
    "            \n",
    "        if (step >= seq_len):\n",
    "            iterator = iter(seq_by_user)\n",
    "            step = 0\n",
    "        \n",
    "generation = next(train_generator(extract_sequences_by_user(prepared)))\n",
    "print(generation[0].shape)\n",
    "print(generation[1].shape)\n",
    "print(generation[0])\n",
    "print(generation[1])"
   ]
  },
  {
   "cell_type": "code",
   "execution_count": 29,
   "metadata": {},
   "outputs": [],
   "source": [
    "def add_train_flag(data):\n",
    "    split_val = prepared[\"ip\"].quantile(.8)\n",
    "    print(split_val)\n",
    "    prepared[\"train\"] = prepared[\"ip\"] < split_val\n",
    "    \n",
    "def train_test_split(data):\n",
    "    add_train_flag(data)\n",
    "    return (prepared[prepared[\"train\"] == True], prepared[prepared[\"train\"] == False])"
   ]
  },
  {
   "cell_type": "code",
   "execution_count": 30,
   "metadata": {},
   "outputs": [
    {
     "name": "stdout",
     "output_type": "stream",
     "text": [
      "3819871939.0\n",
      "3475943\n",
      "868990\n"
     ]
    }
   ],
   "source": [
    "train, test = train_test_split(prepared)\n",
    "print(len(train))\n",
    "print(len(test))"
   ]
  },
  {
   "cell_type": "code",
   "execution_count": 31,
   "metadata": {},
   "outputs": [
    {
     "name": "stdout",
     "output_type": "stream",
     "text": [
      "15714.8\n",
      "4575.6\n"
     ]
    }
   ],
   "source": [
    "print(steps(train))\n",
    "print(steps(test))"
   ]
  },
  {
   "cell_type": "code",
   "execution_count": 32,
   "metadata": {},
   "outputs": [
    {
     "name": "stdout",
     "output_type": "stream",
     "text": [
      "_________________________________________________________________\n",
      "Layer (type)                 Output Shape              Param #   \n",
      "=================================================================\n",
      "input_1 (InputLayer)         (None, 4)                 0         \n",
      "_________________________________________________________________\n",
      "embedding_1 (Embedding)      (None, 4, 100)            95500     \n",
      "_________________________________________________________________\n",
      "gru_1 (GRU)                  (None, 4, 128)            87936     \n",
      "_________________________________________________________________\n",
      "gru_2 (GRU)                  (None, 128)               98688     \n",
      "_________________________________________________________________\n",
      "dense_1 (Dense)              (None, 512)               66048     \n",
      "_________________________________________________________________\n",
      "dropout_1 (Dropout)          (None, 512)               0         \n",
      "_________________________________________________________________\n",
      "dense_2 (Dense)              (None, 955)               489915    \n",
      "=================================================================\n",
      "Total params: 838,087\n",
      "Trainable params: 838,087\n",
      "Non-trainable params: 0\n",
      "_________________________________________________________________\n",
      "Epoch 1/3\n",
      "3143/3142 [==============================] - 572s 182ms/step - loss: 0.0252 - top_k_categorical_accuracy: 0.2664 - val_loss: 0.0244 - val_top_k_categorical_accuracy: 0.2977\n",
      "Epoch 2/3\n",
      "3143/3142 [==============================] - 565s 180ms/step - loss: 0.0269 - top_k_categorical_accuracy: 0.2523 - val_loss: 0.0261 - val_top_k_categorical_accuracy: 0.2207\n",
      "Epoch 3/3\n",
      "3143/3142 [==============================] - 564s 180ms/step - loss: 0.0262 - top_k_categorical_accuracy: 0.2283 - val_loss: 0.0247 - val_top_k_categorical_accuracy: 0.2443\n"
     ]
    },
    {
     "data": {
      "text/plain": [
       "<keras.callbacks.History at 0x28e23f9fc50>"
      ]
     },
     "execution_count": 32,
     "metadata": {},
     "output_type": "execute_result"
    }
   ],
   "source": [
    "emb_input = keras.layers.Input(shape=(4,))\n",
    "\n",
    "embedding = keras.layers.Embedding(vocab_size, 100, input_length=4)(emb_input)\n",
    "\n",
    "gru_1 = keras.layers.GRU(128, return_sequences=True)(embedding)\n",
    "gru_2 = keras.layers.GRU(128)(gru_1)\n",
    "\n",
    "dense_1 = keras.layers.Dense(512, activation = \"relu\")(gru_2)\n",
    "drop = keras.layers.Dropout(0.5)(dense_1)\n",
    "dense_4 = keras.layers.Dense(vocab_size, activation = \"tanh\")(drop)\n",
    "\n",
    "model = keras.models.Model(inputs=emb_input, outputs=dense_4)\n",
    "\n",
    "model.compile(loss='binary_crossentropy',\n",
    "              optimizer='adam',\n",
    "              metrics=['top_k_categorical_accuracy'])\n",
    "\n",
    "model.summary()\n",
    "\n",
    "model.fit_generator(train_generator(extract_sequences_by_user(train), batch_size=100), steps_per_epoch=steps(train, 100), validation_data = train_generator(extract_sequences_by_user(test)), validation_steps=steps(test), epochs=1, verbose=1)"
   ]
  },
  {
   "cell_type": "code",
   "execution_count": null,
   "metadata": {},
   "outputs": [],
   "source": [
    "tg = train_generator(extract_sequences_by_user(test), batch_size = 1)\n",
    "\n",
    "def predict_next():\n",
    "    val_batch = next(tg)\n",
    "    y_predicted = model.predict(val_batch[0])\n",
    "    x_true = val_batch[0]\n",
    "    y_true = val_batch[1]\n",
    "    return (le.inverse_transform(x_true[-1])[-1], y_predicted, y_true)\n",
    "\n",
    "x_true, y_predicted, y_true = predict_next()\n",
    "\n",
    "print(x_true)\n",
    "print(y_true.shape)\n",
    "print(y_predicted.shape)"
   ]
  },
  {
   "cell_type": "code",
   "execution_count": 87,
   "metadata": {},
   "outputs": [],
   "source": [
    "def decode_y(y_predicted, y_true):\n",
    "    y_predicted = np.rint(y_predicted)\n",
    "\n",
    "    true_y_values = np.transpose(np.nonzero(y_true))[:, 1:]\n",
    "    pred_y_values = np.transpose(np.nonzero(y_predicted))[:, :1]\n",
    "\n",
    "    true_y_track_values = le.inverse_transform(true_y_values)\n",
    "    pred_y_track_values = le.inverse_transform(pred_y_values)\n",
    "    return (pred_y_track_values, true_y_track_values)"
   ]
  },
  {
   "cell_type": "code",
   "execution_count": null,
   "metadata": {},
   "outputs": [],
   "source": [
    "y_predicted = np.rint(y_predicted)\n",
    "\n",
    "true_y_values = np.transpose(np.nonzero(y_true))[:, 1:]\n",
    "pred_y_values = np.transpose(np.nonzero(y_predicted))[:, :1]\n",
    "\n",
    "true_y_track_values = le.inverse_transform(true_y_values)\n",
    "pred_y_track_values = le.inverse_transform(pred_y_values)"
   ]
  },
  {
   "cell_type": "code",
   "execution_count": 48,
   "metadata": {},
   "outputs": [],
   "source": [
    "def get_next_video(video_id, video_catalog):\n",
    "    video_catalog['season'] = pd.to_numeric(video_catalog['season'], errors='coerce', downcast = 'integer')\n",
    "    video_catalog['episode'] = pd.to_numeric(video_catalog['episode'], errors='coerce', downcast = 'integer')\n",
    "\n",
    "    curent_video = video_catalog.loc[video_catalog['video_id'] == video_id]\n",
    "\n",
    "    if curent_video.size == 0:\n",
    "        return False\n",
    "\n",
    "    curent_video_index = curent_video.index[0]\n",
    "    \n",
    "    curent_title = curent_video['title'][[curent_video_index][0]]\n",
    "    curent_season = curent_video['season'][[curent_video_index][0]]\n",
    "    curent_episod = curent_video['episode'][[curent_video_index][0]]\n",
    "    \n",
    "    this_show_season = video_catalog.loc[(video_catalog['season'] == curent_season) & (video_catalog.title == curent_title)]\n",
    "    next_episods = this_show_season.loc[this_show_season['episode'] > curent_episod]\n",
    "\n",
    "    if next_episods.episode.size != 0:\n",
    "        next_min_episode = next_episods.episode.min()\n",
    "        next_min_episode_index = next_episods.loc[next_episods.episode == next_min_episode].index[0]\n",
    "        next = video_catalog.ix[next_min_episode_index]\n",
    "    else:\n",
    "        next_seasons = video_catalog.loc[(video_catalog['season'] > curent_season) & (video_catalog.title == curent_title)]\n",
    "        if next_seasons.season.size != 0:\n",
    "            next_min_season_min_episode = next_seasons.episode.min()\n",
    "            next = next_seasons.loc[next_seasons['episode'] == next_min_season_min_episode]\n",
    "        else:\n",
    "            next = False\n",
    "\n",
    "    return next"
   ]
  },
  {
   "cell_type": "code",
   "execution_count": 37,
   "metadata": {},
   "outputs": [],
   "source": [
    "def get_top_popular_video(video_history):\n",
    "    return video_history.groupby('track_id').apply(lambda x: x.count()).sort_values(by=['ip'], ascending=False)"
   ]
  },
  {
   "cell_type": "code",
   "execution_count": 38,
   "metadata": {},
   "outputs": [],
   "source": [
    "def find_video_id_by_track_id(id): \n",
    "    id = int(id)\n",
    "    video_id = catalog.loc[catalog['track_id'] == id]['video_id']\n",
    "    return video_id.values[0]\n",
    "\n",
    "def find_one_video_id_by_track_id(id): \n",
    "    id = int(id)\n",
    "    video_id = catalog.loc[catalog['track_id'] == id]['video_id']\n",
    "    return video_id.values"
   ]
  },
  {
   "cell_type": "code",
   "execution_count": 112,
   "metadata": {},
   "outputs": [],
   "source": [
    "def get_videos(data):\n",
    "    video_array = []\n",
    "    \n",
    "    for d in data:\n",
    "        try:\n",
    "            d = find_video_id_by_track_id(int(d))\n",
    "            video_array.append(d)\n",
    "        except:\n",
    "            pass\n",
    "        \n",
    "    return video_array"
   ]
  },
  {
   "cell_type": "code",
   "execution_count": 113,
   "metadata": {},
   "outputs": [],
   "source": [
    "def data_iretation(count, array):\n",
    "    video_array = []\n",
    "    \n",
    "    for idx, data in enumerate(array):\n",
    "        if (idx < count):\n",
    "            video_array.append(data) \n",
    "    \n",
    "    return video_array"
   ]
  },
  {
   "cell_type": "code",
   "execution_count": null,
   "metadata": {},
   "outputs": [],
   "source": [
    "top_videos = get_top_popular_video(data)"
   ]
  },
  {
   "cell_type": "code",
   "execution_count": 114,
   "metadata": {},
   "outputs": [],
   "source": [
    "def find_recommend_videos(id, y_pred):\n",
    "\n",
    "    video_array = []\n",
    "    \n",
    "    top_videos_first_five = top_videos['track_id'].index[:5]\n",
    "    \n",
    "    next_video = get_next_video(id, catalog)    \n",
    "        \n",
    "    nn_recommend_videos = y_pred\n",
    "    \n",
    "    if (next_video):\n",
    "        video_array.append(next_video)\n",
    "\n",
    "    for idx, data in enumerate(nn_recommend_videos):\n",
    "        if (idx <= 2):\n",
    "            video_array.append(data) \n",
    "    \n",
    "    for idx, data in enumerate(top_videos_first_five):\n",
    "        if (len(video_array) <= 4):\n",
    "            video_array.append(data)   \n",
    "    \n",
    "        \n",
    "    videos = get_videos(video_array)\n",
    "    \n",
    "    return videos"
   ]
  },
  {
   "cell_type": "code",
   "execution_count": 136,
   "metadata": {},
   "outputs": [
    {
     "name": "stdout",
     "output_type": "stream",
     "text": [
      "Было video_id:  ['67ca2c5cccd0090948029aa9ee19f581']\n",
      "Нашли результат:  ['2e0993d0d71e107f7aa6de7603b72c93', 'e083cdcb311c893de6a9d2b252a5014c', 'b645131018a0ce65ab748117e2514fa8', '45a6428b27eb6a09b9e0cc0af5247c3b']\n"
     ]
    },
    {
     "name": "stderr",
     "output_type": "stream",
     "text": [
      "C:\\Users\\ASUS\\Anaconda3\\envs\\tensorflow-gpu\\lib\\site-packages\\sklearn\\preprocessing\\label.py:151: DeprecationWarning: The truth value of an empty array is ambiguous. Returning False, but in future this will result in an error. Use `array.size > 0` to check that an array is not empty.\n",
      "  if diff:\n",
      "C:\\Users\\ASUS\\Anaconda3\\envs\\tensorflow-gpu\\lib\\site-packages\\sklearn\\preprocessing\\label.py:151: DeprecationWarning: The truth value of an empty array is ambiguous. Returning False, but in future this will result in an error. Use `array.size > 0` to check that an array is not empty.\n",
      "  if diff:\n",
      "C:\\Users\\ASUS\\Anaconda3\\envs\\tensorflow-gpu\\lib\\site-packages\\sklearn\\preprocessing\\label.py:151: DeprecationWarning: The truth value of an empty array is ambiguous. Returning False, but in future this will result in an error. Use `array.size > 0` to check that an array is not empty.\n",
      "  if diff:\n"
     ]
    }
   ],
   "source": [
    "x_true, y_predicted, _ = predict_next()\n",
    "\n",
    "pred_y_track_values, _ = decode_y(y_predicted, y_true)\n",
    "\n",
    "pred = true_y_track_values[0] if len(pred_y_track_values) else []\n",
    "\n",
    "test_id = int(x_true)\n",
    "\n",
    "print ('Было video_id: ', find_one_video_id_by_track_id(test_id))\n",
    "\n",
    "result = find_recommend_videos(test_id, pred)\n",
    "\n",
    "print ('Нашли результат: ', result)"
   ]
  },
  {
   "cell_type": "code",
   "execution_count": null,
   "metadata": {},
   "outputs": [],
   "source": []
  },
  {
   "cell_type": "code",
   "execution_count": null,
   "metadata": {},
   "outputs": [],
   "source": []
  }
 ],
 "metadata": {
  "kernelspec": {
   "display_name": "Python 3",
   "language": "python",
   "name": "python3"
  },
  "language_info": {
   "codemirror_mode": {
    "name": "ipython",
    "version": 3
   },
   "file_extension": ".py",
   "mimetype": "text/x-python",
   "name": "python",
   "nbconvert_exporter": "python",
   "pygments_lexer": "ipython3",
   "version": "3.5.4"
  }
 },
 "nbformat": 4,
 "nbformat_minor": 2
}
