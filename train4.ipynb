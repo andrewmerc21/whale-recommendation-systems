{
 "cells": [
  {
   "cell_type": "code",
   "execution_count": 107,
   "metadata": {},
   "outputs": [
    {
     "name": "stderr",
     "output_type": "stream",
     "text": [
      "/Users/Elena/anaconda3/lib/python3.6/site-packages/h5py/__init__.py:34: FutureWarning: Conversion of the second argument of issubdtype from `float` to `np.floating` is deprecated. In future, it will be treated as `np.float64 == np.dtype(float).type`.\n",
      "  from ._conv import register_converters as _register_converters\n",
      "Using TensorFlow backend.\n"
     ]
    }
   ],
   "source": [
    "import pandas as pd\n",
    "import matplotlib.pyplot as plt\n",
    "import numpy as np\n",
    "import ipaddress\n",
    "from datetime import datetime\n",
    "import time\n",
    "import keras\n",
    "import re\n",
    "from sklearn.preprocessing import OneHotEncoder"
   ]
  },
  {
   "cell_type": "code",
   "execution_count": 108,
   "metadata": {
    "scrolled": true
   },
   "outputs": [
    {
     "name": "stderr",
     "output_type": "stream",
     "text": [
      "b'Skipping line 10780784: expected 10 fields, saw 11\\nSkipping line 10793876: expected 10 fields, saw 11\\n'\n",
      "b'Skipping line 10821923: expected 10 fields, saw 11\\n'\n",
      "/Users/Elena/anaconda3/lib/python3.6/site-packages/IPython/core/interactiveshell.py:2698: DtypeWarning: Columns (2) have mixed types. Specify dtype option on import or set low_memory=False.\n",
      "  interactivity=interactivity, compiler=compiler, result=result)\n"
     ]
    }
   ],
   "source": [
    "data = pd.read_csv(\"./data_full.csv\", sep = \";\", error_bad_lines=False)"
   ]
  },
  {
   "cell_type": "code",
   "execution_count": 109,
   "metadata": {
    "collapsed": true
   },
   "outputs": [],
   "source": [
    "catalog = pd.read_csv(\"./catalog.csv\", sep = \";\", error_bad_lines=False)"
   ]
  },
  {
   "cell_type": "code",
   "execution_count": 110,
   "metadata": {
    "scrolled": true
   },
   "outputs": [
    {
     "data": {
      "text/html": [
       "<div>\n",
       "<style>\n",
       "    .dataframe thead tr:only-child th {\n",
       "        text-align: right;\n",
       "    }\n",
       "\n",
       "    .dataframe thead th {\n",
       "        text-align: left;\n",
       "    }\n",
       "\n",
       "    .dataframe tbody tr th {\n",
       "        vertical-align: top;\n",
       "    }\n",
       "</style>\n",
       "<table border=\"1\" class=\"dataframe\">\n",
       "  <thead>\n",
       "    <tr style=\"text-align: right;\">\n",
       "      <th></th>\n",
       "      <th>timestamp</th>\n",
       "      <th>ip</th>\n",
       "      <th>track_id</th>\n",
       "      <th>cookie</th>\n",
       "      <th>live</th>\n",
       "      <th>user_id</th>\n",
       "      <th>referer</th>\n",
       "      <th>uagent</th>\n",
       "      <th>rightholder</th>\n",
       "      <th>author_id</th>\n",
       "    </tr>\n",
       "  </thead>\n",
       "  <tbody>\n",
       "    <tr>\n",
       "      <th>0</th>\n",
       "      <td>1517778000</td>\n",
       "      <td>230.59.74.120</td>\n",
       "      <td>10912114</td>\n",
       "      <td>42536dc7a8578b0cfac05f704977429a</td>\n",
       "      <td>0</td>\n",
       "      <td>NaN</td>\n",
       "      <td>https%3A%2F%2Frutube.ru%2Fvideo%2F0f5c9c5839b1...</td>\n",
       "      <td>Mozilla/5.0 (Windows NT 6.1; Win64; x64) Apple...</td>\n",
       "      <td>2</td>\n",
       "      <td>1480930</td>\n",
       "    </tr>\n",
       "    <tr>\n",
       "      <th>1</th>\n",
       "      <td>1517778000</td>\n",
       "      <td>218.222.225.36</td>\n",
       "      <td>10885813</td>\n",
       "      <td>8f92f3f2b1e7a2498761b8cb3b1d03c3</td>\n",
       "      <td>0</td>\n",
       "      <td>NaN</td>\n",
       "      <td>https%3A%2F%2Frutube.ru%2Fvideo%2Fd8068436dcf5...</td>\n",
       "      <td>Mozilla/5.0 (Windows NT 5.1) AppleWebKit/537.3...</td>\n",
       "      <td>2</td>\n",
       "      <td>301323</td>\n",
       "    </tr>\n",
       "    <tr>\n",
       "      <th>2</th>\n",
       "      <td>1517778000</td>\n",
       "      <td>55.63.241.224</td>\n",
       "      <td>6948236</td>\n",
       "      <td>336d5ebc5436534e61d16e63ddfca327</td>\n",
       "      <td>-</td>\n",
       "      <td>2.231332e+09</td>\n",
       "      <td>http%3A%2F%2Fandroid.rutube.ru%2F</td>\n",
       "      <td>okhttp/2.6.0</td>\n",
       "      <td>-</td>\n",
       "      <td>-</td>\n",
       "    </tr>\n",
       "    <tr>\n",
       "      <th>3</th>\n",
       "      <td>1517778000</td>\n",
       "      <td>230.34.98.99</td>\n",
       "      <td>8481402</td>\n",
       "      <td>cf8dd809edf104873a1c57921b34f25e</td>\n",
       "      <td>0</td>\n",
       "      <td>NaN</td>\n",
       "      <td>https%3A%2F%2Frutube.ru%2Fvideo%2F1058cf249e46...</td>\n",
       "      <td>Mozilla/5.0 (Linux; Android 7.1.2; Redmi 4X Bu...</td>\n",
       "      <td>NaN</td>\n",
       "      <td>721346</td>\n",
       "    </tr>\n",
       "    <tr>\n",
       "      <th>4</th>\n",
       "      <td>1517778000</td>\n",
       "      <td>232.3.41.226</td>\n",
       "      <td>10908060</td>\n",
       "      <td>4ca525a1d60de6d74e3c32529fe47ab5</td>\n",
       "      <td>0</td>\n",
       "      <td>NaN</td>\n",
       "      <td>https%3A%2F%2Fyastatic.net%2Fvideo-player%2F0x...</td>\n",
       "      <td>Mozilla/5.0 (Windows NT 10.0; Win64; x64) Appl...</td>\n",
       "      <td>135</td>\n",
       "      <td>599848</td>\n",
       "    </tr>\n",
       "  </tbody>\n",
       "</table>\n",
       "</div>"
      ],
      "text/plain": [
       "    timestamp              ip  track_id                            cookie  \\\n",
       "0  1517778000   230.59.74.120  10912114  42536dc7a8578b0cfac05f704977429a   \n",
       "1  1517778000  218.222.225.36  10885813  8f92f3f2b1e7a2498761b8cb3b1d03c3   \n",
       "2  1517778000   55.63.241.224   6948236  336d5ebc5436534e61d16e63ddfca327   \n",
       "3  1517778000    230.34.98.99   8481402  cf8dd809edf104873a1c57921b34f25e   \n",
       "4  1517778000    232.3.41.226  10908060  4ca525a1d60de6d74e3c32529fe47ab5   \n",
       "\n",
       "  live       user_id                                            referer  \\\n",
       "0    0           NaN  https%3A%2F%2Frutube.ru%2Fvideo%2F0f5c9c5839b1...   \n",
       "1    0           NaN  https%3A%2F%2Frutube.ru%2Fvideo%2Fd8068436dcf5...   \n",
       "2    -  2.231332e+09                  http%3A%2F%2Fandroid.rutube.ru%2F   \n",
       "3    0           NaN  https%3A%2F%2Frutube.ru%2Fvideo%2F1058cf249e46...   \n",
       "4    0           NaN  https%3A%2F%2Fyastatic.net%2Fvideo-player%2F0x...   \n",
       "\n",
       "                                              uagent rightholder author_id  \n",
       "0  Mozilla/5.0 (Windows NT 6.1; Win64; x64) Apple...           2   1480930  \n",
       "1  Mozilla/5.0 (Windows NT 5.1) AppleWebKit/537.3...           2    301323  \n",
       "2                                       okhttp/2.6.0           -         -  \n",
       "3  Mozilla/5.0 (Linux; Android 7.1.2; Redmi 4X Bu...         NaN    721346  \n",
       "4  Mozilla/5.0 (Windows NT 10.0; Win64; x64) Appl...         135    599848  "
      ]
     },
     "execution_count": 110,
     "metadata": {},
     "output_type": "execute_result"
    }
   ],
   "source": [
    "data.head()"
   ]
  },
  {
   "cell_type": "code",
   "execution_count": 111,
   "metadata": {},
   "outputs": [
    {
     "data": {
      "text/html": [
       "<div>\n",
       "<style>\n",
       "    .dataframe thead tr:only-child th {\n",
       "        text-align: right;\n",
       "    }\n",
       "\n",
       "    .dataframe thead th {\n",
       "        text-align: left;\n",
       "    }\n",
       "\n",
       "    .dataframe tbody tr th {\n",
       "        vertical-align: top;\n",
       "    }\n",
       "</style>\n",
       "<table border=\"1\" class=\"dataframe\">\n",
       "  <thead>\n",
       "    <tr style=\"text-align: right;\">\n",
       "      <th></th>\n",
       "      <th>idec</th>\n",
       "      <th>track_id</th>\n",
       "      <th>video_id</th>\n",
       "      <th>series_id</th>\n",
       "      <th>title</th>\n",
       "      <th>season</th>\n",
       "      <th>episode</th>\n",
       "      <th>episode_global</th>\n",
       "      <th>date_efir</th>\n",
       "      <th>duration</th>\n",
       "    </tr>\n",
       "  </thead>\n",
       "  <tbody>\n",
       "    <tr>\n",
       "      <th>0</th>\n",
       "      <td>PR592505</td>\n",
       "      <td>10258734</td>\n",
       "      <td>cd59084eb50e6ebe9fe20ad04e0c17db</td>\n",
       "      <td>10456854280</td>\n",
       "      <td>\\tБыть или не быть, 1 сезон, 1 серия</td>\n",
       "      <td>1</td>\n",
       "      <td>1</td>\n",
       "      <td>1</td>\n",
       "      <td>02.04.2017 22:00:34</td>\n",
       "      <td>null</td>\n",
       "    </tr>\n",
       "    <tr>\n",
       "      <th>1</th>\n",
       "      <td>PR609630</td>\n",
       "      <td>10843255</td>\n",
       "      <td>a5d2e6bae4752d9ec0fae9b53f00700d</td>\n",
       "      <td>10592468551</td>\n",
       "      <td>NaN</td>\n",
       "      <td>11</td>\n",
       "      <td>1</td>\n",
       "      <td>1</td>\n",
       "      <td>null</td>\n",
       "      <td>null</td>\n",
       "    </tr>\n",
       "    <tr>\n",
       "      <th>2</th>\n",
       "      <td>PR597128</td>\n",
       "      <td>10573153</td>\n",
       "      <td>bcd45606c1f7cbb5cb9d1dbd7d346cc3</td>\n",
       "      <td>10479562619</td>\n",
       "      <td>NaN</td>\n",
       "      <td>7</td>\n",
       "      <td>1</td>\n",
       "      <td>1</td>\n",
       "      <td>06.09.2017 22:46:05</td>\n",
       "      <td>null</td>\n",
       "    </tr>\n",
       "    <tr>\n",
       "      <th>3</th>\n",
       "      <td>PR257331</td>\n",
       "      <td>6617650</td>\n",
       "      <td>609217ac7b8c4e55d44c4a29bf52554b</td>\n",
       "      <td>null</td>\n",
       "      <td>\"Интерны. История болезни\"</td>\n",
       "      <td>null</td>\n",
       "      <td>null</td>\n",
       "      <td>null</td>\n",
       "      <td>12.06.2012 22:00:44</td>\n",
       "      <td>null</td>\n",
       "    </tr>\n",
       "    <tr>\n",
       "      <th>4</th>\n",
       "      <td>PR529698</td>\n",
       "      <td>7991493</td>\n",
       "      <td>bde3620ba038b3e8dd41d03bf516a7eb</td>\n",
       "      <td>10241019893</td>\n",
       "      <td>#ЖАННАПОЖЕНИ</td>\n",
       "      <td>1</td>\n",
       "      <td>1</td>\n",
       "      <td>101</td>\n",
       "      <td>05.09.2015 13:30:00</td>\n",
       "      <td>null</td>\n",
       "    </tr>\n",
       "  </tbody>\n",
       "</table>\n",
       "</div>"
      ],
      "text/plain": [
       "       idec  track_id                          video_id    series_id  \\\n",
       "0  PR592505  10258734  cd59084eb50e6ebe9fe20ad04e0c17db  10456854280   \n",
       "1  PR609630  10843255  a5d2e6bae4752d9ec0fae9b53f00700d  10592468551   \n",
       "2  PR597128  10573153  bcd45606c1f7cbb5cb9d1dbd7d346cc3  10479562619   \n",
       "3  PR257331   6617650  609217ac7b8c4e55d44c4a29bf52554b         null   \n",
       "4  PR529698   7991493  bde3620ba038b3e8dd41d03bf516a7eb  10241019893   \n",
       "\n",
       "                                  title season episode episode_global  \\\n",
       "0  \\tБыть или не быть, 1 сезон, 1 серия      1       1              1   \n",
       "1                                   NaN     11       1              1   \n",
       "2                                   NaN      7       1              1   \n",
       "3            \"Интерны. История болезни\"   null    null           null   \n",
       "4                          #ЖАННАПОЖЕНИ      1       1            101   \n",
       "\n",
       "             date_efir duration  \n",
       "0  02.04.2017 22:00:34     null  \n",
       "1                 null     null  \n",
       "2  06.09.2017 22:46:05     null  \n",
       "3  12.06.2012 22:00:44     null  \n",
       "4  05.09.2015 13:30:00     null  "
      ]
     },
     "execution_count": 111,
     "metadata": {},
     "output_type": "execute_result"
    }
   ],
   "source": [
    "catalog.head()"
   ]
  },
  {
   "cell_type": "code",
   "execution_count": 112,
   "metadata": {
    "collapsed": true
   },
   "outputs": [],
   "source": [
    "def add_device(df):\n",
    "    regexpDesktop = re.compile('(Windows|Linux|Mozilla)')\n",
    "    regexpMobile = re.compile('(iPhone|RutubeAndroid|okhttp|CFNetwork|UCBrowser)')\n",
    "    regexpTablet = re.compile('(iPad)')\n",
    "    \n",
    "    df['device'] = pd.Series('0', index=df.index)\n",
    "    \n",
    "    for i, row in df.iterrows():\n",
    "        try:\n",
    "            if regexpDesktop.search(df['uagent'].iloc[i]):\n",
    "                df['device'][i] = 'desktop'\n",
    "            elif regexpMobile.search(df['uagent'].iloc[i]):\n",
    "                df['device'][i] = 'mobile'\n",
    "            elif regexpTablet.search(df['uagent'].iloc[i]):\n",
    "                df['device'][i] = 'mobile'\n",
    "        except:\n",
    "            pass\n",
    "            \n",
    "    return df"
   ]
  },
  {
   "cell_type": "code",
   "execution_count": 113,
   "metadata": {
    "collapsed": true
   },
   "outputs": [],
   "source": [
    "def mergeData(data1, data2, field):\n",
    "    data1[field] = pd.to_numeric(data1[field], errors = 'coerce')\n",
    "    data2[field] = pd.to_numeric(data2[field], errors = 'coerce')\n",
    "    return pd.merge(data1, data2, left_on=field, right_on=field)"
   ]
  },
  {
   "cell_type": "code",
   "execution_count": 114,
   "metadata": {
    "collapsed": true
   },
   "outputs": [],
   "source": [
    "def convIpToNumber(data):\n",
    "    return data.apply(lambda x: int(ipaddress.IPv4Address(x)))"
   ]
  },
  {
   "cell_type": "code",
   "execution_count": 115,
   "metadata": {
    "collapsed": true
   },
   "outputs": [],
   "source": [
    "def applyDate(x):\n",
    "    try:\n",
    "        data = time.strptime(x, \"%d.%m.%Y %H:%M:%S\")\n",
    "        return int(time.mktime(data))\n",
    "    except:\n",
    "        return 1e-6"
   ]
  },
  {
   "cell_type": "code",
   "execution_count": 116,
   "metadata": {
    "collapsed": true
   },
   "outputs": [],
   "source": [
    "def confDateStringToTimestamp(data):\n",
    "    return data.apply(lambda x: applyDate(x))"
   ]
  },
  {
   "cell_type": "code",
   "execution_count": 117,
   "metadata": {
    "collapsed": true
   },
   "outputs": [],
   "source": [
    "def filter_having_more_than_n_views(data, user_column = \"ip\", seq_len = 4):\n",
    "    by_user = data.groupby(user_column)\n",
    "    by_user = by_user.filter(lambda x: len(x) >= seq_len)\n",
    "    return by_user\n",
    "\n",
    "def extract_sequences_by_user(data, user_column = \"ip\"):\n",
    "    return data.groupby(user_column)"
   ]
  },
  {
   "cell_type": "code",
   "execution_count": 118,
   "metadata": {},
   "outputs": [
    {
     "name": "stdout",
     "output_type": "stream",
     "text": [
      "55644\n"
     ]
    }
   ],
   "source": [
    "def vocab_size(catalog, field):\n",
    "    return catalog[field].unique().shape[0]\n",
    "vocab_size = vocab_size(catalog, \"track_id\") * 2\n",
    "print(vocab_size)"
   ]
  },
  {
   "cell_type": "code",
   "execution_count": null,
   "metadata": {
    "collapsed": true
   },
   "outputs": [],
   "source": [
    "def one_hot_encoder(data, y_field, vocab_size):\n",
    "    onehot = OneHotEncoder()\n",
    "    expanded = np.expand_dims(data[y_field][data[y_field].notnull()].values, axis = 1)\n",
    "    print(len(expanded))\n",
    "    print(expanded)\n",
    "    onehot.fit(expanded)\n",
    "    return onehot"
   ]
  },
  {
   "cell_type": "code",
   "execution_count": null,
   "metadata": {
    "collapsed": true
   },
   "outputs": [],
   "source": [
    "data['ip'] = convIpToNumber(data['ip'])\n",
    "prepared = filter_having_more_than_n_views(data)"
   ]
  },
  {
   "cell_type": "code",
   "execution_count": null,
   "metadata": {
    "collapsed": true
   },
   "outputs": [],
   "source": [
    "prepared[\"track_id\"] = pd.to_numeric(prepared[\"track_id\"], errors = 'coerce', downcast = 'integer')"
   ]
  },
  {
   "cell_type": "code",
   "execution_count": null,
   "metadata": {
    "collapsed": true,
    "scrolled": true
   },
   "outputs": [],
   "source": [
    "def prepare_data(data, catalog):\n",
    "    \n",
    "    data = mergeData(data, catalog, \"track_id\")\n",
    "    \n",
    "    data['ip'] = convIpToNumber(data['ip'])\n",
    "    \n",
    "    data = filter_having_more_than_n_views(data)\n",
    "    \n",
    "    data = data.drop(['live', 'user_id', 'rightholder'], axis=1)\n",
    "    \n",
    "    data['date_efir'] = confDateStringToTimestamp(data['date_efir'])\n",
    "    \n",
    "    data = add_device(data)\n",
    "    \n",
    "    return data\n",
    "\n",
    "print(prepare_data(data.head(10000), catalog))"
   ]
  },
  {
   "cell_type": "code",
   "execution_count": null,
   "metadata": {
    "collapsed": true
   },
   "outputs": [],
   "source": [
    "def create_x_video_vectors(x):\n",
    "     return np.expand_dims(x[\"track_id\"].values, axis=0).reshape(1, len(x))\n",
    "\n",
    "    #     return np.repeat(np.expand_dims(x[\"track_id\"].values, axis=0), len(x), axis = 0).reshape(len(x), len(x))\n",
    "\n",
    "print(create_x_video_vectors(data.head(3)))\n",
    "\n",
    "def create_x(x):\n",
    "    return create_x_video_vectors(x)"
   ]
  },
  {
   "cell_type": "code",
   "execution_count": null,
   "metadata": {
    "collapsed": true
   },
   "outputs": [],
   "source": [
    "one_hot = one_hot_encoder(prepared, \"track_id\", vocab_size)\n",
    "\n",
    "def create_y(y):\n",
    "    y = one_hot.transform(np.expand_dims(y[\"track_id\"][y[\"track_id\"].notnull()].values, axis = 1)).toarray()\n",
    "    return y"
   ]
  },
  {
   "cell_type": "code",
   "execution_count": null,
   "metadata": {
    "collapsed": true
   },
   "outputs": [],
   "source": [
    "def train_generator(seq_by_user, x_len = 3):\n",
    "    for ip, group in seq_by_user:\n",
    "        group = group.sort_values(\"timestamp\")\n",
    "        x = create_x(group[0:x_len])\n",
    "        y = create_y(group[x_len:])\n",
    "        yield (x, y)\n",
    "        \n",
    "generation = next(train_generator(extract_sequences_by_user(prepared)))\n",
    "print(generation[0].shape)\n",
    "print(generation[1].shape)"
   ]
  },
  {
   "cell_type": "code",
   "execution_count": 1,
   "metadata": {},
   "outputs": [
    {
     "name": "stdout",
     "output_type": "stream",
     "text": [
      "248868\n"
     ]
    },
    {
     "ename": "NameError",
     "evalue": "name 'keras' is not defined",
     "output_type": "error",
     "traceback": [
      "\u001b[0;31m---------------------------------------------------------------------------\u001b[0m",
      "\u001b[0;31mNameError\u001b[0m                                 Traceback (most recent call last)",
      "\u001b[0;32m<ipython-input-1-133b566c1fe9>\u001b[0m in \u001b[0;36m<module>\u001b[0;34m()\u001b[0m\n\u001b[1;32m      2\u001b[0m \u001b[0mprint\u001b[0m\u001b[0;34m(\u001b[0m\u001b[0mvocab_size\u001b[0m\u001b[0;34m)\u001b[0m\u001b[0;34m\u001b[0m\u001b[0m\n\u001b[1;32m      3\u001b[0m \u001b[0;34m\u001b[0m\u001b[0m\n\u001b[0;32m----> 4\u001b[0;31m \u001b[0memb_input\u001b[0m \u001b[0;34m=\u001b[0m \u001b[0mkeras\u001b[0m\u001b[0;34m.\u001b[0m\u001b[0mlayers\u001b[0m\u001b[0;34m.\u001b[0m\u001b[0mInput\u001b[0m\u001b[0;34m(\u001b[0m\u001b[0mshape\u001b[0m\u001b[0;34m=\u001b[0m\u001b[0;34m(\u001b[0m\u001b[0;36m3\u001b[0m\u001b[0;34m,\u001b[0m\u001b[0;34m)\u001b[0m\u001b[0;34m)\u001b[0m\u001b[0;34m\u001b[0m\u001b[0m\n\u001b[0m\u001b[1;32m      5\u001b[0m \u001b[0;34m\u001b[0m\u001b[0m\n\u001b[1;32m      6\u001b[0m \u001b[0membedding\u001b[0m \u001b[0;34m=\u001b[0m \u001b[0mkeras\u001b[0m\u001b[0;34m.\u001b[0m\u001b[0mlayers\u001b[0m\u001b[0;34m.\u001b[0m\u001b[0mEmbedding\u001b[0m\u001b[0;34m(\u001b[0m\u001b[0mvocab_size\u001b[0m\u001b[0;34m,\u001b[0m \u001b[0;36m100\u001b[0m\u001b[0;34m,\u001b[0m \u001b[0minput_length\u001b[0m\u001b[0;34m=\u001b[0m\u001b[0;36m3\u001b[0m\u001b[0;34m)\u001b[0m\u001b[0;34m(\u001b[0m\u001b[0memb_input\u001b[0m\u001b[0;34m)\u001b[0m\u001b[0;34m\u001b[0m\u001b[0m\n",
      "\u001b[0;31mNameError\u001b[0m: name 'keras' is not defined"
     ]
    }
   ],
   "source": [
    "vocab_size = 248868\n",
    "print(vocab_size)\n",
    "\n",
    "emb_input = keras.layers.Input(shape=(3,))\n",
    "\n",
    "embedding = keras.layers.Embedding(vocab_size, 100, input_length=3)(emb_input)\n",
    "\n",
    "avg = keras.layers.AveragePooling1D(pool_size=1)(embedding)\n",
    "\n",
    "#input_num_cat = keras.layers.Input(shape = num_cat_shape)\n",
    "#concat = keras.layers.Concat(embedding, input_num_cat)\n",
    "# gru_1 = keras.layers.GRU(128, return_sequences=True)(embedding)\n",
    "# gru_2 = keras.layers.GRU(128)(gru_1)\n",
    "dense_1 = keras.layers.Dense(1024, activation = \"tanh\")(avg)\n",
    "dense_2 = keras.layers.Dense(1024, activation = \"tanh\")(dense_1)\n",
    "dense_3 = keras.layers.Dense(1024, activation = \"tanh\")(dense_2)\n",
    "drop = keras.layers.Dropout(0.5)(dense_3)\n",
    "dense_4 = keras.layers.Dense(vocab_size, activation = \"softmax\")(drop)\n",
    "\n",
    "model = keras.models.Model(inputs=emb_input, outputs=dense_4)\n",
    "\n",
    "model.compile(loss='categorical_crossentropy',\n",
    "              optimizer='adam',\n",
    "              metrics=['categorical_accuracy'])\n",
    "\n",
    "model.summary()\n",
    "\n",
    "model.fit_generator(train_generator(extract_sequences_by_user(prepared)), steps_per_epoch=len(prepared), epochs=1, verbose=1)\n",
    "\n"
   ]
  },
  {
   "cell_type": "code",
   "execution_count": null,
   "metadata": {
    "collapsed": true
   },
   "outputs": [],
   "source": []
  }
 ],
 "metadata": {
  "kernelspec": {
   "display_name": "Python 3",
   "language": "python",
   "name": "python3"
  },
  "language_info": {
   "codemirror_mode": {
    "name": "ipython",
    "version": 3
   },
   "file_extension": ".py",
   "mimetype": "text/x-python",
   "name": "python",
   "nbconvert_exporter": "python",
   "pygments_lexer": "ipython3",
   "version": "3.6.3"
  }
 },
 "nbformat": 4,
 "nbformat_minor": 2
}